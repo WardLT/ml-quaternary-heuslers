{
 "cells": [
  {
   "cell_type": "markdown",
   "metadata": {},
   "source": [
    "# Analyze Results from Polymorph Test\n",
    "Given the length of the polymorph test, I have separated the code that runs the test from the code that analyzes the results. This way, you need not re-run the test to re-analyze the results."
   ]
  },
  {
   "cell_type": "code",
   "execution_count": 1,
   "metadata": {
    "collapsed": true
   },
   "outputs": [],
   "source": [
    "%matplotlib inline\n",
    "from matplotlib import pyplot as plt\n",
    "from matplotlib.colors import LogNorm\n",
    "from tqdm import tqdm_notebook as tqdm\n",
    "from scipy.stats import kendalltau\n",
    "from sklearn import metrics\n",
    "import numpy as np\n",
    "import pandas as pd"
   ]
  },
  {
   "cell_type": "code",
   "execution_count": 2,
   "metadata": {
    "collapsed": true
   },
   "outputs": [],
   "source": [
    "fig_width = 3.375\n",
    "fig_height = fig_width * 0.85 # One of the figures is square\n",
    "fontsize = 12"
   ]
  },
  {
   "cell_type": "markdown",
   "metadata": {},
   "source": [
    "## Load in the Data\n",
    "Read in the data from CSV"
   ]
  },
  {
   "cell_type": "code",
   "execution_count": 3,
   "metadata": {},
   "outputs": [
    {
     "name": "stdout",
     "output_type": "stream",
     "text": [
      "Wall time: 6.11 s\n"
     ]
    }
   ],
   "source": [
    "%%time\n",
    "data = pd.read_csv('qh-cv-data.csv')"
   ]
  },
  {
   "cell_type": "markdown",
   "metadata": {},
   "source": [
    "## Analyze the Results\n",
    "Determine how well the ranking performance worked. We will do this two different ways:\n",
    "\n",
    "1. Measure the [Kendall rank correllation coefficient](https://en.wikipedia.org/wiki/Kendall_rank_correlation_coefficient) for each composition where we calculated all three prorotypes. If the algorithm assigns orderings randomly, this score should be zero. \n",
    "\n",
    "2. Measure how often the algorithm is correct. There are 6 possible orderings of three prototypes and only one is correct. If the model assigns ordering randomly, we should get the correct one 1/6<sup>th</sup> of the time."
   ]
  },
  {
   "cell_type": "code",
   "execution_count": 4,
   "metadata": {},
   "outputs": [
    {
     "name": "stdout",
     "output_type": "stream",
     "text": [
      "Evaluated 5813 compositions\n"
     ]
    }
   ],
   "source": [
    "scores = []\n",
    "for gid, group in data.groupby('composition'):\n",
    "    if len(group) != 3:\n",
    "        continue\n",
    "    ## Apply a slight variation so the al\n",
    "    tau = kendalltau(group['class'], group['predicted_class']).correlation\n",
    "    min_stability = group['class'].min()\n",
    "    mean_stability = group['class'].mean()\n",
    "    range_stability = group['class'].max() - group['class'].min()\n",
    "    \n",
    "    scores.append({'composition': gid, 'tau': tau, 'min_stability': min_stability,\n",
    "                  'mean_stability': mean_stability, 'range_stability': range_stability})\n",
    "scores = pd.DataFrame(scores)\n",
    "print('Evaluated %d compositions'%len(scores))"
   ]
  },
  {
   "cell_type": "code",
   "execution_count": 5,
   "metadata": {},
   "outputs": [
    {
     "name": "stdout",
     "output_type": "stream",
     "text": [
      "Mean Kendall Tau: 0.667402233125\n"
     ]
    }
   ],
   "source": [
    "print('Mean Kendall Tau:', scores['tau'].mean())"
   ]
  },
  {
   "cell_type": "code",
   "execution_count": 6,
   "metadata": {},
   "outputs": [
    {
     "name": "stdout",
     "output_type": "stream",
     "text": [
      "Fraction perfect: 0.5673490452434199\n"
     ]
    }
   ],
   "source": [
    "print('Fraction perfect:', float(sum([k>0.99 for k in scores['tau']])) / len(scores))"
   ]
  },
  {
   "cell_type": "markdown",
   "metadata": {},
   "source": [
    "*Finding*: The ranking performance is strong. We find an average Kendall tau of 0.65 and the model predicted the correct order in 56% of cases."
   ]
  },
  {
   "cell_type": "markdown",
   "metadata": {},
   "source": [
    "### Understanding the performance\n",
    "Answering a few questions about the performance of the model on this ranking task"
   ]
  },
  {
   "cell_type": "markdown",
   "metadata": {},
   "source": [
    "#### Is it more difficult to distinguish between polymorphs that are closer in energy?"
   ]
  },
  {
   "cell_type": "code",
   "execution_count": 7,
   "metadata": {},
   "outputs": [
    {
     "data": {
      "text/html": [
       "<div>\n",
       "<style>\n",
       "    .dataframe thead tr:only-child th {\n",
       "        text-align: right;\n",
       "    }\n",
       "\n",
       "    .dataframe thead th {\n",
       "        text-align: left;\n",
       "    }\n",
       "\n",
       "    .dataframe tbody tr th {\n",
       "        vertical-align: top;\n",
       "    }\n",
       "</style>\n",
       "<table border=\"1\" class=\"dataframe\">\n",
       "  <thead>\n",
       "    <tr style=\"text-align: right;\">\n",
       "      <th></th>\n",
       "      <th>quintile</th>\n",
       "      <th>tau</th>\n",
       "    </tr>\n",
       "  </thead>\n",
       "  <tbody>\n",
       "    <tr>\n",
       "      <th>0</th>\n",
       "      <td>0</td>\n",
       "      <td>0.382152</td>\n",
       "    </tr>\n",
       "    <tr>\n",
       "      <th>1</th>\n",
       "      <td>1</td>\n",
       "      <td>0.651386</td>\n",
       "    </tr>\n",
       "    <tr>\n",
       "      <th>2</th>\n",
       "      <td>2</td>\n",
       "      <td>0.732885</td>\n",
       "    </tr>\n",
       "    <tr>\n",
       "      <th>3</th>\n",
       "      <td>3</td>\n",
       "      <td>0.782211</td>\n",
       "    </tr>\n",
       "    <tr>\n",
       "      <th>4</th>\n",
       "      <td>4</td>\n",
       "      <td>0.788280</td>\n",
       "    </tr>\n",
       "  </tbody>\n",
       "</table>\n",
       "</div>"
      ],
      "text/plain": [
       "   quintile       tau\n",
       "0         0  0.382152\n",
       "1         1  0.651386\n",
       "2         2  0.732885\n",
       "3         3  0.782211\n",
       "4         4  0.788280"
      ]
     },
     "execution_count": 7,
     "metadata": {},
     "output_type": "execute_result"
    },
    {
     "data": {
      "image/png": "[encoded data removed]",
      "text/plain": [
       "<matplotlib.figure.Figure at 0x19e9750f438>"
      ]
     },
     "metadata": {},
     "output_type": "display_data"
    }
   ],
   "source": [
    "fig, ax = plt.subplots()\n",
    "\n",
    "n_bins = 5\n",
    "ranges = np.percentile(scores['range_stability'], np.linspace(0, 100, n_bins+1))\n",
    "averages = [scores.query('range_stability >= %f and range_stability <= %f'%(ranges[i], ranges[i+1]))['tau'].mean()\n",
    "            for i in range(n_bins)]\n",
    "\n",
    "ax.bar(range(n_bins), averages)\n",
    "\n",
    "ax.set_xticks(range(n_bins))\n",
    "ax.set_xticklabels('%d'%(i+1) for i in range(n_bins))\n",
    "\n",
    "ax.set_ylabel('Mean Kendall Tau')\n",
    "ax.set_xlabel('Stabilty Range Quintile')\n",
    "\n",
    "pd.DataFrame({'quintile':range(n_bins), 'tau':averages})"
   ]
  },
  {
   "cell_type": "markdown",
   "metadata": {},
   "source": [
    "*Finding*: The ranking performance is worse for compositions with smaller differences between the energies of each polymorph."
   ]
  },
  {
   "cell_type": "markdown",
   "metadata": {},
   "source": [
    "#### How is the ranking pefromance on the more-stable QHs?"
   ]
  },
  {
   "cell_type": "code",
   "execution_count": 8,
   "metadata": {},
   "outputs": [
    {
     "data": {
      "image/png": "[encoded data removed]",
      "text/plain": [
       "<matplotlib.figure.Figure at 0x19e97a4ba20>"
      ]
     },
     "metadata": {},
     "output_type": "display_data"
    }
   ],
   "source": [
    "fig, ax = plt.subplots()\n",
    "\n",
    "n_bins = 5\n",
    "ranges = np.percentile(scores['min_stability'], np.linspace(0, 100, n_bins+1))\n",
    "averages = [scores.query('min_stability >= %f and min_stability <= %f'%(ranges[i], ranges[i+1]))['tau'].mean()\n",
    "            for i in range(n_bins)]\n",
    "\n",
    "ax.bar(range(n_bins), averages)\n",
    "\n",
    "ax.set_xticks(range(n_bins))\n",
    "ax.set_xticklabels('%d'%(i+1) for i in range(n_bins))\n",
    "\n",
    "ax.set_ylabel('Mean Kendall Tau', fontsize=fontsize)\n",
    "ax.set_xlabel('Minimum Stabilty Quintile', fontsize=fontsize)\n",
    "\n",
    "fig.text(0.05,0.95,'(b)')\n",
    "\n",
    "pd.DataFrame({'quintile':range(n_bins), 'tau':averages})\n",
    "\n",
    "fig.set_size_inches(fig_width, fig_height)\n",
    "fig.tight_layout()\n",
    "fig.savefig('tau_by_stability.png', dpi=320)\n",
    "fig.savefig('tau_by_stability.pdf')"
   ]
  },
  {
   "cell_type": "markdown",
   "metadata": {},
   "source": [
    "*Finding*: The ranking performance is not very different for compositions that have more stable polymorphs and those with less table polymorphs. In fact, the ranking performance is strongest for the 1st quintile (i.e., the 20% of compounds with the polymorph that are the most stable)."
   ]
  },
  {
   "cell_type": "markdown",
   "metadata": {
    "collapsed": true
   },
   "source": [
    "## Measure Performance on Whole Dataset\n",
    "Get summary statistics of the performance of the model across the entire test set. We might as well use this opporunity to measure cross-validation scores."
   ]
  },
  {
   "cell_type": "code",
   "execution_count": 9,
   "metadata": {},
   "outputs": [
    {
     "name": "stdout",
     "output_type": "stream",
     "text": [
      "r2_score 0.913784207011\n",
      "mean_absolute_error 0.0532509692277\n",
      "mean_squared_error 0.0055599048129\n"
     ]
    }
   ],
   "source": [
    "for scorer in ['r2_score', 'mean_absolute_error', 'mean_squared_error']:\n",
    "    score = getattr(metrics,scorer)(data['class'], data['predicted_class'])\n",
    "    print(scorer, score)"
   ]
  },
  {
   "cell_type": "markdown",
   "metadata": {},
   "source": [
    "Get some statistics of the measured class to give this context"
   ]
  },
  {
   "cell_type": "code",
   "execution_count": 10,
   "metadata": {},
   "outputs": [
    {
     "name": "stdout",
     "output_type": "stream",
     "text": [
      "Dataset Mean Absolute Deviation: 0.194415245436\n",
      "Dataset Standard Deviation: 0.253945349886\n"
     ]
    }
   ],
   "source": [
    "print('Dataset Mean Absolute Deviation:', np.mean(np.abs(data['class'] - data['class'].mean())))\n",
    "print('Dataset Standard Deviation:', np.std(data['class']))"
   ]
  },
  {
   "cell_type": "markdown",
   "metadata": {},
   "source": [
    "Make a CV parity plot"
   ]
  },
  {
   "cell_type": "code",
   "execution_count": 11,
   "metadata": {},
   "outputs": [
    {
     "data": {
      "image/png": "[encoded data removed]",
      "text/plain": [
       "<matplotlib.figure.Figure at 0x19e97ac8b38>"
      ]
     },
     "metadata": {},
     "output_type": "display_data"
    }
   ],
   "source": [
    "fig, ax = plt.subplots()\n",
    "\n",
    "min_value = min(data['predicted_class'].min(), data['class'].min())\n",
    "max_value = max(data['predicted_class'].max(), data['class'].max())\n",
    "\n",
    "h = ax.hist2d(data['class'], data['predicted_class'], range=[[min_value, max_value],]*2,\n",
    "              norm=LogNorm(), bins=64, cmap='viridis', alpha=0.9)\n",
    "\n",
    "ax.set_xlim([min_value, max_value])\n",
    "ax.set_ylim([min_value, max_value])\n",
    "\n",
    "ax.plot(ax.get_xlim(), ax.get_xlim(), 'k--')\n",
    "fig.colorbar(h[-1], label='Count')\n",
    "\n",
    "ax.set_xlabel('DFT Stability (eV/atom)', fontsize=fontsize)\n",
    "ax.set_ylabel('ML Stability (eV/atom)', fontsize=fontsize)\n",
    "\n",
    "fig.text(0.05,0.95,'(a)')\n",
    "\n",
    "fig.set_size_inches(fig_width, fig_height)\n",
    "fig.tight_layout()\n",
    "fig.savefig('parity_plot.png', dpi=320)\n",
    "fig.savefig('parity_plot.pdf')"
   ]
  },
  {
   "cell_type": "code",
   "execution_count": null,
   "metadata": {
    "collapsed": true
   },
   "outputs": [],
   "source": []
  }
 ],
 "metadata": {
  "kernelspec": {
   "display_name": "Python 3",
   "language": "python",
   "name": "python3"
  },
  "language_info": {
   "codemirror_mode": {
    "name": "ipython",
    "version": 3
   },
   "file_extension": ".py",
   "mimetype": "text/x-python",
   "name": "python",
   "nbconvert_exporter": "python",
   "pygments_lexer": "ipython3",
   "version": "3.6.0"
  }
 },
 "nbformat": 4,
 "nbformat_minor": 2
}
