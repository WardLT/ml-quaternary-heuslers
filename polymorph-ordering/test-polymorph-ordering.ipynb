{
 "cells": [
  {
   "cell_type": "markdown",
   "metadata": {},
   "source": [
    "# Test Energy Ordering\n",
    "Determine whether our machine learning models order polymorphs based on relative stability correctly."
   ]
  },
  {
   "cell_type": "code",
   "execution_count": 1,
   "metadata": {
    "collapsed": true
   },
   "outputs": [],
   "source": [
    "%matplotlib inline\n",
    "from tqdm import tqdm_notebook as tqdm\n",
    "from sklearn.pipeline import Pipeline\n",
    "from sklearn.preprocessing import Imputer\n",
    "from sklearn.ensemble import RandomForestRegressor\n",
    "from sklearn.model_selection import GroupKFold\n",
    "from sklearn import metrics\n",
    "from glob import glob\n",
    "import numpy as np\n",
    "import pandas as pd\n",
    "import json\n",
    "import os"
   ]
  },
  {
   "cell_type": "markdown",
   "metadata": {},
   "source": [
    "## Load in the Data\n",
    "Read in the data from JSON to create a DataFrame"
   ]
  },
  {
   "cell_type": "code",
   "execution_count": 2,
   "metadata": {
    "collapsed": true
   },
   "outputs": [],
   "source": [
    "def load_data(path):\n",
    "    \"\"\"Read in a JSON file from disk, and return a DataFrame\"\"\"\n",
    "    \n",
    "    temp = json.load(open(path))\n",
    "    data = pd.DataFrame(temp['entries']).drop(['properties', 'poscar', 'name'], axis='columns')\n",
    "    data['class'] = data['class'].apply(lambda x: x['measured'])\n",
    "    data = data[~data['class'].isnull()]\n",
    "    return data"
   ]
  },
  {
   "cell_type": "code",
   "execution_count": 3,
   "metadata": {},
   "outputs": [
    {
     "name": "stdout",
     "output_type": "stream",
     "text": [
      "CPU times: user 29.7 s, sys: 1.2 s, total: 30.9 s\n",
      "Wall time: 55.2 s\n"
     ]
    }
   ],
   "source": [
    "%%time\n",
    "data = dict([(os.path.basename(name)[:-5], load_data(name)) for name in glob(os.path.join('..', 'datasets', '*.json'))])"
   ]
  },
  {
   "cell_type": "markdown",
   "metadata": {},
   "source": [
    "## Run the Test\n",
    "Our test is going to work by witholding all 3 polymorphs at a certain composition in the test set, training a model on the remaining data, and then assessing how well it ranked the polymorphs. As we have ~30k unique composition, we are going to hold out 10% of the compositions at one time"
   ]
  },
  {
   "cell_type": "code",
   "execution_count": 4,
   "metadata": {
    "collapsed": true
   },
   "outputs": [],
   "source": [
    "model = Pipeline([\n",
    "    ('imputer', Imputer()),\n",
    "    ('rf', RandomForestRegressor(n_estimators=100, n_jobs=-1)),\n",
    "])"
   ]
  },
  {
   "cell_type": "code",
   "execution_count": 5,
   "metadata": {
    "collapsed": true
   },
   "outputs": [],
   "source": [
    "data['quat-heuslers']['predicted_class'] = np.ones_like(data['quat-heuslers']['class'])"
   ]
  },
  {
   "cell_type": "code",
   "execution_count": 6,
   "metadata": {},
   "outputs": [
    {
     "data": {
      "application/vnd.jupyter.widget-view+json": {
       "model_id": "7816f22c07b3430593cb081bcf937d95",
       "version_major": 2,
       "version_minor": 0
      },
      "text/html": [
       "<p>Failed to display Jupyter Widget of type <code>HBox</code>.</p>\n",
       "<p>\n",
       "  If you're reading this message in the Jupyter Notebook or JupyterLab Notebook, it may mean\n",
       "  that the widgets JavaScript is still loading. If this message persists, it\n",
       "  likely means that the widgets JavaScript library is either not installed or\n",
       "  not enabled. See the <a href=\"https://ipywidgets.readthedocs.io/en/stable/user_install.html\">Jupyter\n",
       "  Widgets Documentation</a> for setup instructions.\n",
       "</p>\n",
       "<p>\n",
       "  If you're reading this message in another frontend (for example, a static\n",
       "  rendering on GitHub or <a href=\"https://nbviewer.jupyter.org/\">NBViewer</a>),\n",
       "  it may mean that your frontend doesn't currently support widgets.\n",
       "</p>\n"
      ],
      "text/plain": [
       "HBox(children=(IntProgress(value=1, bar_style='info', max=1), HTML(value='')))"
      ]
     },
     "metadata": {},
     "output_type": "display_data"
    },
    {
     "name": "stdout",
     "output_type": "stream",
     "text": [
      "\n",
      "CPU times: user 22h 35min 55s, sys: 41.4 s, total: 22h 36min 36s\n",
      "Wall time: 5h 50min 39s\n"
     ]
    }
   ],
   "source": [
    "%%time\n",
    "training_set_sizes = []\n",
    "for train_ind, test_ind in tqdm(GroupKFold(n_splits=10).split(data['quat-heuslers']['attributes'].tolist(),\n",
    "                                                              data['quat-heuslers']['class'],\n",
    "                                                              data['quat-heuslers']['composition'])):\n",
    "    # Get the QH dataset\n",
    "    qh_train = data['quat-heuslers'].loc[train_ind]\n",
    "    training_set_sizes.append(len(qh_train))\n",
    "    qh_test = data['quat-heuslers'].loc[test_ind]\n",
    "    \n",
    "    # Append rest of OQMD to QH training set\n",
    "    train_data = pd.concat([qh_train, data['oqmd-no-heusler'], data['heuslers']])\n",
    "    train_X = np.array(train_data['attributes'].tolist(), dtype=np.float32)\n",
    "    test_X = np.array(qh_test['attributes'].tolist(), dtype=np.float32)\n",
    "    \n",
    "    # Train and test the model\n",
    "    model.fit(train_X, train_data['class'])\n",
    "    data['quat-heuslers'].loc[qh_test.index, 'predicted_class'] = model.predict(test_X)"
   ]
  },
  {
   "cell_type": "code",
   "execution_count": 7,
   "metadata": {},
   "outputs": [
    {
     "name": "stdout",
     "output_type": "stream",
     "text": [
      "Training sets, on averaged, included 86569 QH entries.\n"
     ]
    }
   ],
   "source": [
    "print('Training sets, on averaged, included %d QH entries.'%np.mean(training_set_sizes))"
   ]
  },
  {
   "cell_type": "markdown",
   "metadata": {},
   "source": [
    "## Save Results to Disk\n",
    "Save results to disk for later analysis"
   ]
  },
  {
   "cell_type": "code",
   "execution_count": 8,
   "metadata": {},
   "outputs": [],
   "source": [
    "data['quat-heuslers'].to_csv('qh-cv-data.csv', index=False)"
   ]
  },
  {
   "cell_type": "code",
   "execution_count": 9,
   "metadata": {
    "collapsed": true
   },
   "outputs": [],
   "source": []
  }
 ],
 "metadata": {
  "kernelspec": {
   "display_name": "Python 3",
   "language": "python",
   "name": "python3"
  },
  "language_info": {
   "codemirror_mode": {
    "name": "ipython",
    "version": 3
   },
   "file_extension": ".py",
   "mimetype": "text/x-python",
   "name": "python",
   "nbconvert_exporter": "python",
   "pygments_lexer": "ipython3",
   "version": "3.6.0"
  }
 },
 "nbformat": 4,
 "nbformat_minor": 2
}
