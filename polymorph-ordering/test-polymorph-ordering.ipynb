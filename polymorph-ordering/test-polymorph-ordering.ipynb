{
 "cells": [
  {
   "cell_type": "markdown",
   "metadata": {},
   "source": [
    "# Test Energy Ordering\n",
    "Determine whether our machine learning models order polymorphs based on relative stability correctly."
   ]
  },
  {
   "cell_type": "code",
   "execution_count": 11,
   "metadata": {},
   "outputs": [],
   "source": [
    "%matplotlib inline\n",
    "from matplotlib import pyplot as plt\n",
    "from tqdm import tqdm_notebook as tqdm\n",
    "from sklearn.pipeline import Pipeline\n",
    "from sklearn.preprocessing import Imputer\n",
    "from sklearn.ensemble import RandomForestRegressor\n",
    "from sklearn.model_selection import GroupKFold\n",
    "from scipy.stats import kendalltau\n",
    "from glob import glob\n",
    "import numpy as np\n",
    "import pandas as pd\n",
    "import json\n",
    "import os"
   ]
  },
  {
   "cell_type": "markdown",
   "metadata": {},
   "source": [
    "## Load in the Data\n",
    "Read in the data from JSON to create a DataFrame"
   ]
  },
  {
   "cell_type": "code",
   "execution_count": 2,
   "metadata": {
    "collapsed": true
   },
   "outputs": [],
   "source": [
    "def load_data(path):\n",
    "    \"\"\"Read in a JSON file from disk, and return a DataFrame\"\"\"\n",
    "    \n",
    "    temp = json.load(open(path))\n",
    "    data = pd.DataFrame(temp['entries']).drop(['properties', 'poscar', 'name'], axis='columns')\n",
    "    data['class'] = data['class'].apply(lambda x: x['measured'])\n",
    "    data = data[~data['class'].isnull()]\n",
    "    return data"
   ]
  },
  {
   "cell_type": "code",
   "execution_count": 3,
   "metadata": {},
   "outputs": [
    {
     "name": "stdout",
     "output_type": "stream",
     "text": [
      "CPU times: user 42.3 s, sys: 2.25 s, total: 44.5 s\n",
      "Wall time: 45.4 s\n"
     ]
    }
   ],
   "source": [
    "%%time\n",
    "data = dict([(os.path.basename(name)[:-5], load_data(name)) for name in glob(os.path.join('..', 'datasets', '*.json'))])"
   ]
  },
  {
   "cell_type": "markdown",
   "metadata": {},
   "source": [
    "## Run the Test\n",
    "Our test is going to work by witholding all 3 polymorphs at a certain composition in the test set, training a model on the remaining data, and then assessing how well it ranked the polymorphs. As we have ~30k unique composition, we are going to hold out 10% of the compositions at one time"
   ]
  },
  {
   "cell_type": "code",
   "execution_count": 13,
   "metadata": {},
   "outputs": [],
   "source": [
    "model = Pipeline([\n",
    "    ('imputer', Imputer()),\n",
    "    ('rf', RandomForestRegressor(n_estimators=100, n_jobs=-1)),\n",
    "])"
   ]
  },
  {
   "cell_type": "code",
   "execution_count": 14,
   "metadata": {
    "collapsed": true
   },
   "outputs": [],
   "source": [
    "data['quat-heuslers']['predicted_class'] = np.ones_like(data['quat-heuslers']['class'])"
   ]
  },
  {
   "cell_type": "code",
   "execution_count": null,
   "metadata": {},
   "outputs": [
    {
     "data": {
      "application/vnd.jupyter.widget-view+json": {
       "model_id": "462aa20780ba4c5891e44d015bc350bc"
      }
     },
     "metadata": {},
     "output_type": "display_data"
    },
    {
     "name": "stdout",
     "output_type": "stream",
     "text": [
      "\n",
      "\n"
     ]
    }
   ],
   "source": [
    "for train_ind, test_ind in tqdm(GroupKFold(n_splits=10).split(data['quat-heuslers']['attributes'].tolist(),\n",
    "                                                              data['quat-heuslers']['class'],\n",
    "                                                              data['quat-heuslers']['composition'])):\n",
    "    # Get the QH dataset\n",
    "    qh_train = data['quat-heuslers'].loc[train_ind]\n",
    "    qh_test = data['quat-heuslers'].loc[test_ind]\n",
    "    \n",
    "    # Append rest of OQMD to QH training set\n",
    "    train_data = pd.concat([qh_train, data['oqmd-no-heusler'], data['heuslers']])\n",
    "    train_X = np.array(train_data['attributes'].tolist(), dtype=np.float32)\n",
    "    test_X = np.array(qh_test['attributes'].tolist(), dtype=np.float32)\n",
    "    \n",
    "    # Train and test the model\n",
    "    model.fit(train_X, train_data['class'])\n",
    "    data['quat-heuslers'].loc[qh_test.index, 'predicted_class'] = model.predict(test_X)"
   ]
  },
  {
   "cell_type": "markdown",
   "metadata": {},
   "source": [
    "## Analyze the Results\n",
    "Determine how well the ranking performance worked. We will do this two different ways:\n",
    "\n",
    "1. Measure the [Kendall rank correllation coefficient](https://en.wikipedia.org/wiki/Kendall_rank_correlation_coefficient) for each composition where we calculated all three prorotypes. If the algorithm assigns orderings randomly, this score should be zero. \n",
    "\n",
    "2. Measure how often the algorithm is correct. There are 6 possible orderings of three prototypes and only one is correct. If the model assigns ordering randomly, we should get the correct one 1/6<sup>th</sup> of the time."
   ]
  },
  {
   "cell_type": "code",
   "execution_count": 23,
   "metadata": {},
   "outputs": [
    {
     "name": "stdout",
     "output_type": "stream",
     "text": [
      "Evaluated 5813 compositions\n"
     ]
    }
   ],
   "source": [
    "scores = []\n",
    "for gid, group in data['quat-heuslers'].groupby('composition'):\n",
    "    if len(group) != 3:\n",
    "        continue\n",
    "    ## Apply a slight variation so the al\n",
    "    tau = kendalltau(group['class'], group['predicted_class']).correlation\n",
    "    min_stability = group['class'].min()\n",
    "    mean_stability = group['class'].mean()\n",
    "    range_stability = group['class'].max() - group['class'].min()\n",
    "    \n",
    "    scores.append({'composition': gid, 'tau': tau, 'min_stability': min_stability,\n",
    "                  'mean_stability': mean_stability, 'range_stability': range_stability})\n",
    "scores = pd.DataFrame(scores)\n",
    "print('Evaluated %d compositions'%len(scores))"
   ]
  },
  {
   "cell_type": "code",
   "execution_count": 24,
   "metadata": {},
   "outputs": [
    {
     "name": "stdout",
     "output_type": "stream",
     "text": [
      "Mean Kendall Tau: 0.65373207561\n"
     ]
    }
   ],
   "source": [
    "print('Mean Kendall Tau:', scores['tau'].mean())"
   ]
  },
  {
   "cell_type": "code",
   "execution_count": 25,
   "metadata": {},
   "outputs": [
    {
     "name": "stdout",
     "output_type": "stream",
     "text": [
      "Fraction perfect: 0.5587476346120763\n"
     ]
    }
   ],
   "source": [
    "print('Fraction perfect:', float(sum([k>0.99 for k in scores['tau']])) / len(scores))"
   ]
  },
  {
   "cell_type": "markdown",
   "metadata": {},
   "source": [
    "*Finding*: The ranking performance is strong. We find an average Kendall tau of 0.65 and the model predicted the correct order in 56% of cases."
   ]
  },
  {
   "cell_type": "markdown",
   "metadata": {},
   "source": [
    "### Understanding the performance\n",
    "Answering a few questions about the performance of the model on this ranking task"
   ]
  },
  {
   "cell_type": "markdown",
   "metadata": {},
   "source": [
    "#### Is it more difficult to distinguish between polymorphs that are closer in energy?"
   ]
  },
  {
   "cell_type": "code",
   "execution_count": 55,
   "metadata": {},
   "outputs": [
    {
     "data": {
      "text/html": [
       "<div>\n",
       "<style>\n",
       "    .dataframe thead tr:only-child th {\n",
       "        text-align: right;\n",
       "    }\n",
       "\n",
       "    .dataframe thead th {\n",
       "        text-align: left;\n",
       "    }\n",
       "\n",
       "    .dataframe tbody tr th {\n",
       "        vertical-align: top;\n",
       "    }\n",
       "</style>\n",
       "<table border=\"1\" class=\"dataframe\">\n",
       "  <thead>\n",
       "    <tr style=\"text-align: right;\">\n",
       "      <th></th>\n",
       "      <th>quintile</th>\n",
       "      <th>tau</th>\n",
       "    </tr>\n",
       "  </thead>\n",
       "  <tbody>\n",
       "    <tr>\n",
       "      <th>0</th>\n",
       "      <td>0</td>\n",
       "      <td>0.347803</td>\n",
       "    </tr>\n",
       "    <tr>\n",
       "      <th>1</th>\n",
       "      <td>1</td>\n",
       "      <td>0.627290</td>\n",
       "    </tr>\n",
       "    <tr>\n",
       "      <th>2</th>\n",
       "      <td>2</td>\n",
       "      <td>0.723655</td>\n",
       "    </tr>\n",
       "    <tr>\n",
       "      <th>3</th>\n",
       "      <td>3</td>\n",
       "      <td>0.776532</td>\n",
       "    </tr>\n",
       "    <tr>\n",
       "      <th>4</th>\n",
       "      <td>4</td>\n",
       "      <td>0.793286</td>\n",
       "    </tr>\n",
       "  </tbody>\n",
       "</table>\n",
       "</div>"
      ],
      "text/plain": [
       "   quintile       tau\n",
       "0         0  0.347803\n",
       "1         1  0.627290\n",
       "2         2  0.723655\n",
       "3         3  0.776532\n",
       "4         4  0.793286"
      ]
     },
     "execution_count": 55,
     "metadata": {},
     "output_type": "execute_result"
    },
    {
     "data": {
      "image/png": "[encoded data removed]",
      "text/plain": [
       "<matplotlib.figure.Figure at 0x7f1c3cfeaac8>"
      ]
     },
     "metadata": {},
     "output_type": "display_data"
    }
   ],
   "source": [
    "fig, ax = plt.subplots()\n",
    "\n",
    "n_bins = 5\n",
    "ranges = np.percentile(scores['range_stability'], np.linspace(0, 100, n_bins+1))\n",
    "averages = [scores.query('range_stability >= %f and range_stability <= %f'%(ranges[i], ranges[i+1]))['tau'].mean()\n",
    "            for i in range(n_bins)]\n",
    "\n",
    "ax.bar(range(n_bins), averages)\n",
    "\n",
    "ax.set_xticks(range(n_bins))\n",
    "ax.set_xticklabels('%d'%(i+1) for i in range(n_bins))\n",
    "\n",
    "ax.set_ylabel('Mean Kendall Tau')\n",
    "ax.set_xlabel('Stabilty Range Quintile')\n",
    "\n",
    "pd.DataFrame({'quintile':range(n_bins), 'tau':averages})"
   ]
  },
  {
   "cell_type": "markdown",
   "metadata": {},
   "source": [
    "*Finding*: The ranking performance is worse for compositions with smaller differenes between the energies of each polymorph."
   ]
  },
  {
   "cell_type": "markdown",
   "metadata": {},
   "source": [
    "#### How is the ranking pefromance on the more-stable QHs?"
   ]
  },
  {
   "cell_type": "code",
   "execution_count": 57,
   "metadata": {},
   "outputs": [
    {
     "data": {
      "text/html": [
       "<div>\n",
       "<style>\n",
       "    .dataframe thead tr:only-child th {\n",
       "        text-align: right;\n",
       "    }\n",
       "\n",
       "    .dataframe thead th {\n",
       "        text-align: left;\n",
       "    }\n",
       "\n",
       "    .dataframe tbody tr th {\n",
       "        vertical-align: top;\n",
       "    }\n",
       "</style>\n",
       "<table border=\"1\" class=\"dataframe\">\n",
       "  <thead>\n",
       "    <tr style=\"text-align: right;\">\n",
       "      <th></th>\n",
       "      <th>quintile</th>\n",
       "      <th>tau</th>\n",
       "    </tr>\n",
       "  </thead>\n",
       "  <tbody>\n",
       "    <tr>\n",
       "      <th>0</th>\n",
       "      <td>0</td>\n",
       "      <td>0.736798</td>\n",
       "    </tr>\n",
       "    <tr>\n",
       "      <th>1</th>\n",
       "      <td>1</td>\n",
       "      <td>0.666103</td>\n",
       "    </tr>\n",
       "    <tr>\n",
       "      <th>2</th>\n",
       "      <td>2</td>\n",
       "      <td>0.638144</td>\n",
       "    </tr>\n",
       "    <tr>\n",
       "      <th>3</th>\n",
       "      <td>3</td>\n",
       "      <td>0.595248</td>\n",
       "    </tr>\n",
       "    <tr>\n",
       "      <th>4</th>\n",
       "      <td>4</td>\n",
       "      <td>0.632011</td>\n",
       "    </tr>\n",
       "  </tbody>\n",
       "</table>\n",
       "</div>"
      ],
      "text/plain": [
       "   quintile       tau\n",
       "0         0  0.736798\n",
       "1         1  0.666103\n",
       "2         2  0.638144\n",
       "3         3  0.595248\n",
       "4         4  0.632011"
      ]
     },
     "execution_count": 57,
     "metadata": {},
     "output_type": "execute_result"
    },
    {
     "data": {
      "image/png": "[encoded data removed]",
      "text/plain": [
       "<matplotlib.figure.Figure at 0x7f1c04fda908>"
      ]
     },
     "metadata": {},
     "output_type": "display_data"
    }
   ],
   "source": [
    "fig, ax = plt.subplots()\n",
    "\n",
    "n_bins = 5\n",
    "ranges = np.percentile(scores['min_stability'], np.linspace(0, 100, n_bins+1))\n",
    "averages = [scores.query('min_stability >= %f and min_stability <= %f'%(ranges[i], ranges[i+1]))['tau'].mean()\n",
    "            for i in range(n_bins)]\n",
    "\n",
    "ax.bar(range(n_bins), averages)\n",
    "\n",
    "ax.set_xticks(range(n_bins))\n",
    "ax.set_xticklabels('%d'%(i+1) for i in range(n_bins))\n",
    "\n",
    "ax.set_ylabel('Mean Kendall Tau')\n",
    "ax.set_xlabel('Minimum Stabilty Quintile')\n",
    "\n",
    "pd.DataFrame({'quintile':range(n_bins), 'tau':averages})"
   ]
  },
  {
   "cell_type": "markdown",
   "metadata": {},
   "source": [
    "*Finding*: The ranking performance is not very different for compositions that have more stable polymorphs and those with less table polymorphs. In fact, the ranking performance is strongest for the 1st quintile (i.e., the 20% of compounds with the polymorph that are the most stable)."
   ]
  },
  {
   "cell_type": "code",
   "execution_count": null,
   "metadata": {
    "collapsed": true
   },
   "outputs": [],
   "source": []
  }
 ],
 "metadata": {
  "kernelspec": {
   "display_name": "Python 3",
   "language": "python",
   "name": "python3"
  },
  "language_info": {
   "codemirror_mode": {
    "name": "ipython",
    "version": 3
   },
   "file_extension": ".py",
   "mimetype": "text/x-python",
   "name": "python",
   "nbconvert_exporter": "python",
   "pygments_lexer": "ipython3",
   "version": "3.6.0"
  }
 },
 "nbformat": 4,
 "nbformat_minor": 2
}
