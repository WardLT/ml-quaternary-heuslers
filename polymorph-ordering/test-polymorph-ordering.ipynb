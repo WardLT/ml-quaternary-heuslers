{
 "cells": [
  {
   "cell_type": "markdown",
   "metadata": {},
   "source": [
    "# Test Energy Ordering\n",
    "Determine whether our machine learning models order polymorphs based on relative stability correctly."
   ]
  },
  {
   "cell_type": "code",
   "execution_count": 18,
   "metadata": {
    "collapsed": true
   },
   "outputs": [],
   "source": [
    "%matplotlib inline\n",
    "from matplotlib import pyplot as plt\n",
    "from matplotlib.colors import LogNorm\n",
    "from tqdm import tqdm_notebook as tqdm\n",
    "from sklearn.pipeline import Pipeline\n",
    "from sklearn.preprocessing import Imputer\n",
    "from sklearn.ensemble import RandomForestRegressor\n",
    "from sklearn.model_selection import GroupKFold\n",
    "from sklearn import metrics\n",
    "from scipy.stats import kendalltau\n",
    "from glob import glob\n",
    "import numpy as np\n",
    "import pandas as pd\n",
    "import json\n",
    "import os"
   ]
  },
  {
   "cell_type": "markdown",
   "metadata": {},
   "source": [
    "## Load in the Data\n",
    "Read in the data from JSON to create a DataFrame"
   ]
  },
  {
   "cell_type": "code",
   "execution_count": 2,
   "metadata": {
    "collapsed": true
   },
   "outputs": [],
   "source": [
    "def load_data(path):\n",
    "    \"\"\"Read in a JSON file from disk, and return a DataFrame\"\"\"\n",
    "    \n",
    "    temp = json.load(open(path))\n",
    "    data = pd.DataFrame(temp['entries']).drop(['properties', 'poscar', 'name'], axis='columns')\n",
    "    data['class'] = data['class'].apply(lambda x: x['measured'])\n",
    "    data = data[~data['class'].isnull()]\n",
    "    return data"
   ]
  },
  {
   "cell_type": "code",
   "execution_count": 3,
   "metadata": {},
   "outputs": [
    {
     "name": "stdout",
     "output_type": "stream",
     "text": [
      "CPU times: user 43.8 s, sys: 2.07 s, total: 45.9 s\n",
      "Wall time: 45.8 s\n"
     ]
    }
   ],
   "source": [
    "%%time\n",
    "data = dict([(os.path.basename(name)[:-5], load_data(name)) for name in glob(os.path.join('..', 'datasets', '*.json'))])"
   ]
  },
  {
   "cell_type": "markdown",
   "metadata": {},
   "source": [
    "## Run the Test\n",
    "Our test is going to work by witholding all 3 polymorphs at a certain composition in the test set, training a model on the remaining data, and then assessing how well it ranked the polymorphs. As we have ~30k unique composition, we are going to hold out 10% of the compositions at one time"
   ]
  },
  {
   "cell_type": "code",
   "execution_count": 4,
   "metadata": {
    "collapsed": true
   },
   "outputs": [],
   "source": [
    "model = Pipeline([\n",
    "    ('imputer', Imputer()),\n",
    "    ('rf', RandomForestRegressor(n_estimators=100, n_jobs=-1)),\n",
    "])"
   ]
  },
  {
   "cell_type": "code",
   "execution_count": null,
   "metadata": {
    "collapsed": true
   },
   "outputs": [],
   "source": [
    "data['quat-heuslers']['predicted_class'] = np.ones_like(data['quat-heuslers']['class'])"
   ]
  },
  {
   "cell_type": "code",
   "execution_count": null,
   "metadata": {},
   "outputs": [
    {
     "data": {
      "application/vnd.jupyter.widget-view+json": {
       "model_id": "95308fb999304c29b86481a2093b6915"
      }
     },
     "metadata": {},
     "output_type": "display_data"
    },
    {
     "name": "stdout",
     "output_type": "stream",
     "text": [
      "\n"
     ]
    }
   ],
   "source": [
    "for train_ind, test_ind in tqdm(GroupKFold(n_splits=10).split(data['quat-heuslers']['attributes'].tolist(),\n",
    "                                                              data['quat-heuslers']['class'],\n",
    "                                                              data['quat-heuslers']['composition'])):\n",
    "    # Get the QH dataset\n",
    "    qh_train = data['quat-heuslers'].loc[train_ind]\n",
    "    qh_test = data['quat-heuslers'].loc[test_ind]\n",
    "    \n",
    "    # Append rest of OQMD to QH training set\n",
    "    train_data = pd.concat([qh_train, data['oqmd-no-heusler'], data['heuslers']])\n",
    "    train_X = np.array(train_data['attributes'].tolist(), dtype=np.float32)\n",
    "    test_X = np.array(qh_test['attributes'].tolist(), dtype=np.float32)\n",
    "    \n",
    "    # Train and test the model\n",
    "    model.fit(train_X, train_data['class'])\n",
    "    data['quat-heuslers'].loc[qh_test.index, 'predicted_class'] = model.predict(test_X)"
   ]
  },
  {
   "cell_type": "markdown",
   "metadata": {},
   "source": [
    "## Analyze the Results\n",
    "Determine how well the ranking performance worked. We will do this two different ways:\n",
    "\n",
    "1. Measure the [Kendall rank correllation coefficient](https://en.wikipedia.org/wiki/Kendall_rank_correlation_coefficient) for each composition where we calculated all three prorotypes. If the algorithm assigns orderings randomly, this score should be zero. \n",
    "\n",
    "2. Measure how often the algorithm is correct. There are 6 possible orderings of three prototypes and only one is correct. If the model assigns ordering randomly, we should get the correct one 1/6<sup>th</sup> of the time."
   ]
  },
  {
   "cell_type": "code",
   "execution_count": 12,
   "metadata": {},
   "outputs": [
    {
     "name": "stdout",
     "output_type": "stream",
     "text": [
      "Evaluated 5813 compositions\n"
     ]
    }
   ],
   "source": [
    "scores = []\n",
    "for gid, group in data['quat-heuslers'].groupby('composition'):\n",
    "    if len(group) != 3:\n",
    "        continue\n",
    "    ## Apply a slight variation so the al\n",
    "    tau = kendalltau(group['class'], group['predicted_class']).correlation\n",
    "    min_stability = group['class'].min()\n",
    "    mean_stability = group['class'].mean()\n",
    "    range_stability = group['class'].max() - group['class'].min()\n",
    "    \n",
    "    scores.append({'composition': gid, 'tau': tau, 'min_stability': min_stability,\n",
    "                  'mean_stability': mean_stability, 'range_stability': range_stability})\n",
    "scores = pd.DataFrame(scores)\n",
    "print('Evaluated %d compositions'%len(scores))"
   ]
  },
  {
   "cell_type": "code",
   "execution_count": 13,
   "metadata": {},
   "outputs": [
    {
     "name": "stdout",
     "output_type": "stream",
     "text": [
      "Mean Kendall Tau: 0.656733880142\n"
     ]
    }
   ],
   "source": [
    "print('Mean Kendall Tau:', scores['tau'].mean())"
   ]
  },
  {
   "cell_type": "code",
   "execution_count": 14,
   "metadata": {},
   "outputs": [
    {
     "name": "stdout",
     "output_type": "stream",
     "text": [
      "Fraction perfect: 0.5656287631171513\n"
     ]
    }
   ],
   "source": [
    "print('Fraction perfect:', float(sum([k>0.99 for k in scores['tau']])) / len(scores))"
   ]
  },
  {
   "cell_type": "markdown",
   "metadata": {},
   "source": [
    "*Finding*: The ranking performance is strong. We find an average Kendall tau of 0.65 and the model predicted the correct order in 56% of cases."
   ]
  },
  {
   "cell_type": "markdown",
   "metadata": {},
   "source": [
    "### Understanding the performance\n",
    "Answering a few questions about the performance of the model on this ranking task"
   ]
  },
  {
   "cell_type": "markdown",
   "metadata": {},
   "source": [
    "#### Is it more difficult to distinguish between polymorphs that are closer in energy?"
   ]
  },
  {
   "cell_type": "code",
   "execution_count": 15,
   "metadata": {},
   "outputs": [
    {
     "data": {
      "text/html": [
       "<div>\n",
       "<style>\n",
       "    .dataframe thead tr:only-child th {\n",
       "        text-align: right;\n",
       "    }\n",
       "\n",
       "    .dataframe thead th {\n",
       "        text-align: left;\n",
       "    }\n",
       "\n",
       "    .dataframe tbody tr th {\n",
       "        vertical-align: top;\n",
       "    }\n",
       "</style>\n",
       "<table border=\"1\" class=\"dataframe\">\n",
       "  <thead>\n",
       "    <tr style=\"text-align: right;\">\n",
       "      <th></th>\n",
       "      <th>quintile</th>\n",
       "      <th>tau</th>\n",
       "    </tr>\n",
       "  </thead>\n",
       "  <tbody>\n",
       "    <tr>\n",
       "      <th>0</th>\n",
       "      <td>0</td>\n",
       "      <td>0.370301</td>\n",
       "    </tr>\n",
       "    <tr>\n",
       "      <th>1</th>\n",
       "      <td>1</td>\n",
       "      <td>0.633343</td>\n",
       "    </tr>\n",
       "    <tr>\n",
       "      <th>2</th>\n",
       "      <td>2</td>\n",
       "      <td>0.712406</td>\n",
       "    </tr>\n",
       "    <tr>\n",
       "      <th>3</th>\n",
       "      <td>3</td>\n",
       "      <td>0.766778</td>\n",
       "    </tr>\n",
       "    <tr>\n",
       "      <th>4</th>\n",
       "      <td>4</td>\n",
       "      <td>0.801318</td>\n",
       "    </tr>\n",
       "  </tbody>\n",
       "</table>\n",
       "</div>"
      ],
      "text/plain": [
       "   quintile       tau\n",
       "0         0  0.370301\n",
       "1         1  0.633343\n",
       "2         2  0.712406\n",
       "3         3  0.766778\n",
       "4         4  0.801318"
      ]
     },
     "execution_count": 15,
     "metadata": {},
     "output_type": "execute_result"
    },
    {
     "data": {
      "image/png": "[encoded data removed]",
      "text/plain": [
       "<matplotlib.figure.Figure at 0x7f161c5fe5f8>"
      ]
     },
     "metadata": {},
     "output_type": "display_data"
    }
   ],
   "source": [
    "fig, ax = plt.subplots()\n",
    "\n",
    "n_bins = 5\n",
    "ranges = np.percentile(scores['range_stability'], np.linspace(0, 100, n_bins+1))\n",
    "averages = [scores.query('range_stability >= %f and range_stability <= %f'%(ranges[i], ranges[i+1]))['tau'].mean()\n",
    "            for i in range(n_bins)]\n",
    "\n",
    "ax.bar(range(n_bins), averages)\n",
    "\n",
    "ax.set_xticks(range(n_bins))\n",
    "ax.set_xticklabels('%d'%(i+1) for i in range(n_bins))\n",
    "\n",
    "ax.set_ylabel('Mean Kendall Tau')\n",
    "ax.set_xlabel('Stabilty Range Quintile')\n",
    "\n",
    "pd.DataFrame({'quintile':range(n_bins), 'tau':averages})"
   ]
  },
  {
   "cell_type": "markdown",
   "metadata": {},
   "source": [
    "*Finding*: The ranking performance is worse for compositions with smaller differences between the energies of each polymorph."
   ]
  },
  {
   "cell_type": "markdown",
   "metadata": {},
   "source": [
    "#### How is the ranking pefromance on the more-stable QHs?"
   ]
  },
  {
   "cell_type": "code",
   "execution_count": 16,
   "metadata": {},
   "outputs": [
    {
     "data": {
      "text/html": [
       "<div>\n",
       "<style>\n",
       "    .dataframe thead tr:only-child th {\n",
       "        text-align: right;\n",
       "    }\n",
       "\n",
       "    .dataframe thead th {\n",
       "        text-align: left;\n",
       "    }\n",
       "\n",
       "    .dataframe tbody tr th {\n",
       "        vertical-align: top;\n",
       "    }\n",
       "</style>\n",
       "<table border=\"1\" class=\"dataframe\">\n",
       "  <thead>\n",
       "    <tr style=\"text-align: right;\">\n",
       "      <th></th>\n",
       "      <th>quintile</th>\n",
       "      <th>tau</th>\n",
       "    </tr>\n",
       "  </thead>\n",
       "  <tbody>\n",
       "    <tr>\n",
       "      <th>0</th>\n",
       "      <td>0</td>\n",
       "      <td>0.731738</td>\n",
       "    </tr>\n",
       "    <tr>\n",
       "      <th>1</th>\n",
       "      <td>1</td>\n",
       "      <td>0.671267</td>\n",
       "    </tr>\n",
       "    <tr>\n",
       "      <th>2</th>\n",
       "      <td>2</td>\n",
       "      <td>0.637771</td>\n",
       "    </tr>\n",
       "    <tr>\n",
       "      <th>3</th>\n",
       "      <td>3</td>\n",
       "      <td>0.590516</td>\n",
       "    </tr>\n",
       "    <tr>\n",
       "      <th>4</th>\n",
       "      <td>4</td>\n",
       "      <td>0.652034</td>\n",
       "    </tr>\n",
       "  </tbody>\n",
       "</table>\n",
       "</div>"
      ],
      "text/plain": [
       "   quintile       tau\n",
       "0         0  0.731738\n",
       "1         1  0.671267\n",
       "2         2  0.637771\n",
       "3         3  0.590516\n",
       "4         4  0.652034"
      ]
     },
     "execution_count": 16,
     "metadata": {},
     "output_type": "execute_result"
    },
    {
     "data": {
      "image/png": "[encoded data removed]",
      "text/plain": [
       "<matplotlib.figure.Figure at 0x7f15ec9367f0>"
      ]
     },
     "metadata": {},
     "output_type": "display_data"
    }
   ],
   "source": [
    "fig, ax = plt.subplots()\n",
    "\n",
    "n_bins = 5\n",
    "ranges = np.percentile(scores['min_stability'], np.linspace(0, 100, n_bins+1))\n",
    "averages = [scores.query('min_stability >= %f and min_stability <= %f'%(ranges[i], ranges[i+1]))['tau'].mean()\n",
    "            for i in range(n_bins)]\n",
    "\n",
    "ax.bar(range(n_bins), averages)\n",
    "\n",
    "ax.set_xticks(range(n_bins))\n",
    "ax.set_xticklabels('%d'%(i+1) for i in range(n_bins))\n",
    "\n",
    "ax.set_ylabel('Mean Kendall Tau')\n",
    "ax.set_xlabel('Minimum Stabilty Quintile')\n",
    "\n",
    "pd.DataFrame({'quintile':range(n_bins), 'tau':averages})"
   ]
  },
  {
   "cell_type": "markdown",
   "metadata": {},
   "source": [
    "*Finding*: The ranking performance is not very different for compositions that have more stable polymorphs and those with less table polymorphs. In fact, the ranking performance is strongest for the 1st quintile (i.e., the 20% of compounds with the polymorph that are the most stable)."
   ]
  },
  {
   "cell_type": "markdown",
   "metadata": {
    "collapsed": true
   },
   "source": [
    "## Measure Performance on Whole Dataset\n",
    "Get summary statistics of the performance of the model across the entire test set. We might as well use this opporunity to measure cross-validation scores."
   ]
  },
  {
   "cell_type": "code",
   "execution_count": 19,
   "metadata": {},
   "outputs": [
    {
     "name": "stdout",
     "output_type": "stream",
     "text": [
      "r2_score 0.936355600241\n",
      "mean_absolute_error 0.0568246295543\n",
      "mean_squared_error 0.00629738546228\n"
     ]
    }
   ],
   "source": [
    "for scorer in ['r2_score', 'mean_absolute_error', 'mean_squared_error']:\n",
    "    score = getattr(metrics,scorer)(data['quat-heuslers']['class'], data['quat-heuslers']['predicted_class'])\n",
    "    print(scorer, score)"
   ]
  },
  {
   "cell_type": "markdown",
   "metadata": {},
   "source": [
    "Make a CV parity plot"
   ]
  },
  {
   "cell_type": "code",
   "execution_count": 20,
   "metadata": {},
   "outputs": [
    {
     "data": {
      "image/png": "[encoded data removed]",
      "text/plain": [
       "<matplotlib.figure.Figure at 0x7f15eb5c8cc0>"
      ]
     },
     "metadata": {},
     "output_type": "display_data"
    }
   ],
   "source": [
    "fig, ax = plt.subplots()\n",
    "\n",
    "ax.hist2d(data['quat-heuslers']['class'], data['quat-heuslers']['predicted_class'],\n",
    "          norm=LogNorm(), bins=64, cmap='viridis', alpha=0.9)\n",
    "\n",
    "ax.set_xlim(ax.get_ylim())\n",
    "ax.set_ylim(ax.get_xlim())\n",
    "\n",
    "ax.plot(ax.get_xlim(), ax.get_xlim(), 'k--')\n",
    "\n",
    "ax.set_xlabel('DFT Stability (eV/atom)', fontsize=12)\n",
    "ax.set_ylabel('ML Stability (eV/atom)', fontsize=12)\n",
    "\n",
    "fig.set_size_inches(3, 3)\n",
    "fig.tight_layout()\n",
    "fig.savefig('parity_plot.png', dpi=320)\n",
    "fig.savefig('parity_plot.pdf', dpi=320)"
   ]
  },
  {
   "cell_type": "code",
   "execution_count": null,
   "metadata": {
    "collapsed": true
   },
   "outputs": [],
   "source": []
  }
 ],
 "metadata": {
  "kernelspec": {
   "display_name": "Python 3",
   "language": "python",
   "name": "python3"
  },
  "language_info": {
   "codemirror_mode": {
    "name": "ipython",
    "version": 3
   },
   "file_extension": ".py",
   "mimetype": "text/x-python",
   "name": "python",
   "nbconvert_exporter": "python",
   "pygments_lexer": "ipython3",
   "version": "3.6.0"
  }
 },
 "nbformat": 4,
 "nbformat_minor": 2
}
