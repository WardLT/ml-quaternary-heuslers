{
 "cells": [
  {
   "cell_type": "markdown",
   "metadata": {},
   "source": [
    "# Analyze Stable QHs\n",
    "This notebook analyzes the 55 Quaternary Heuslers (QHs) discovered in this work. We want to know if there are any commonalities between them."
   ]
  },
  {
   "cell_type": "code",
   "execution_count": 1,
   "metadata": {},
   "outputs": [],
   "source": [
    "from matminer.utils.data import MagpieData\n",
    "from pymatgen import Composition, Element\n",
    "from scipy.special import comb\n",
    "import pandas as pd\n",
    "import numpy as np\n",
    "import itertools\n",
    "import json\n",
    "import os"
   ]
  },
  {
   "cell_type": "markdown",
   "metadata": {},
   "source": [
    "Variables to change"
   ]
  },
  {
   "cell_type": "code",
   "execution_count": 2,
   "metadata": {
    "collapsed": true
   },
   "outputs": [],
   "source": [
    "elem_space = \"Ac Ag Al As Au B Ba Be Bi Ca Cd Ce Co Cr Cs Cu Dy Er Eu \" \\\n",
    "\"Fe Ga Gd Ge Hf Hg Ho In Ir K La Li Lu Mg Mn Mo Na Nb Nd Ni Np Os Pa Pb \" \\\n",
    "\"Pd Pm Pr Pt Pu Rb Re Rh Ru Sb Sc Si Sm Sn Sr Ta Tb Tc Te Th Ti Tl Tm U V W Y Yb Zn Zr\".split(\" \")"
   ]
  },
  {
   "cell_type": "code",
   "execution_count": 3,
   "metadata": {},
   "outputs": [
    {
     "name": "stdout",
     "output_type": "stream",
     "text": [
      "There are 52 elements that are not rare earths\n"
     ]
    }
   ],
   "source": [
    "no_rare_earths = [e for e in elem_space if not Element(e).is_rare_earth_metal]\n",
    "print('There are %d elements that are not rare earths'%len(no_rare_earths))"
   ]
  },
  {
   "cell_type": "markdown",
   "metadata": {},
   "source": [
    "## Load in the Dataset\n",
    "Read in the list of new stable QHs from the search, and original training set"
   ]
  },
  {
   "cell_type": "code",
   "execution_count": 4,
   "metadata": {
    "collapsed": true
   },
   "outputs": [],
   "source": [
    "data = pd.read_csv('stable_compounds.csv')"
   ]
  },
  {
   "cell_type": "code",
   "execution_count": 5,
   "metadata": {},
   "outputs": [
    {
     "data": {
      "text/html": [
       "<div>\n",
       "<style>\n",
       "    .dataframe thead tr:only-child th {\n",
       "        text-align: right;\n",
       "    }\n",
       "\n",
       "    .dataframe thead th {\n",
       "        text-align: left;\n",
       "    }\n",
       "\n",
       "    .dataframe tbody tr th {\n",
       "        vertical-align: top;\n",
       "    }\n",
       "</style>\n",
       "<table border=\"1\" class=\"dataframe\">\n",
       "  <thead>\n",
       "    <tr style=\"text-align: right;\">\n",
       "      <th></th>\n",
       "      <th>Stable</th>\n",
       "      <th>Formation (DFT)</th>\n",
       "      <th>Hull (DFT)</th>\n",
       "      <th>N_valence</th>\n",
       "    </tr>\n",
       "  </thead>\n",
       "  <tbody>\n",
       "    <tr>\n",
       "      <th>0</th>\n",
       "      <td>LiMgSnPt</td>\n",
       "      <td>-0.698367</td>\n",
       "      <td>-0.041047</td>\n",
       "      <td>17</td>\n",
       "    </tr>\n",
       "    <tr>\n",
       "      <th>1</th>\n",
       "      <td>LiZnGaPd</td>\n",
       "      <td>-0.515589</td>\n",
       "      <td>-0.020172</td>\n",
       "      <td>16</td>\n",
       "    </tr>\n",
       "    <tr>\n",
       "      <th>2</th>\n",
       "      <td>LiAgCdIn</td>\n",
       "      <td>-0.208676</td>\n",
       "      <td>-0.008758</td>\n",
       "      <td>7</td>\n",
       "    </tr>\n",
       "    <tr>\n",
       "      <th>3</th>\n",
       "      <td>LiAgInAu</td>\n",
       "      <td>-0.347074</td>\n",
       "      <td>-0.019099</td>\n",
       "      <td>6</td>\n",
       "    </tr>\n",
       "    <tr>\n",
       "      <th>4</th>\n",
       "      <td>LiPdCdIn</td>\n",
       "      <td>-0.464809</td>\n",
       "      <td>-0.022169</td>\n",
       "      <td>16</td>\n",
       "    </tr>\n",
       "  </tbody>\n",
       "</table>\n",
       "</div>"
      ],
      "text/plain": [
       "     Stable  Formation (DFT)  Hull (DFT)  N_valence\n",
       "0  LiMgSnPt        -0.698367   -0.041047         17\n",
       "1  LiZnGaPd        -0.515589   -0.020172         16\n",
       "2  LiAgCdIn        -0.208676   -0.008758          7\n",
       "3  LiAgInAu        -0.347074   -0.019099          6\n",
       "4  LiPdCdIn        -0.464809   -0.022169         16"
      ]
     },
     "execution_count": 5,
     "metadata": {},
     "output_type": "execute_result"
    }
   ],
   "source": [
    "data.head()"
   ]
  },
  {
   "cell_type": "markdown",
   "metadata": {},
   "source": [
    "Compute `Composition` objects for each QH"
   ]
  },
  {
   "cell_type": "code",
   "execution_count": 6,
   "metadata": {
    "collapsed": true
   },
   "outputs": [],
   "source": [
    "data['comp obj'] = data['Stable'].apply(Composition)"
   ]
  },
  {
   "cell_type": "code",
   "execution_count": 7,
   "metadata": {},
   "outputs": [],
   "source": [
    "def get_n_valence(elem):\n",
    "    \"\"\"Get the number of valence electrons for an element\"\"\"\n",
    "    \n",
    "    # Noble gasses have no valence electrons\n",
    "    if elem.is_noble_gas:\n",
    "        return 0\n",
    "    \n",
    "    # Get the top (highest n) valence shells of each l\n",
    "    g = elem.group\n",
    "    \n",
    "    if elem == Element('Lu') or elem == Element('Lr'):\n",
    "        return 3 # Special case: full f block\n",
    "    elif elem.is_rare_earth_metal:\n",
    "        return g\n",
    "    else:\n",
    "        # Remove d electrons for fully filled shells \n",
    "        # We count (Cu and Zn groups as having full shells)\n",
    "        return g if g < 11 else g - 10\n",
    "assert get_n_valence(Element('Li')) == 1\n",
    "assert get_n_valence(Element('Al')) == 3\n",
    "assert get_n_valence(Element('Ga')) == 3\n",
    "assert get_n_valence(Element('Pd')) == 10\n",
    "assert get_n_valence(Element('Cl')) == 7\n",
    "assert get_n_valence(Element('Lu')) == 3\n",
    "assert get_n_valence(Element('Xe')) == 0"
   ]
  },
  {
   "cell_type": "code",
   "execution_count": 8,
   "metadata": {},
   "outputs": [],
   "source": [
    "assert np.isclose(data['N_valence'] - data['comp obj'].apply(lambda x: sum(get_n_valence(e) for e in x)), 0).all()"
   ]
  },
  {
   "cell_type": "markdown",
   "metadata": {},
   "source": [
    "Load in the training set. Get just the compositions"
   ]
  },
  {
   "cell_type": "code",
   "execution_count": 9,
   "metadata": {},
   "outputs": [],
   "source": [
    "def load_training_set():\n",
    "    \"\"\"Load in the Quaternary Heuslers from the training set\n",
    "    \n",
    "    :return: pd.Dataframe with columns:\n",
    "        composition - Composition of a QH\n",
    "        stability - stability of most stable QH at that composition\"\"\"\n",
    "    \n",
    "    # Load from disk\n",
    "    with open(os.path.join('..', 'datasets', 'quat-heuslers.json')) as fp:\n",
    "        temp = json.load(fp)\n",
    "    \n",
    "    # Get the composition and stability\n",
    "    data = pd.DataFrame({\n",
    "        'composition': [x['composition'] for x in temp['entries']],\n",
    "        'stability': [x['class']['measured'] for x in temp['entries']]\n",
    "    })\n",
    "    \n",
    "    # Return the lowest stability at each composition\n",
    "    data.sort_values('stability', ascending=True, inplace=True)\n",
    "    return data.drop_duplicates('composition', keep='first')"
   ]
  },
  {
   "cell_type": "code",
   "execution_count": 10,
   "metadata": {},
   "outputs": [],
   "source": [
    "training_data = load_training_set()"
   ]
  },
  {
   "cell_type": "code",
   "execution_count": 11,
   "metadata": {
    "collapsed": true
   },
   "outputs": [],
   "source": [
    "training_data['comp obj'] = training_data['composition'].apply(Composition)"
   ]
  },
  {
   "cell_type": "markdown",
   "metadata": {},
   "source": [
    "Eliminate entries in training set that contain elements which are not in the search space"
   ]
  },
  {
   "cell_type": "code",
   "execution_count": 12,
   "metadata": {
    "collapsed": true
   },
   "outputs": [],
   "source": [
    "elem_space_pmg = [Element(e) for e in elem_space]"
   ]
  },
  {
   "cell_type": "code",
   "execution_count": 13,
   "metadata": {},
   "outputs": [
    {
     "name": "stdout",
     "output_type": "stream",
     "text": [
      "Total number of compositions in training set: 31924\n"
     ]
    }
   ],
   "source": [
    "training_data['in_search'] = training_data['comp obj'].apply(lambda x: all([e in elem_space_pmg for e in x.keys()]))\n",
    "training_data.query('in_search == True', inplace=True)\n",
    "print('Total number of compositions in training set:', len(training_data))"
   ]
  },
  {
   "cell_type": "markdown",
   "metadata": {},
   "source": [
    "## Are there any common elements?\n",
    "Test whether any elements appear especially frequently in this dataset"
   ]
  },
  {
   "cell_type": "code",
   "execution_count": 14,
   "metadata": {
    "collapsed": true
   },
   "outputs": [],
   "source": [
    "search_space_size = comb(len(no_rare_earths), 4) # Number of composition in search space"
   ]
  },
  {
   "cell_type": "code",
   "execution_count": 15,
   "metadata": {},
   "outputs": [],
   "source": [
    "possible_appearances = comb(len(no_rare_earths) - 1, 3) # Number of times element should appear in search space"
   ]
  },
  {
   "cell_type": "code",
   "execution_count": 16,
   "metadata": {},
   "outputs": [
    {
     "name": "stdout",
     "output_type": "stream",
     "text": [
      "If elements appear randomly, each element should appear in 4.23 results\n"
     ]
    }
   ],
   "source": [
    "expected_n_appearences = possible_appearances / search_space_size * 55 # each element appears in ([n-1] choose 3) * 3 entries, \n",
    "# out of total entries (n choose 4) entries. I approximate random by assuming the probability\n",
    "# of retrieving an entry with a certain element is equal to this fraction, and that the \n",
    "# repeated draws do not change the probability (ok since there are very many entries)\n",
    "print('If elements appear randomly, each element should appear in %.2f results'%expected_n_appearences)"
   ]
  },
  {
   "cell_type": "markdown",
   "metadata": {},
   "source": [
    "Compute how many times each element appears"
   ]
  },
  {
   "cell_type": "code",
   "execution_count": 17,
   "metadata": {},
   "outputs": [],
   "source": [
    "def count_appearances(data, elems=no_rare_earths):\n",
    "    \"\"\"Count the number of times an element appears in a dataset\n",
    "    \n",
    "    :param data: DataFrame, dataset to assess\n",
    "    :return: DataFrame, with columns:\n",
    "        element - Element\n",
    "        count - Number of times that element_appears\"\"\"\n",
    "    appearances = pd.DataFrame({'element': elems})\n",
    "    appearances['element'] = appearances['element'].apply(Element)\n",
    "    appearances['count'] = appearances['element'].apply(lambda x: sum(x in c for c in data['comp obj']))\n",
    "    return appearances\n",
    "appearances = count_appearances(data)"
   ]
  },
  {
   "cell_type": "code",
   "execution_count": 18,
   "metadata": {},
   "outputs": [],
   "source": [
    "appearances['ratio'] = appearances['count'] / expected_n_appearences"
   ]
  },
  {
   "cell_type": "code",
   "execution_count": 19,
   "metadata": {},
   "outputs": [
    {
     "data": {
      "text/html": [
       "<div>\n",
       "<style>\n",
       "    .dataframe thead tr:only-child th {\n",
       "        text-align: right;\n",
       "    }\n",
       "\n",
       "    .dataframe thead th {\n",
       "        text-align: left;\n",
       "    }\n",
       "\n",
       "    .dataframe tbody tr th {\n",
       "        vertical-align: top;\n",
       "    }\n",
       "</style>\n",
       "<table border=\"1\" class=\"dataframe\">\n",
       "  <thead>\n",
       "    <tr style=\"text-align: right;\">\n",
       "      <th></th>\n",
       "      <th>element</th>\n",
       "      <th>count</th>\n",
       "      <th>ratio</th>\n",
       "    </tr>\n",
       "  </thead>\n",
       "  <tbody>\n",
       "    <tr>\n",
       "      <th>22</th>\n",
       "      <td>Li</td>\n",
       "      <td>43</td>\n",
       "      <td>10.163636</td>\n",
       "    </tr>\n",
       "    <tr>\n",
       "      <th>0</th>\n",
       "      <td>Ag</td>\n",
       "      <td>21</td>\n",
       "      <td>4.963636</td>\n",
       "    </tr>\n",
       "    <tr>\n",
       "      <th>23</th>\n",
       "      <td>Mg</td>\n",
       "      <td>19</td>\n",
       "      <td>4.490909</td>\n",
       "    </tr>\n",
       "    <tr>\n",
       "      <th>19</th>\n",
       "      <td>In</td>\n",
       "      <td>16</td>\n",
       "      <td>3.781818</td>\n",
       "    </tr>\n",
       "    <tr>\n",
       "      <th>38</th>\n",
       "      <td>Sc</td>\n",
       "      <td>15</td>\n",
       "      <td>3.545455</td>\n",
       "    </tr>\n",
       "    <tr>\n",
       "      <th>3</th>\n",
       "      <td>Au</td>\n",
       "      <td>15</td>\n",
       "      <td>3.545455</td>\n",
       "    </tr>\n",
       "    <tr>\n",
       "      <th>31</th>\n",
       "      <td>Pd</td>\n",
       "      <td>14</td>\n",
       "      <td>3.309091</td>\n",
       "    </tr>\n",
       "    <tr>\n",
       "      <th>50</th>\n",
       "      <td>Zn</td>\n",
       "      <td>13</td>\n",
       "      <td>3.072727</td>\n",
       "    </tr>\n",
       "    <tr>\n",
       "      <th>15</th>\n",
       "      <td>Ga</td>\n",
       "      <td>11</td>\n",
       "      <td>2.600000</td>\n",
       "    </tr>\n",
       "    <tr>\n",
       "      <th>1</th>\n",
       "      <td>Al</td>\n",
       "      <td>9</td>\n",
       "      <td>2.127273</td>\n",
       "    </tr>\n",
       "  </tbody>\n",
       "</table>\n",
       "</div>"
      ],
      "text/plain": [
       "   element  count      ratio\n",
       "22      Li     43  10.163636\n",
       "0       Ag     21   4.963636\n",
       "23      Mg     19   4.490909\n",
       "19      In     16   3.781818\n",
       "38      Sc     15   3.545455\n",
       "3       Au     15   3.545455\n",
       "31      Pd     14   3.309091\n",
       "50      Zn     13   3.072727\n",
       "15      Ga     11   2.600000\n",
       "1       Al      9   2.127273"
      ]
     },
     "execution_count": 19,
     "metadata": {},
     "output_type": "execute_result"
    }
   ],
   "source": [
    "appearances.sort_values('ratio', ascending=False, inplace=True)\n",
    "appearances.head(10)"
   ]
  },
  {
   "cell_type": "markdown",
   "metadata": {},
   "source": [
    "*Finding*: Li appears in this dataset way more than we would expect from random"
   ]
  },
  {
   "cell_type": "code",
   "execution_count": 20,
   "metadata": {},
   "outputs": [
    {
     "data": {
      "text/html": [
       "<div>\n",
       "<style>\n",
       "    .dataframe thead tr:only-child th {\n",
       "        text-align: right;\n",
       "    }\n",
       "\n",
       "    .dataframe thead th {\n",
       "        text-align: left;\n",
       "    }\n",
       "\n",
       "    .dataframe tbody tr th {\n",
       "        vertical-align: top;\n",
       "    }\n",
       "</style>\n",
       "<table border=\"1\" class=\"dataframe\">\n",
       "  <thead>\n",
       "    <tr style=\"text-align: right;\">\n",
       "      <th></th>\n",
       "      <th>element</th>\n",
       "      <th>count</th>\n",
       "      <th>ratio</th>\n",
       "    </tr>\n",
       "  </thead>\n",
       "  <tbody>\n",
       "    <tr>\n",
       "      <th>14</th>\n",
       "      <td>Fe</td>\n",
       "      <td>0</td>\n",
       "      <td>0.0</td>\n",
       "    </tr>\n",
       "    <tr>\n",
       "      <th>16</th>\n",
       "      <td>Ge</td>\n",
       "      <td>0</td>\n",
       "      <td>0.0</td>\n",
       "    </tr>\n",
       "    <tr>\n",
       "      <th>17</th>\n",
       "      <td>Hf</td>\n",
       "      <td>0</td>\n",
       "      <td>0.0</td>\n",
       "    </tr>\n",
       "    <tr>\n",
       "      <th>21</th>\n",
       "      <td>K</td>\n",
       "      <td>0</td>\n",
       "      <td>0.0</td>\n",
       "    </tr>\n",
       "    <tr>\n",
       "      <th>26</th>\n",
       "      <td>Na</td>\n",
       "      <td>0</td>\n",
       "      <td>0.0</td>\n",
       "    </tr>\n",
       "  </tbody>\n",
       "</table>\n",
       "</div>"
      ],
      "text/plain": [
       "   element  count  ratio\n",
       "14      Fe      0    0.0\n",
       "16      Ge      0    0.0\n",
       "17      Hf      0    0.0\n",
       "21       K      0    0.0\n",
       "26      Na      0    0.0"
      ]
     },
     "execution_count": 20,
     "metadata": {},
     "output_type": "execute_result"
    }
   ],
   "source": [
    "appearances.tail()"
   ]
  },
  {
   "cell_type": "code",
   "execution_count": 21,
   "metadata": {},
   "outputs": [
    {
     "data": {
      "text/html": [
       "<div>\n",
       "<style>\n",
       "    .dataframe thead tr:only-child th {\n",
       "        text-align: right;\n",
       "    }\n",
       "\n",
       "    .dataframe thead th {\n",
       "        text-align: left;\n",
       "    }\n",
       "\n",
       "    .dataframe tbody tr th {\n",
       "        vertical-align: top;\n",
       "    }\n",
       "</style>\n",
       "<table border=\"1\" class=\"dataframe\">\n",
       "  <thead>\n",
       "    <tr style=\"text-align: right;\">\n",
       "      <th></th>\n",
       "      <th>element</th>\n",
       "      <th>count</th>\n",
       "      <th>ratio</th>\n",
       "    </tr>\n",
       "  </thead>\n",
       "  <tbody>\n",
       "    <tr>\n",
       "      <th>33</th>\n",
       "      <td>Rb</td>\n",
       "      <td>0</td>\n",
       "      <td>0.0</td>\n",
       "    </tr>\n",
       "  </tbody>\n",
       "</table>\n",
       "</div>"
      ],
      "text/plain": [
       "   element  count  ratio\n",
       "33      Rb      0    0.0"
      ]
     },
     "execution_count": 21,
     "metadata": {},
     "output_type": "execute_result"
    }
   ],
   "source": [
    "appearances[appearances['element'] == Element('Rb')]"
   ]
  },
  {
   "cell_type": "markdown",
   "metadata": {
    "collapsed": true
   },
   "source": [
    "*Question*: Does Li appear often in the training set?"
   ]
  },
  {
   "cell_type": "code",
   "execution_count": 22,
   "metadata": {
    "collapsed": true
   },
   "outputs": [],
   "source": [
    "training_set_appearances = count_appearances(training_data)"
   ]
  },
  {
   "cell_type": "code",
   "execution_count": 23,
   "metadata": {
    "collapsed": true
   },
   "outputs": [],
   "source": [
    "training_set_appearances['number stable'] = count_appearances(training_data.query('stability <= 0'))['count']\n",
    "training_set_appearances['frac stable'] = training_set_appearances['number stable'] / training_set_appearances['count']"
   ]
  },
  {
   "cell_type": "code",
   "execution_count": 24,
   "metadata": {
    "collapsed": true
   },
   "outputs": [],
   "source": [
    "training_set_appearances['frac searched'] = training_set_appearances['count'] / possible_appearances"
   ]
  },
  {
   "cell_type": "code",
   "execution_count": 25,
   "metadata": {},
   "outputs": [
    {
     "data": {
      "text/html": [
       "<div>\n",
       "<style>\n",
       "    .dataframe thead tr:only-child th {\n",
       "        text-align: right;\n",
       "    }\n",
       "\n",
       "    .dataframe thead th {\n",
       "        text-align: left;\n",
       "    }\n",
       "\n",
       "    .dataframe tbody tr th {\n",
       "        vertical-align: top;\n",
       "    }\n",
       "</style>\n",
       "<table border=\"1\" class=\"dataframe\">\n",
       "  <thead>\n",
       "    <tr style=\"text-align: right;\">\n",
       "      <th></th>\n",
       "      <th>element</th>\n",
       "      <th>count</th>\n",
       "      <th>number stable</th>\n",
       "      <th>frac stable</th>\n",
       "      <th>frac searched</th>\n",
       "    </tr>\n",
       "  </thead>\n",
       "  <tbody>\n",
       "    <tr>\n",
       "      <th>22</th>\n",
       "      <td>Li</td>\n",
       "      <td>3583</td>\n",
       "      <td>136</td>\n",
       "      <td>0.037957</td>\n",
       "      <td>0.172053</td>\n",
       "    </tr>\n",
       "    <tr>\n",
       "      <th>10</th>\n",
       "      <td>Co</td>\n",
       "      <td>6957</td>\n",
       "      <td>53</td>\n",
       "      <td>0.007618</td>\n",
       "      <td>0.334070</td>\n",
       "    </tr>\n",
       "    <tr>\n",
       "      <th>1</th>\n",
       "      <td>Al</td>\n",
       "      <td>2319</td>\n",
       "      <td>52</td>\n",
       "      <td>0.022423</td>\n",
       "      <td>0.111357</td>\n",
       "    </tr>\n",
       "    <tr>\n",
       "      <th>20</th>\n",
       "      <td>Ir</td>\n",
       "      <td>2009</td>\n",
       "      <td>49</td>\n",
       "      <td>0.024390</td>\n",
       "      <td>0.096471</td>\n",
       "    </tr>\n",
       "    <tr>\n",
       "      <th>45</th>\n",
       "      <td>Ti</td>\n",
       "      <td>2397</td>\n",
       "      <td>47</td>\n",
       "      <td>0.019608</td>\n",
       "      <td>0.115102</td>\n",
       "    </tr>\n",
       "    <tr>\n",
       "      <th>15</th>\n",
       "      <td>Ga</td>\n",
       "      <td>2319</td>\n",
       "      <td>46</td>\n",
       "      <td>0.019836</td>\n",
       "      <td>0.111357</td>\n",
       "    </tr>\n",
       "    <tr>\n",
       "      <th>13</th>\n",
       "      <td>Cu</td>\n",
       "      <td>7615</td>\n",
       "      <td>43</td>\n",
       "      <td>0.005647</td>\n",
       "      <td>0.365666</td>\n",
       "    </tr>\n",
       "    <tr>\n",
       "      <th>16</th>\n",
       "      <td>Ge</td>\n",
       "      <td>2367</td>\n",
       "      <td>31</td>\n",
       "      <td>0.013097</td>\n",
       "      <td>0.113661</td>\n",
       "    </tr>\n",
       "    <tr>\n",
       "      <th>39</th>\n",
       "      <td>Si</td>\n",
       "      <td>2364</td>\n",
       "      <td>31</td>\n",
       "      <td>0.013113</td>\n",
       "      <td>0.113517</td>\n",
       "    </tr>\n",
       "    <tr>\n",
       "      <th>14</th>\n",
       "      <td>Fe</td>\n",
       "      <td>6949</td>\n",
       "      <td>29</td>\n",
       "      <td>0.004173</td>\n",
       "      <td>0.333685</td>\n",
       "    </tr>\n",
       "  </tbody>\n",
       "</table>\n",
       "</div>"
      ],
      "text/plain": [
       "   element  count  number stable  frac stable  frac searched\n",
       "22      Li   3583            136     0.037957       0.172053\n",
       "10      Co   6957             53     0.007618       0.334070\n",
       "1       Al   2319             52     0.022423       0.111357\n",
       "20      Ir   2009             49     0.024390       0.096471\n",
       "45      Ti   2397             47     0.019608       0.115102\n",
       "15      Ga   2319             46     0.019836       0.111357\n",
       "13      Cu   7615             43     0.005647       0.365666\n",
       "16      Ge   2367             31     0.013097       0.113661\n",
       "39      Si   2364             31     0.013113       0.113517\n",
       "14      Fe   6949             29     0.004173       0.333685"
      ]
     },
     "execution_count": 25,
     "metadata": {},
     "output_type": "execute_result"
    }
   ],
   "source": [
    "training_set_appearances.sort_values('number stable', ascending=False).head(10)"
   ]
  },
  {
   "cell_type": "markdown",
   "metadata": {},
   "source": [
    "*Finding*: Li occurs most frequnetly in the stable compounds in the training set. However, Ag does not appear often and nor does Mg"
   ]
  },
  {
   "cell_type": "markdown",
   "metadata": {},
   "source": [
    "## Are there common combinations of groups?\n",
    "Test whether our stbale compounds contains elements from certain groups more frequently than others"
   ]
  },
  {
   "cell_type": "code",
   "execution_count": 26,
   "metadata": {
    "collapsed": true
   },
   "outputs": [],
   "source": [
    "data['groups'] = data['comp obj'].apply(lambda x: tuple(sorted(e.group for e in x.keys())))"
   ]
  },
  {
   "cell_type": "code",
   "execution_count": 27,
   "metadata": {},
   "outputs": [
    {
     "data": {
      "text/plain": [
       "(1, 3, 10, 13)     6\n",
       "(1, 3, 11, 13)     4\n",
       "(1, 10, 12, 13)    4\n",
       "(1, 11, 12, 13)    3\n",
       "(2, 3, 11, 12)     3\n",
       "(1, 2, 10, 13)     3\n",
       "(1, 11, 11, 13)    3\n",
       "(1, 2, 11, 13)     3\n",
       "(1, 2, 10, 12)     2\n",
       "(3, 11, 11, 13)    2\n",
       "Name: groups, dtype: int64"
      ]
     },
     "execution_count": 27,
     "metadata": {},
     "output_type": "execute_result"
    }
   ],
   "source": [
    "data['groups'].value_counts().head(10)"
   ]
  },
  {
   "cell_type": "code",
   "execution_count": 28,
   "metadata": {},
   "outputs": [
    {
     "name": "stdout",
     "output_type": "stream",
     "text": [
      "38 compounds contain Li and an element from group 10 or 11\n"
     ]
    }
   ],
   "source": [
    "Li_plus_1011 = sum(data['groups'].apply(lambda x: 1 in x and (10 in x or 11 in x)))\n",
    "print('%d compounds contain Li and an element from group 10 or 11'%Li_plus_1011)"
   ]
  },
  {
   "cell_type": "markdown",
   "metadata": {},
   "source": [
    "*Finding*: There a plenty of compounds with group 1, 3, 10/11, and 13. "
   ]
  },
  {
   "cell_type": "markdown",
   "metadata": {},
   "source": [
    "## What is the most common number of valence electrons"
   ]
  },
  {
   "cell_type": "markdown",
   "metadata": {},
   "source": [
    "## Did we run out of 18 electron compounds to search?\n",
    "We do not find many 18 or 24 electron compounds in our search space, is that just because there are none left!"
   ]
  },
  {
   "cell_type": "code",
   "execution_count": 29,
   "metadata": {},
   "outputs": [
    {
     "name": "stdout",
     "output_type": "stream",
     "text": [
      "Generated 270725 possible compounds\n"
     ]
    }
   ],
   "source": [
    "all_possible_compounds = pd.DataFrame({'composition': [''.join(c) for c in itertools.combinations(no_rare_earths, 4)]})\n",
    "print('Generated %d possible compounds'%len(all_possible_compounds))"
   ]
  },
  {
   "cell_type": "code",
   "execution_count": 30,
   "metadata": {},
   "outputs": [],
   "source": [
    "all_possible_compounds['comp obj'] = all_possible_compounds['composition'].apply(Composition)"
   ]
  },
  {
   "cell_type": "code",
   "execution_count": 31,
   "metadata": {},
   "outputs": [],
   "source": [
    "train_set_comps = set(training_data['comp obj'].apply(lambda x: x.reduced_formula))\n",
    "all_possible_compounds['in_train'] = all_possible_compounds['comp obj'].apply(lambda x: x.reduced_formula)\\\n",
    "    .apply(lambda x: x in train_set_comps)"
   ]
  },
  {
   "cell_type": "code",
   "execution_count": 32,
   "metadata": {},
   "outputs": [
    {
     "name": "stdout",
     "output_type": "stream",
     "text": [
      "242809 compounds of the search space have not yet been evaluated\n"
     ]
    }
   ],
   "source": [
    "print('%d compounds of the search space have not yet been evaluated'%sum(np.logical_not(all_possible_compounds['in_train'])))"
   ]
  },
  {
   "cell_type": "code",
   "execution_count": 33,
   "metadata": {},
   "outputs": [],
   "source": [
    "all_possible_compounds['N_valence'] = all_possible_compounds['comp obj'].apply(lambda x: sum(get_n_valence(e) for e in x))"
   ]
  },
  {
   "cell_type": "code",
   "execution_count": 34,
   "metadata": {},
   "outputs": [
    {
     "name": "stdout",
     "output_type": "stream",
     "text": [
      "22876 compounds have not been searched and have 18 or 24 electrons\n",
      "If we picked randomly, we would expect to find 5 18 electron compounds\n"
     ]
    }
   ],
   "source": [
    "n_unfound_1824 = len(all_possible_compounds.query('in_train == False and (N_valence == 18 or N_valence == 24)'))\n",
    "print('%d compounds have not been searched and have 18 or 24 electrons'%n_unfound_1824)\n",
    "print('If we picked randomly, we would expect to find %d 18 electron compounds'%(\n",
    "    n_unfound_1824 / sum(np.logical_not(all_possible_compounds['in_train'])) * len(data))\n",
    " )"
   ]
  },
  {
   "cell_type": "code",
   "execution_count": 35,
   "metadata": {},
   "outputs": [
    {
     "name": "stdout",
     "output_type": "stream",
     "text": [
      "Only 3 new QHs have 18 or 24 electrons\n"
     ]
    }
   ],
   "source": [
    "print('Only %d new QHs have 18 or 24 electrons'%len(\n",
    "    data.query('N_valence == 18 or N_valence == 24')\n",
    "))"
   ]
  },
  {
   "cell_type": "markdown",
   "metadata": {},
   "source": [
    "*Finding*: There are plenty of 18/24 electron compounds to find, we just do not predict them to be stable."
   ]
  }
 ],
 "metadata": {
  "kernelspec": {
   "display_name": "Python 3",
   "language": "python",
   "name": "python3"
  },
  "language_info": {
   "codemirror_mode": {
    "name": "ipython",
    "version": 3
   },
   "file_extension": ".py",
   "mimetype": "text/x-python",
   "name": "python",
   "nbconvert_exporter": "python",
   "pygments_lexer": "ipython3",
   "version": "3.6.0"
  }
 },
 "nbformat": 4,
 "nbformat_minor": 2
}
