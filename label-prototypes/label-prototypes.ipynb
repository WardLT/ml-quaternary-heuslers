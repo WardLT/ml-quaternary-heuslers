{
 "cells": [
  {
   "cell_type": "markdown",
   "metadata": {},
   "source": [
    "# Label the Stable Prototypes \n",
    "Preparations for using DMSP"
   ]
  },
  {
   "cell_type": "code",
   "execution_count": null,
   "metadata": {
    "collapsed": true
   },
   "outputs": [],
   "source": [
    "from __future__ import print_function\n",
    "import pandas as pd\n",
    "import os\n",
    "import itertools\n",
    "import sys\n",
    "from qmpy import io\n",
    "from fpassmgr.prototypes import PrototypeLibraryFactory\n",
    "from pymatgen import Composition\n",
    "from pymatgen.phasediagram.maker import PhaseDiagram\n",
    "from pymatgen.phasediagram.analyzer import PDAnalyzer\n",
    "from pymatgen.phasediagram.entries import PDEntry\n",
    "import pickle as pkl"
   ]
  },
  {
   "cell_type": "markdown",
   "metadata": {},
   "source": [
    "## Load in the QHs"
   ]
  },
  {
   "cell_type": "code",
   "execution_count": null,
   "metadata": {
    "collapsed": true
   },
   "outputs": [],
   "source": [
    "def load_dataset(source):\n",
    "    d = pd.read_csv(os.path.join('datasets', source, 'properties.txt'), delim_whitespace=True)\n",
    "    d['source'] = source\n",
    "    d['composition'] = d['filename'].apply(lambda x: Composition(x.split(\"-\")[-1]))\n",
    "    return d"
   ]
  },
  {
   "cell_type": "code",
   "execution_count": null,
   "metadata": {
    "collapsed": true
   },
   "outputs": [],
   "source": [
    "qh_data = load_dataset('quat-heuslers')"
   ]
  },
  {
   "cell_type": "code",
   "execution_count": null,
   "metadata": {
    "collapsed": true
   },
   "outputs": [],
   "source": [
    "print('Loaded %d OQMD entries. %d are missing stabilities'%(len(qh_data), qh_data['stability'].isnull().sum()))"
   ]
  },
  {
   "cell_type": "markdown",
   "metadata": {},
   "source": [
    "Get element list"
   ]
  },
  {
   "cell_type": "code",
   "execution_count": null,
   "metadata": {
    "collapsed": true
   },
   "outputs": [],
   "source": [
    "heusler_elems = set(sum([x.keys() for x in qh_data['composition']], []))\n",
    "print('%d elements in QH set'%len(heusler_elems))"
   ]
  },
  {
   "cell_type": "markdown",
   "metadata": {},
   "source": [
    "## Get the Stable OQMD/Heusler Entries\n",
    "These are going to serve as the prototype library for DMSP"
   ]
  },
  {
   "cell_type": "code",
   "execution_count": null,
   "metadata": {
    "collapsed": true
   },
   "outputs": [],
   "source": [
    "all_oqmd = pd.concat([\n",
    "    load_dataset(x) for x in ['oqmd-no-heusler', 'heuslers']\n",
    "])\n",
    "all_oqmd['id'] = list(range(len(all_oqmd)))\n",
    "all_oqmd.set_index('id', inplace=True)\n",
    "all_oqmd['stability'] = all_oqmd['stability'].convert_objects(convert_numeric=True)\n",
    "print('Loaded %d OQMD entries. %d are missing stabilities'%(len(all_oqmd), all_oqmd['stability'].isnull().sum()))"
   ]
  },
  {
   "cell_type": "code",
   "execution_count": null,
   "metadata": {
    "collapsed": true
   },
   "outputs": [],
   "source": [
    "def contains_only_QH_elements(comp):\n",
    "    return all([x in heusler_elems for x in comp.keys()])"
   ]
  },
  {
   "cell_type": "code",
   "execution_count": null,
   "metadata": {
    "collapsed": true
   },
   "outputs": [],
   "source": [
    "all_oqmd = all_oqmd[all_oqmd['composition'].apply(contains_only_QH_elements)]\n",
    "print('%d contain only QH elements'%len(all_oqmd))"
   ]
  },
  {
   "cell_type": "markdown",
   "metadata": {},
   "source": [
    "## Find the stable entries\n",
    "Some of the stabilities are missing. Use Pymatgen to get them"
   ]
  },
  {
   "cell_type": "markdown",
   "metadata": {},
   "source": [
    "Label the elements"
   ]
  },
  {
   "cell_type": "code",
   "execution_count": null,
   "metadata": {
    "collapsed": true
   },
   "outputs": [],
   "source": [
    "all_oqmd['system'] = all_oqmd['composition'].apply(lambda x: \"-\".join(sorted([y.symbol for y in x.keys()])))"
   ]
  },
  {
   "cell_type": "markdown",
   "metadata": {},
   "source": [
    "Compute stability for each system"
   ]
  },
  {
   "cell_type": "code",
   "execution_count": null,
   "metadata": {
    "collapsed": true
   },
   "outputs": [],
   "source": [
    "def get_pdentry(row, attribute=None):\n",
    "    comp = Composition(row['filename'].split(\"-\")[-1])\n",
    "    return PDEntry(comp.fractional_composition, row['delta_e'], comp.reduced_formula,\n",
    "                   os.path.join('datasets', row['source'], row['filename']))\n",
    "all_oqmd['pdentry'] = all_oqmd.apply(lambda x: get_pdentry(x), axis=1)"
   ]
  },
  {
   "cell_type": "code",
   "execution_count": null,
   "metadata": {
    "collapsed": true
   },
   "outputs": [],
   "source": [
    "def get_data_from_system(data, system):\n",
    "    \"\"\"Extract rows from a pandas array that are in a certain phase diagram\n",
    "    \n",
    "    :param data: DataFrame, data from which to query. Must contain column \"system\"\n",
    "    :param system: list/set, list of elements to serve as input\n",
    "    :return: DataFrame, with only entries that exclusively contain these elements\"\"\"\n",
    "    \n",
    "    # Get the systems that make up this phase diagram\n",
    "    constit_systems = set()\n",
    "    for sys in itertools.product(system, repeat=len(system)):\n",
    "        constit_systems.add('-'.join(sorted(set(sys))))\n",
    "    \n",
    "    # Get all points that are at any of those systems\n",
    "    query_str = ' or '.join(['system == \"%s\"'%s for s in constit_systems])\n",
    "    return data.query(query_str)"
   ]
  },
  {
   "cell_type": "code",
   "execution_count": null,
   "metadata": {
    "collapsed": true
   },
   "outputs": [],
   "source": [
    "def compute_stability(data):\n",
    "    \"\"\"Compute the stability of all entries\n",
    "    \n",
    "    :param data: dataframe, data to be assesseed\n",
    "    :return: stabilities for each entry\"\"\"\n",
    "    \n",
    "    pdg = PhaseDiagram(data['pdentry'])\n",
    "    pda = PDAnalyzer(pdg)\n",
    "    \n",
    "    return [pda.get_e_above_hull(x) for x in data['pdentry'] ]"
   ]
  },
  {
   "cell_type": "markdown",
   "metadata": {},
   "source": [
    "Compute the phase diagram"
   ]
  },
  {
   "cell_type": "code",
   "execution_count": null,
   "metadata": {
    "collapsed": true
   },
   "outputs": [],
   "source": [
    "n_systems = len(set(all_oqmd[all_oqmd['stability'].isnull()]['system']))\n",
    "for i, (gid, group) in enumerate(all_oqmd[all_oqmd['stability'].isnull()].groupby('system')):\n",
    "    my_data = get_data_from_system(all_oqmd, gid.split('-'))\n",
    "    \n",
    "    all_oqmd.loc[my_data.index, 'stability'] = compute_stability(my_data)\n",
    "    print('\\r%d/%d - %s'%(i + 1, n_systems, gid), end=\"\")\n",
    "print()"
   ]
  },
  {
   "cell_type": "markdown",
   "metadata": {},
   "source": [
    "Get all the stable entries"
   ]
  },
  {
   "cell_type": "code",
   "execution_count": null,
   "metadata": {
    "collapsed": true
   },
   "outputs": [],
   "source": [
    "all_oqmd.query('stability <= 0', inplace=True)\n",
    "print('There are %d stable entries in the OQMD'%len(all_oqmd))"
   ]
  },
  {
   "cell_type": "markdown",
   "metadata": {},
   "source": [
    "## Find the prototypes\n",
    "Get the prototypes"
   ]
  },
  {
   "cell_type": "code",
   "execution_count": null,
   "metadata": {
    "collapsed": true
   },
   "outputs": [],
   "source": [
    "def get_path(entry):\n",
    "    return os.path.join('datasets', entry['source'], entry['filename'].rstrip())"
   ]
  },
  {
   "cell_type": "code",
   "execution_count": null,
   "metadata": {
    "collapsed": true
   },
   "outputs": [],
   "source": [
    "prototype_dict = {}\n",
    "failure_count = 0\n",
    "for i,(_,entry) in enumerate(all_oqmd.iterrows()):\n",
    "    try:\n",
    "        PrototypeLibraryFactory.add_structure(prototype_dict, io.poscar.read(get_path(entry)))\n",
    "    except:\n",
    "        print('Entry failed: ' + entry['filename'], file=sys.stderr)\n",
    "    print('\\r%d/%d'%(i + 1, len(all_oqmd)), end=\"\")\n",
    "print('Identified %d prototypes. Errors=%d'%(len(prototype_dict), failure_count))"
   ]
  },
  {
   "cell_type": "code",
   "execution_count": null,
   "metadata": {
    "collapsed": true
   },
   "outputs": [],
   "source": [
    "with open('oqmd_prototypes.list', 'w') as fp:\n",
    "    for p,exs in prototype_dict.items():\n",
    "        for ex in exs:\n",
    "            print('%s %s'%(ex, p.name), file=fp)"
   ]
  },
  {
   "cell_type": "code",
   "execution_count": null,
   "metadata": {
    "collapsed": true
   },
   "outputs": [],
   "source": []
  }
 ],
 "metadata": {
  "kernelspec": {
   "display_name": "Python 2",
   "language": "python",
   "name": "python2"
  },
  "language_info": {
   "codemirror_mode": {
    "name": "ipython",
    "version": 2
   },
   "file_extension": ".py",
   "mimetype": "text/x-python",
   "name": "python",
   "nbconvert_exporter": "python",
   "pygments_lexer": "ipython2",
   "version": "2.7.13"
  }
 },
 "nbformat": 4,
 "nbformat_minor": 2
}
