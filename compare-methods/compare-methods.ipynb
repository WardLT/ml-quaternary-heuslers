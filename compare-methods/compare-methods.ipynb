{
 "cells": [
  {
   "cell_type": "markdown",
   "metadata": {},
   "source": [
    "# Comparison of Search Method\n",
    "This notebook describes how we compare the performance of our ML algorithm to other possible choices"
   ]
  },
  {
   "cell_type": "code",
   "execution_count": 1,
   "metadata": {
    "collapsed": true
   },
   "outputs": [],
   "source": [
    "%matplotlib inline\n",
    "from matplotlib import pyplot as plt\n",
    "from sklearn.preprocessing import Imputer\n",
    "from sklearn.pipeline import Pipeline\n",
    "from sklearn.ensemble import RandomForestRegressor\n",
    "from sklearn.model_selection import train_test_split\n",
    "from tqdm import tqdm_notebook as tqdm\n",
    "import pandas as pd\n",
    "import os\n",
    "import numpy as np\n",
    "import json"
   ]
  },
  {
   "cell_type": "code",
   "execution_count": 2,
   "metadata": {
    "collapsed": true
   },
   "outputs": [],
   "source": [
    "train_size = 1000\n",
    "test_size = 20000\n",
    "n_repeats = 25\n",
    "pick_size = 50"
   ]
  },
  {
   "cell_type": "markdown",
   "metadata": {},
   "source": [
    "## Load in the Known Data"
   ]
  },
  {
   "cell_type": "code",
   "execution_count": 3,
   "metadata": {
    "collapsed": true
   },
   "outputs": [],
   "source": [
    "def load_data(path):\n",
    "    \"\"\"Read in a JSON file from disk, and return a DataFrame with columns as attributes and class\"\"\"\n",
    "    \n",
    "    temp = json.load(open(path))\n",
    "    data = pd.DataFrame([x['attributes']+[x['class']['measured'],] for x in temp['entries']],\n",
    "                        columns=temp['attribute-names']+['class',])\n",
    "    data = data[~data['class'].isnull()]\n",
    "    return data\n",
    "data = load_data(os.path.join('..', 'datasets', 'quat-heuslers.json'))"
   ]
  },
  {
   "cell_type": "code",
   "execution_count": 4,
   "metadata": {},
   "outputs": [
    {
     "name": "stdout",
     "output_type": "stream",
     "text": [
      "Number of stable QHs: 352/96188\n"
     ]
    }
   ],
   "source": [
    "count = len(data)\n",
    "n_stable = (data['class'] <= 0).sum()\n",
    "print('Number of stable QHs: %d/%d'%(n_stable, count))"
   ]
  },
  {
   "cell_type": "code",
   "execution_count": 5,
   "metadata": {},
   "outputs": [
    {
     "name": "stdout",
     "output_type": "stream",
     "text": [
      "Expected number of stable / test split: 73.190002911\n"
     ]
    }
   ],
   "source": [
    "print('Expected number of stable / test split:', n_stable / count * test_size)"
   ]
  },
  {
   "cell_type": "markdown",
   "metadata": {},
   "source": [
    "Load in OQMD/TH data"
   ]
  },
  {
   "cell_type": "code",
   "execution_count": 6,
   "metadata": {
    "collapsed": true
   },
   "outputs": [],
   "source": [
    "other_data = pd.concat([load_data(os.path.join('..', 'datasets', '%s.json'%x)) \n",
    "                        for x in ['oqmd-no-heusler', 'heuslers']])"
   ]
  },
  {
   "cell_type": "code",
   "execution_count": 7,
   "metadata": {
    "collapsed": true
   },
   "outputs": [],
   "source": [
    "other_data = other_data[np.logical_not(np.any(other_data.isnull(), axis=1))]"
   ]
  },
  {
   "cell_type": "markdown",
   "metadata": {},
   "source": [
    "## Implementing the Search Strategies\n",
    "Each of these methods must take two arguements: \"known\" data for training, and the search space. Both arguments are Pandas data frames, and the method must return `pick_size` number of rows from that dataframe."
   ]
  },
  {
   "cell_type": "code",
   "execution_count": 8,
   "metadata": {
    "collapsed": true
   },
   "outputs": [],
   "source": [
    "tests = dict()"
   ]
  },
  {
   "cell_type": "markdown",
   "metadata": {},
   "source": [
    "### Random Search\n",
    "Just pick rows randomly"
   ]
  },
  {
   "cell_type": "code",
   "execution_count": 9,
   "metadata": {
    "collapsed": true
   },
   "outputs": [],
   "source": [
    "def random_search(train_data, search_data):\n",
    "    return search_data.sample(pick_size)"
   ]
  },
  {
   "cell_type": "code",
   "execution_count": 10,
   "metadata": {
    "collapsed": true
   },
   "outputs": [],
   "source": [
    "tests['Random\\nSearch'] = random_search"
   ]
  },
  {
   "cell_type": "markdown",
   "metadata": {},
   "source": [
    "### Valence Electron Counting\n",
    "Prioritize compounds with 18 or 24 electrons"
   ]
  },
  {
   "cell_type": "code",
   "execution_count": 11,
   "metadata": {
    "collapsed": true
   },
   "outputs": [],
   "source": [
    "def valence_count(train_data, search_data):\n",
    "    search_data = search_data.copy()\n",
    "    search_data['matches'] = np.logical_or(np.isclose(search_data['mean_NValance'], 18.0 / 4),\n",
    "                                           np.isclose(search_data['mean_NValance'], 24.0 / 4))\n",
    "    return search_data.sample(len(search_data)).sort_values('matches', ascending=False).iloc[:pick_size]"
   ]
  },
  {
   "cell_type": "code",
   "execution_count": 12,
   "metadata": {
    "collapsed": true
   },
   "outputs": [],
   "source": [
    "tests['Electron\\nCounting'] = valence_count "
   ]
  },
  {
   "cell_type": "markdown",
   "metadata": {},
   "source": [
    "### Machine Learning Method\n",
    "Train an ML model using the method demonstrated in this work"
   ]
  },
  {
   "cell_type": "code",
   "execution_count": 13,
   "metadata": {
    "collapsed": true
   },
   "outputs": [],
   "source": [
    "X_cols = data.columns[:-1]\n",
    "y_col = data.columns[-1]"
   ]
  },
  {
   "cell_type": "code",
   "execution_count": 14,
   "metadata": {
    "collapsed": true
   },
   "outputs": [],
   "source": [
    "model = Pipeline([\n",
    "    ('imputer', Imputer()),\n",
    "    ('rf', RandomForestRegressor(n_estimators=100, n_jobs=-1))\n",
    "])"
   ]
  },
  {
   "cell_type": "code",
   "execution_count": 15,
   "metadata": {
    "collapsed": true
   },
   "outputs": [],
   "source": [
    "def ml_method(train_data, test_data):\n",
    "    # Train the model\n",
    "    model.fit(train_data[X_cols].astype(np.float32), train_data[y_col])\n",
    "    \n",
    "    # Predict stability\n",
    "    test_data = test_data.copy()\n",
    "    test_data['prediction'] = model.predict(test_data[X_cols])\n",
    "    return test_data.sort_values('prediction', ascending=True).iloc[:pick_size]"
   ]
  },
  {
   "cell_type": "code",
   "execution_count": 16,
   "metadata": {
    "collapsed": true
   },
   "outputs": [],
   "source": [
    "tests['Ward,\\nonly QH'] = ml_method"
   ]
  },
  {
   "cell_type": "code",
   "execution_count": 17,
   "metadata": {
    "collapsed": true
   },
   "outputs": [],
   "source": [
    "def ml_with_oqmd(train_data, test_data):\n",
    "    return ml_method(pd.concat([train_data, other_data]), test_data)"
   ]
  },
  {
   "cell_type": "code",
   "execution_count": 18,
   "metadata": {
    "collapsed": true
   },
   "outputs": [],
   "source": [
    "tests['Ward,\\nall OQMD'] = ml_with_oqmd"
   ]
  },
  {
   "cell_type": "markdown",
   "metadata": {},
   "source": [
    "## Running the Test\n",
    "For those methods we can test here"
   ]
  },
  {
   "cell_type": "code",
   "execution_count": 19,
   "metadata": {},
   "outputs": [
    {
     "name": "stderr",
     "output_type": "stream",
     "text": [
      "Widget Javascript not detected.  It may not be installed or enabled properly.\n"
     ]
    },
    {
     "data": {
      "application/vnd.jupyter.widget-view+json": {
       "model_id": "bb9f67dc77994cb19bcd45d6e66b29c8"
      }
     },
     "metadata": {},
     "output_type": "display_data"
    },
    {
     "name": "stdout",
     "output_type": "stream",
     "text": [
      "\n"
     ]
    }
   ],
   "source": [
    "results = dict([(k,[]) for k in tests.keys()])\n",
    "for i in tqdm(range(n_repeats), desc='Test'):\n",
    "    train_data, test_data = train_test_split(data, train_size=train_size, test_size=test_size, random_state=i)\n",
    "    for k,f in tests.items():\n",
    "        results[k].append(sum(f(train_data, test_data)['class'] <= 0))"
   ]
  },
  {
   "cell_type": "markdown",
   "metadata": {},
   "source": [
    "### Importing the Data\n",
    "For tests that run elsewhere"
   ]
  },
  {
   "cell_type": "code",
   "execution_count": 20,
   "metadata": {
    "collapsed": true
   },
   "outputs": [],
   "source": [
    "results['Faber\\nMethod'] = json.load(open('faber-result.json'))"
   ]
  },
  {
   "cell_type": "code",
   "execution_count": 21,
   "metadata": {
    "collapsed": true
   },
   "outputs": [],
   "source": [
    "results['DMSP'] = json.load(open('dmsp.json'))"
   ]
  },
  {
   "cell_type": "markdown",
   "metadata": {},
   "source": [
    "## Plot Results\n"
   ]
  },
  {
   "cell_type": "code",
   "execution_count": 22,
   "metadata": {
    "collapsed": true
   },
   "outputs": [],
   "source": [
    "test_names = list(results.keys())\n",
    "test_results = pd.DataFrame({\n",
    "    'name': test_names,\n",
    "    'mean': [np.mean(results[n]) for n in test_names],\n",
    "    'error': [np.std(results[n]) / np.sqrt(n_repeats) for n in test_names]\n",
    "})\n",
    "test_results.sort_values('mean', ascending=False, inplace=True)"
   ]
  },
  {
   "cell_type": "code",
   "execution_count": 23,
   "metadata": {
    "collapsed": true
   },
   "outputs": [
    {
     "data": {
      "text/html": [
       "<div>\n",
       "<style>\n",
       "    .dataframe thead tr:only-child th {\n",
       "        text-align: right;\n",
       "    }\n",
       "\n",
       "    .dataframe thead th {\n",
       "        text-align: left;\n",
       "    }\n",
       "\n",
       "    .dataframe tbody tr th {\n",
       "        vertical-align: top;\n",
       "    }\n",
       "</style>\n",
       "<table border=\"1\" class=\"dataframe\">\n",
       "  <thead>\n",
       "    <tr style=\"text-align: right;\">\n",
       "      <th></th>\n",
       "      <th>error</th>\n",
       "      <th>mean</th>\n",
       "      <th>name</th>\n",
       "    </tr>\n",
       "  </thead>\n",
       "  <tbody>\n",
       "    <tr>\n",
       "      <th>4</th>\n",
       "      <td>0.988704</td>\n",
       "      <td>12.04</td>\n",
       "      <td>Faber\\nMethod</td>\n",
       "    </tr>\n",
       "    <tr>\n",
       "      <th>3</th>\n",
       "      <td>0.549385</td>\n",
       "      <td>7.88</td>\n",
       "      <td>Ward,\\nall OQMD</td>\n",
       "    </tr>\n",
       "    <tr>\n",
       "      <th>2</th>\n",
       "      <td>0.441814</td>\n",
       "      <td>3.60</td>\n",
       "      <td>Ward,\\nonly QH</td>\n",
       "    </tr>\n",
       "    <tr>\n",
       "      <th>5</th>\n",
       "      <td>0.428878</td>\n",
       "      <td>2.96</td>\n",
       "      <td>DMSP</td>\n",
       "    </tr>\n",
       "    <tr>\n",
       "      <th>1</th>\n",
       "      <td>0.114822</td>\n",
       "      <td>0.52</td>\n",
       "      <td>Electron\\nCounting</td>\n",
       "    </tr>\n",
       "    <tr>\n",
       "      <th>0</th>\n",
       "      <td>0.080000</td>\n",
       "      <td>0.20</td>\n",
       "      <td>Random\\nSearch</td>\n",
       "    </tr>\n",
       "  </tbody>\n",
       "</table>\n",
       "</div>"
      ],
      "text/plain": [
       "      error   mean                name\n",
       "4  0.988704  12.04       Faber\\nMethod\n",
       "3  0.549385   7.88     Ward,\\nall OQMD\n",
       "2  0.441814   3.60      Ward,\\nonly QH\n",
       "5  0.428878   2.96                DMSP\n",
       "1  0.114822   0.52  Electron\\nCounting\n",
       "0  0.080000   0.20      Random\\nSearch"
      ]
     },
     "execution_count": 23,
     "metadata": {},
     "output_type": "execute_result"
    }
   ],
   "source": [
    "test_results"
   ]
  },
  {
   "cell_type": "code",
   "execution_count": 24,
   "metadata": {
    "collapsed": true
   },
   "outputs": [],
   "source": [
    "test_results.to_csv('test-results.csv', index=False)"
   ]
  },
  {
   "cell_type": "code",
   "execution_count": 25,
   "metadata": {
    "collapsed": true
   },
   "outputs": [
    {
     "data": {
      "image/png": "[encoded data removed]",
      "text/plain": [
       "<matplotlib.figure.Figure at 0x7f71cc672cf8>"
      ]
     },
     "metadata": {},
     "output_type": "display_data"
    }
   ],
   "source": [
    "fig, ax = plt.subplots()\n",
    "\n",
    "ticks = list(range(len(test_results)))\n",
    "ax.bar(ticks, test_results['mean'], yerr=test_results['error'])\n",
    "\n",
    "ax.set_xticks(ticks)\n",
    "ax.set_xticklabels(test_results['name'], fontsize=7.5)\n",
    "\n",
    "ax.set_xlabel('Method')\n",
    "ax.set_ylabel('Stable Compounds Found')\n",
    "\n",
    "fig.set_size_inches(89 / 25.4, 2.25)\n",
    "fig.tight_layout()\n",
    "fig.savefig('search-method-comparison.png', dpi=320)\n",
    "fig.savefig('search-method-comparison.pdf')"
   ]
  },
  {
   "cell_type": "code",
   "execution_count": 26,
   "metadata": {
    "collapsed": true
   },
   "outputs": [],
   "source": []
  }
 ],
 "metadata": {
  "kernelspec": {
   "display_name": "Python 3",
   "language": "python",
   "name": "python3"
  },
  "language_info": {
   "codemirror_mode": {
    "name": "ipython",
    "version": 3
   },
   "file_extension": ".py",
   "mimetype": "text/x-python",
   "name": "python",
   "nbconvert_exporter": "python",
   "pygments_lexer": "ipython3",
   "version": "3.6.0"
  }
 },
 "nbformat": 4,
 "nbformat_minor": 2
}
