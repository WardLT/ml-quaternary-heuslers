{
 "cells": [
  {
   "cell_type": "markdown",
   "metadata": {},
   "source": [
    "# Replicating Faber _et al._\n",
    "Use the representation developed by Faber _et al._ to predict stability given a dataset of all the same kinds of elements"
   ]
  },
  {
   "cell_type": "code",
   "execution_count": 1,
   "metadata": {
    "collapsed": true
   },
   "outputs": [],
   "source": [
    "%matplotlib inline\n",
    "from matplotlib import pyplot as plt\n",
    "from pymatgen import Element, Composition\n",
    "from pymatgen.io.vasp.outputs import Poscar\n",
    "from pymatgen.analysis import phase_diagram as pdg\n",
    "from sklearn.base import RegressorMixin\n",
    "from sklearn.model_selection import train_test_split\n",
    "from tqdm import tqdm_notebook as tqdm\n",
    "from multiprocessing import Pool\n",
    "import pandas as pd\n",
    "import numpy as np\n",
    "import os\n",
    "import re\n",
    "import itertools\n",
    "import json"
   ]
  },
  {
   "cell_type": "code",
   "execution_count": 2,
   "metadata": {
    "collapsed": true
   },
   "outputs": [],
   "source": [
    "train_size = 1000\n",
    "test_size = 20000\n",
    "n_repeats = 25\n",
    "pick_size = 50"
   ]
  },
  {
   "cell_type": "markdown",
   "metadata": {},
   "source": [
    "## Load in the QH dataset\n",
    "Load in the QH data, and convert stability where missing"
   ]
  },
  {
   "cell_type": "code",
   "execution_count": 3,
   "metadata": {
    "collapsed": true
   },
   "outputs": [],
   "source": [
    "qh_data = pd.read_csv(os.path.join('..', 'datasets', 'quat-heuslers', 'properties.txt'), delim_whitespace=True)"
   ]
  },
  {
   "cell_type": "code",
   "execution_count": 4,
   "metadata": {
    "collapsed": true
   },
   "outputs": [],
   "source": [
    "qh_data['stability'] = pd.to_numeric(qh_data['stability'], 'coerce')"
   ]
  },
  {
   "cell_type": "markdown",
   "metadata": {},
   "source": [
    "### Compute Missing Stabilities\n",
    "Some of these entries don't have the stability computed "
   ]
  },
  {
   "cell_type": "code",
   "execution_count": 5,
   "metadata": {
    "collapsed": true
   },
   "outputs": [],
   "source": [
    "def load_dataset(source):\n",
    "    d = pd.read_csv(os.path.join('..', 'datasets', source, 'properties.txt'), delim_whitespace=True)\n",
    "    d['source'] = source\n",
    "    d['composition'] = d['filename'].apply(lambda x: Composition(x.split(\"-\")[-1]))\n",
    "    return d"
   ]
  },
  {
   "cell_type": "code",
   "execution_count": 6,
   "metadata": {},
   "outputs": [
    {
     "name": "stderr",
     "output_type": "stream",
     "text": [
      "/home/wardlt/software/miniconda3/lib/python3.6/site-packages/IPython/core/interactiveshell.py:2881: DtypeWarning: Columns (3,5) have mixed types. Specify dtype option on import or set low_memory=False.\n",
      "  exec(code_obj, self.user_global_ns, self.user_ns)\n"
     ]
    },
    {
     "name": "stdout",
     "output_type": "stream",
     "text": [
      "Loaded 330116 OQMD entries. 15327 are missing stabilities\n"
     ]
    }
   ],
   "source": [
    "all_oqmd = pd.concat([\n",
    "    load_dataset(x) for x in ['oqmd-no-heusler', 'heuslers']\n",
    "])\n",
    "all_oqmd['id'] = list(range(len(all_oqmd)))\n",
    "all_oqmd.set_index('id', inplace=True)\n",
    "all_oqmd['stability'] = pd.to_numeric(all_oqmd['stability'], 'coerce')\n",
    "print('Loaded %d OQMD entries. %d are missing stabilities'%(len(all_oqmd), all_oqmd['stability'].isnull().sum()))"
   ]
  },
  {
   "cell_type": "code",
   "execution_count": 7,
   "metadata": {},
   "outputs": [
    {
     "data": {
      "application/vnd.jupyter.widget-view+json": {
       "model_id": "8e50d5b470b34109839c803a1ada34f0"
      }
     },
     "metadata": {},
     "output_type": "display_data"
    },
    {
     "name": "stderr",
     "output_type": "stream",
     "text": [
      "/home/wardlt/software/miniconda3/lib/python3.6/site-packages/pymatgen/core/periodic_table.py:398: UserWarning: No electronegativity for Ne. Setting to infinity. This has no physical meaning, and is mainly done to avoid errors caused by the code expecting a float.\n",
      "  % self.symbol)\n",
      "/home/wardlt/software/miniconda3/lib/python3.6/site-packages/pymatgen/core/periodic_table.py:398: UserWarning: No electronegativity for He. Setting to infinity. This has no physical meaning, and is mainly done to avoid errors caused by the code expecting a float.\n",
      "  % self.symbol)\n",
      "/home/wardlt/software/miniconda3/lib/python3.6/site-packages/pymatgen/core/periodic_table.py:398: UserWarning: No electronegativity for Ar. Setting to infinity. This has no physical meaning, and is mainly done to avoid errors caused by the code expecting a float.\n",
      "  % self.symbol)\n"
     ]
    },
    {
     "name": "stdout",
     "output_type": "stream",
     "text": [
      "\n"
     ]
    }
   ],
   "source": [
    "all_oqmd['pdentry'] = [pdg.PDEntry(c.fractional_composition, e, c.reduced_formula)\n",
    "                                   for c,e in tqdm(zip(all_oqmd['composition'], all_oqmd['delta_e']))]"
   ]
  },
  {
   "cell_type": "markdown",
   "metadata": {},
   "source": [
    "Compute stability for a missing entry"
   ]
  },
  {
   "cell_type": "code",
   "execution_count": 8,
   "metadata": {
    "collapsed": true
   },
   "outputs": [],
   "source": [
    "all_oqmd['system'] = all_oqmd['composition'].apply(lambda x: \"-\".join(sorted([y.symbol for y in x.keys()])))"
   ]
  },
  {
   "cell_type": "code",
   "execution_count": 9,
   "metadata": {
    "collapsed": true
   },
   "outputs": [],
   "source": [
    "def get_data_from_system(data, system):\n",
    "    \"\"\"Extract rows from a pandas array that are in a certain phase diagram\n",
    "    \n",
    "    :param data: DataFrame, data from which to query. Must contain column \"system\"\n",
    "    :param system: list/set, list of elements to serve as input\n",
    "    :return: DataFrame, with only entries that exclusively contain these elements\"\"\"\n",
    "    \n",
    "    # Get the systems that make up this phase diagram\n",
    "    constit_systems = set()\n",
    "    for sys in itertools.product(system, repeat=len(system)):\n",
    "        constit_systems.add('-'.join(sorted(set(sys))))\n",
    "    \n",
    "    # Get all points that are at any of those systems\n",
    "    query_str = ' or '.join(['system == \"%s\"'%s for s in constit_systems])\n",
    "    return data.query(query_str)"
   ]
  },
  {
   "cell_type": "code",
   "execution_count": 10,
   "metadata": {
    "collapsed": true
   },
   "outputs": [],
   "source": [
    "def compute_stability(entry):\n",
    "    comp = Composition(entry['filename'].split(\"-\")[-1]).fractional_composition\n",
    "    \n",
    "    # Create the phase diagram\n",
    "    my_oqmd = get_data_from_system(all_oqmd, [e.symbol for e in comp])\n",
    "    p = pdg.PhaseDiagram(my_oqmd['pdentry'])\n",
    "    \n",
    "    # Compute the reaction energy\n",
    "    return p.get_decomp_and_e_above_hull(pdg.PDEntry(comp, entry['delta_e']), True)[1]"
   ]
  },
  {
   "cell_type": "code",
   "execution_count": 11,
   "metadata": {},
   "outputs": [
    {
     "data": {
      "application/vnd.jupyter.widget-view+json": {
       "model_id": "a57d00d7074b433cbc91f8609e185184"
      }
     },
     "metadata": {},
     "output_type": "display_data"
    },
    {
     "name": "stdout",
     "output_type": "stream",
     "text": [
      "\n"
     ]
    }
   ],
   "source": [
    "for row,entry in tqdm(list(qh_data[qh_data['stability'].isnull()].iterrows())):\n",
    "    qh_data.loc[row,'stability'] = compute_stability(entry)"
   ]
  },
  {
   "cell_type": "markdown",
   "metadata": {},
   "source": [
    "## Load in list of elements and compositions"
   ]
  },
  {
   "cell_type": "code",
   "execution_count": 12,
   "metadata": {
    "collapsed": true
   },
   "outputs": [],
   "source": [
    "ere = re.compile(\"[A-Z][a-z]?\")"
   ]
  },
  {
   "cell_type": "code",
   "execution_count": 13,
   "metadata": {
    "collapsed": true
   },
   "outputs": [],
   "source": [
    "def get_element_tuple(filename):\n",
    "    # Load in the poscar\n",
    "    try:\n",
    "        pos = Poscar.from_file(os.path.join('..', 'datasets', 'quat-heuslers', filename))\n",
    "    except:\n",
    "        raise\n",
    "        #return np.array([Element(x) for x in ere.findall(filename.split(\"-\")[-1])])\n",
    "    \n",
    "    # Get the atoms in sites in the order\n",
    "    #   [0, 0, 0], [0.25, 0.25, 0.25], [0.5, 0.5, 0.5], [0.75, 0.75, 0.75]\n",
    "    elems = [None,] * 4\n",
    "    for atom in pos.structure:\n",
    "        elems[(int(round(atom.frac_coords[0] * 4))) % 4] = atom.specie\n",
    "    \n",
    "    if any([e is None for e in elems]):\n",
    "        raise Exception('Atom not matched')\n",
    "    return np.array(elems)"
   ]
  },
  {
   "cell_type": "code",
   "execution_count": 14,
   "metadata": {},
   "outputs": [
    {
     "name": "stdout",
     "output_type": "stream",
     "text": [
      "CPU times: user 447 ms, sys: 362 ms, total: 809 ms\n",
      "Wall time: 7min 7s\n"
     ]
    }
   ],
   "source": [
    "%%time\n",
    "with Pool(None) as p:\n",
    "    qh_data['elems'] = p.map(get_element_tuple, qh_data['filename'])"
   ]
  },
  {
   "cell_type": "markdown",
   "metadata": {},
   "source": [
    "Eliminate entries with 3 elements"
   ]
  },
  {
   "cell_type": "code",
   "execution_count": 15,
   "metadata": {
    "collapsed": true
   },
   "outputs": [],
   "source": [
    "qh_data['nelems'] = [len(x) for x in qh_data['elems']]"
   ]
  },
  {
   "cell_type": "code",
   "execution_count": 16,
   "metadata": {
    "collapsed": true
   },
   "outputs": [],
   "source": [
    "qh_data.query('nelems == 4', inplace=True)"
   ]
  },
  {
   "cell_type": "markdown",
   "metadata": {},
   "source": [
    "Get list of all the elements"
   ]
  },
  {
   "cell_type": "code",
   "execution_count": 17,
   "metadata": {},
   "outputs": [
    {
     "name": "stdout",
     "output_type": "stream",
     "text": [
      "54 elements in space\n"
     ]
    }
   ],
   "source": [
    "qh_elements = list(set(sum([x.tolist() for x in qh_data['elems'] if x is not None], [])))\n",
    "print('%d elements in space'%len(qh_elements))"
   ]
  },
  {
   "cell_type": "markdown",
   "metadata": {},
   "source": [
    "Save data for later use"
   ]
  },
  {
   "cell_type": "code",
   "execution_count": 52,
   "metadata": {},
   "outputs": [],
   "source": [
    "with open('qh-training-set.list', 'w') as fp:\n",
    "    print('comp', 'stable{True,False}', file=fp)\n",
    "    for rid, row in qh_data.iterrows():\n",
    "        print(''.join([e.symbol for e in row['elems']]), row['stability'] <= 0, file=fp)"
   ]
  },
  {
   "cell_type": "markdown",
   "metadata": {},
   "source": [
    "## Create code for measuring \"distance\" between entries\n",
    "Faber represents each electrons by a tuple where composed of the row and column number of each site. "
   ]
  },
  {
   "cell_type": "code",
   "execution_count": 18,
   "metadata": {
    "collapsed": true
   },
   "outputs": [],
   "source": [
    "def compute_representation(elems):\n",
    "    return [e.row for e in elems] + [e.group for e in elems]\n",
    "assert compute_representation([Element('Al')]) == [3, 13]"
   ]
  },
  {
   "cell_type": "markdown",
   "metadata": {},
   "source": [
    "For Faber's work on Elpasolite, each unique structure has exactly one order of elements. They then measured distance by the Manhatten distance. In our case, each structure has 8 different possible orders of elements (e.g., ABCD == DABC == DCBA == <...>). So, we compute the distance between two structures by computing the minimum Manhattan distance between any two pairs of these structures (a total of 64 pairs)."
   ]
  },
  {
   "cell_type": "code",
   "execution_count": 19,
   "metadata": {
    "collapsed": true
   },
   "outputs": [],
   "source": [
    "perms = [[i, (i+1)%4, (i+2)%4, (i+3)%4] for i in range(4)]\n",
    "perms = perms + [p[::-1] for p in perms]"
   ]
  },
  {
   "cell_type": "code",
   "execution_count": 20,
   "metadata": {
    "collapsed": true
   },
   "outputs": [],
   "source": [
    "def compute_distance(elemsA, elemsB):\n",
    "    permsA = [np.array(compute_representation(elemsA[p])) for p in perms]\n",
    "    permsB = [np.array(compute_representation(elemsB[p])) for p in perms]\n",
    "    return min([np.linalg.norm(p1 - p2, 1) for p1,p2 in itertools.product(permsA, permsB)])\n",
    "assert compute_distance(qh_data['elems'].iloc[0], qh_data['elems'].iloc[0]) == 0.0\n",
    "assert compute_distance(qh_data['elems'].iloc[0], qh_data['elems'].iloc[0][[1,0,2,3]]) > 0.0\n",
    "assert all([compute_distance(x, qh_data['elems'].iloc[0]) >= 0 for x in qh_data['elems'].iloc[:1000] if x is not None])"
   ]
  },
  {
   "cell_type": "markdown",
   "metadata": {},
   "source": [
    "## Create Machine Learning Algorithm\n",
    "Faber uses a KRR-like model. The terms in the model are:\n",
    "\n",
    "$E(x) = \\sum_{i} \\beta_i A_i(x) + \\sum_j \\alpha_j exp(-d_{j}/\\sigma)$\n",
    "\n",
    "where $A_i(x)$ is equal to 1 if a certain element $i$ is present in $x$, $d_j$ is the distance between $x$ and entry $j$ of the training set, and $\\sigma$ is a length-scale parameter. The parameters $\\beta$ and $\\alpha$ are learned via linear regression."
   ]
  },
  {
   "cell_type": "code",
   "execution_count": 21,
   "metadata": {
    "collapsed": true
   },
   "outputs": [],
   "source": [
    "class FaberFitter(RegressorMixin):\n",
    "    \n",
    "    def __init__(self, sigma=1, reg_elems=1e-6, reg_dist=1e-6):\n",
    "        self.sigma = sigma\n",
    "        self.reg_elems = reg_elems\n",
    "        self.reg_dist = reg_dist\n",
    "    \n",
    "    def _compute_elem_inputs(self, X):\n",
    "        output = np.zeros((len(X), len(qh_elements)))\n",
    "        for i,x in enumerate(X):\n",
    "            for e in x:\n",
    "                output[i,qh_elements.index(e)] = 1\n",
    "        return output\n",
    "   \n",
    "    def _compute_row(self, x):\n",
    "        return [compute_distance(x, y) for y in self.train_set]\n",
    "        \n",
    "    def _compute_dist_matrix(self, X):\n",
    "        # Compute the distance matrix in parallel\n",
    "        with Pool(None) as p:\n",
    "            dists = p.map(self._compute_row, X)\n",
    "        return np.array(dists)\n",
    "    \n",
    "    def fit(self, X, y):\n",
    "        self.train_set = list(X)\n",
    "        elems = self._compute_elem_inputs(X)\n",
    "        dist = self._compute_dist_matrix(X)\n",
    "        \n",
    "        return self._fit(elems, dist, y)\n",
    "    \n",
    "    def tune_and_fit(self, X, y, X_test, y_test, sigmas=np.logspace(-4, 4, 8), \n",
    "                    reg_elems=np.logspace(-6,2,8), reg_dist=np.logspace(-6,2,8)):\n",
    "        # Precompute distance matrices\n",
    "        self.train_set = list(X)\n",
    "        elems = self._compute_elem_inputs(X)\n",
    "        dist = self._compute_dist_matrix(X)\n",
    "        \n",
    "        elems_test = self._compute_elem_inputs(X_test)\n",
    "        dists_test = self._compute_dist_matrix(X_test)\n",
    "        \n",
    "        # Optimize the parameters\n",
    "        best_params = []\n",
    "        best_score = np.inf\n",
    "        for s,e,d in tqdm(itertools.product(sigmas, reg_elems, reg_dist), leave=False):\n",
    "            # Fit the model\n",
    "            self.sigma = s\n",
    "            self.reg_elems = e\n",
    "            self.reg_dist = d\n",
    "            self._fit(elems, dist, y)\n",
    "            \n",
    "            # Test the model\n",
    "            y_pred = self._predict(elems_test, dists_test)\n",
    "            score = np.mean(np.power(y_pred - y_test, 2))\n",
    "            if score < best_score:\n",
    "                best_params = (s,e,d)\n",
    "                best_score = score\n",
    "                \n",
    "        # Set the best parameters\n",
    "        self.sigma = best_params[0]\n",
    "        self.reg_elems = best_params[1]\n",
    "        self.reg_dist = best_params[2]\n",
    "        self._fit(elems, dist, y)\n",
    "    \n",
    "    def _fit(self, elem_matrix, dist_matrix, y):\n",
    "        # Remove the element contributions\n",
    "        self.elem_coeff = np.linalg.solve(\n",
    "            np.dot(elem_matrix.T, elem_matrix) + np.eye(len(qh_elements)) * self.reg_elems, np.dot(elem_matrix.T, y)\n",
    "        )\n",
    "        y_p = y - np.dot(elem_matrix, self.elem_coeff)\n",
    "        \n",
    "        # Solve the kernel matrix\n",
    "        kernl = np.exp(-1 * dist_matrix / self.sigma)\n",
    "        self.coeff = np.linalg.solve(kernl + np.eye(*kernl.shape) * self.reg_dist, y_p)\n",
    "        return self\n",
    "    \n",
    "    def predict(self, X):\n",
    "        elems = self._compute_elem_inputs(X)\n",
    "        dists = self._compute_dist_matrix(X)\n",
    "        return self._predict(elems, dists)\n",
    "        \n",
    "    def _predict(self, elems, dists):\n",
    "        kernl = np.exp(-1 * dists / self.sigma)\n",
    "        return np.dot(elems, self.elem_coeff) + np.dot(kernl, self.coeff)\n",
    "model = FaberFitter(1, 1e-10, 1e-10)\n",
    "assert np.isclose(\n",
    "    model.fit(qh_data['elems'].iloc[:5], qh_data['stability'].iloc[:5]).predict(qh_data['elems'].iloc[:5]),\n",
    "    qh_data['stability'].iloc[:5].values\n",
    ").all()"
   ]
  },
  {
   "cell_type": "markdown",
   "metadata": {},
   "source": [
    "### Determine an Appropriate Sigma\n",
    "Find the $\\sigma$ that minimize CV error - with a dataset of the same size as used in the test. Limit the number of test points to 256 to make this go faster."
   ]
  },
  {
   "cell_type": "code",
   "execution_count": 23,
   "metadata": {
    "collapsed": true
   },
   "outputs": [],
   "source": [
    "train_data, test_data = train_test_split(qh_data, train_size=train_size, test_size=train_size)"
   ]
  },
  {
   "cell_type": "code",
   "execution_count": 26,
   "metadata": {},
   "outputs": [
    {
     "data": {
      "application/vnd.jupyter.widget-view+json": {
       "model_id": "719f974f98bd48a8a4d6ce2edc470959"
      }
     },
     "metadata": {},
     "output_type": "display_data"
    },
    {
     "name": "stdout",
     "output_type": "stream",
     "text": [
      "\r"
     ]
    }
   ],
   "source": [
    "model = FaberFitter()\n",
    "model.tune_and_fit(train_data['elems'], train_data['stability'], test_data['elems'], test_data['stability'])"
   ]
  },
  {
   "cell_type": "code",
   "execution_count": 27,
   "metadata": {},
   "outputs": [
    {
     "name": "stdout",
     "output_type": "stream",
     "text": [
      "Best sigma: 3.72759372031\n"
     ]
    }
   ],
   "source": [
    "print('Best sigma:', model.sigma)"
   ]
  },
  {
   "cell_type": "code",
   "execution_count": 28,
   "metadata": {
    "collapsed": true
   },
   "outputs": [],
   "source": [
    "predictions = model.predict(test_data['elems'])"
   ]
  },
  {
   "cell_type": "code",
   "execution_count": 29,
   "metadata": {},
   "outputs": [
    {
     "name": "stdout",
     "output_type": "stream",
     "text": [
      "R: 0.894732615995\n"
     ]
    },
    {
     "data": {
      "text/plain": [
       "<matplotlib.text.Text at 0x7f58168e45f8>"
      ]
     },
     "execution_count": 29,
     "metadata": {},
     "output_type": "execute_result"
    },
    {
     "data": {
      "image/png": "[encoded data removed]",
      "text/plain": [
       "<matplotlib.figure.Figure at 0x7f57d2f48198>"
      ]
     },
     "metadata": {},
     "output_type": "display_data"
    }
   ],
   "source": [
    "fig, ax = plt.subplots()\n",
    "\n",
    "ax.scatter(test_data['stability'], predictions)\n",
    "print('R:', np.corrcoef(predictions, test_data['stability'])[0][1])\n",
    "\n",
    "ax.set_xlim(ax.get_ylim())\n",
    "ax.set_ylim(ax.get_ylim())\n",
    "\n",
    "ax.plot(ax.get_xlim(), ax.get_ylim(), 'k--')\n",
    "\n",
    "ax.set_xlabel('Stability, DFT (eV/atom)')\n",
    "ax.set_ylabel('Stability, ML (eV/atom)')"
   ]
  },
  {
   "cell_type": "markdown",
   "metadata": {
    "collapsed": true
   },
   "source": [
    "## Run the Test Several Times"
   ]
  },
  {
   "cell_type": "code",
   "execution_count": null,
   "metadata": {
    "collapsed": true
   },
   "outputs": [],
   "source": [
    "def run_test(i):\n",
    "    train_data, test_data = train_test_split(qh_data, train_size=train_size, test_size=test_size, random_state=i)\n",
    "    \n",
    "    model.fit(train_data['elems'], train_data['stability'])\n",
    "    test_data = test_data.copy()\n",
    "    test_data['prediction'] = model.predict(test_data['elems'])\n",
    "    test_data.sort_values('prediction', ascending=True, inplace=True)\n",
    "    return sum(test_data['stability'].iloc[:pick_size] <= 0)"
   ]
  },
  {
   "cell_type": "code",
   "execution_count": null,
   "metadata": {},
   "outputs": [
    {
     "name": "stderr",
     "output_type": "stream",
     "text": [
      "Widget Javascript not detected.  It may not be installed or enabled properly.\n"
     ]
    },
    {
     "data": {
      "application/vnd.jupyter.widget-view+json": {
       "model_id": "4bd84486a45e4c75b2f8bd9214911653"
      }
     },
     "metadata": {},
     "output_type": "display_data"
    },
    {
     "name": "stdout",
     "output_type": "stream",
     "text": [
      "\n"
     ]
    }
   ],
   "source": [
    "scores = [run_test(i) for i in tqdm(range(n_repeats))]"
   ]
  },
  {
   "cell_type": "code",
   "execution_count": 42,
   "metadata": {
    "collapsed": true
   },
   "outputs": [],
   "source": [
    "scores = np.array(scores).tolist()"
   ]
  },
  {
   "cell_type": "code",
   "execution_count": 43,
   "metadata": {
    "collapsed": true
   },
   "outputs": [],
   "source": [
    "json.dump(scores, open('faber-result.json', 'w'))"
   ]
  },
  {
   "cell_type": "markdown",
   "metadata": {
    "collapsed": true
   },
   "source": [
    "## Get MAE as function of system size"
   ]
  },
  {
   "cell_type": "code",
   "execution_count": 47,
   "metadata": {
    "collapsed": true
   },
   "outputs": [],
   "source": [
    "def get_mae(train_data, test_data):   \n",
    "    # Tune the metaparameters given trainng data\n",
    "    model = FaberFitter()\n",
    "    if len(train_data) >= 10:\n",
    "        train_train_data, train_test_data = train_test_split(train_data, test_size=0.1)\n",
    "        \n",
    "        model.tune_and_fit(train_train_data['elems'], train_train_data['stability'],\n",
    "                          train_test_data['elems'], train_test_data['stability'])\n",
    "    \n",
    "    \n",
    "    model.fit(train_data['elems'], train_data['stability'])\n",
    "    test_data = test_data.copy()\n",
    "    test_data['prediction'] = model.predict(test_data['elems'])\n",
    "    return np.mean(np.abs(test_data['prediction'] - test_data['stability']))"
   ]
  },
  {
   "cell_type": "code",
   "execution_count": null,
   "metadata": {},
   "outputs": [
    {
     "data": {
      "application/vnd.jupyter.widget-view+json": {
       "model_id": "09917487749d4aa5b99e056b84ed4f68"
      }
     },
     "metadata": {},
     "output_type": "display_data"
    },
    {
     "data": {
      "application/vnd.jupyter.widget-view+json": {
       "model_id": "c799bee8f09d4c6fa523bf0f4d4ead6e"
      }
     },
     "metadata": {},
     "output_type": "display_data"
    },
    {
     "name": "stdout",
     "output_type": "stream",
     "text": [
      "\r"
     ]
    },
    {
     "data": {
      "application/vnd.jupyter.widget-view+json": {
       "model_id": "bf3a266af72f441b8e3c914dfada451e"
      }
     },
     "metadata": {},
     "output_type": "display_data"
    },
    {
     "name": "stdout",
     "output_type": "stream",
     "text": [
      "\r"
     ]
    },
    {
     "data": {
      "application/vnd.jupyter.widget-view+json": {
       "model_id": "5a32ce6e40004e4786811fd571572177"
      }
     },
     "metadata": {},
     "output_type": "display_data"
    },
    {
     "data": {
      "application/vnd.jupyter.widget-view+json": {
       "model_id": "598725ff80ef44d5ba190ced8f6f417d"
      }
     },
     "metadata": {},
     "output_type": "display_data"
    },
    {
     "data": {
      "application/vnd.jupyter.widget-view+json": {
       "model_id": "9e7c472b48154c3f9e1e50fddfd47a71"
      }
     },
     "metadata": {},
     "output_type": "display_data"
    }
   ],
   "source": [
    "test_results = {'size':[], 'mae':[]}\n",
    "for rep in tqdm(range(1), desc='reps', leave=True):\n",
    "    # Get a new test set from the QH compounds, store remainder as train\n",
    "    pool, test = train_test_split(qh_data, test_size=1000)\n",
    "\n",
    "    # Gradually increase size of training set\n",
    "    for qh_size in tqdm(np.logspace(0, np.log10(len(pool)), 8, dtype=int), desc='size', leave=False):\n",
    "        if qh_size > 25000:\n",
    "            continue\n",
    "        train_data = pool.sample(qh_size)\n",
    "        test_results['size'].append(qh_size)\n",
    "        test_results['mae'].append(get_mae(train_data, test))\n",
    "test_results = pd.DataFrame(test_results)"
   ]
  },
  {
   "cell_type": "code",
   "execution_count": null,
   "metadata": {
    "collapsed": true
   },
   "outputs": [],
   "source": [
    "test_results"
   ]
  },
  {
   "cell_type": "code",
   "execution_count": null,
   "metadata": {
    "collapsed": true
   },
   "outputs": [],
   "source": []
  }
 ],
 "metadata": {
  "kernelspec": {
   "display_name": "Python 3",
   "language": "python",
   "name": "python3"
  },
  "language_info": {
   "codemirror_mode": {
    "name": "ipython",
    "version": 3
   },
   "file_extension": ".py",
   "mimetype": "text/x-python",
   "name": "python",
   "nbconvert_exporter": "python",
   "pygments_lexer": "ipython3",
   "version": "3.6.0"
  }
 },
 "nbformat": 4,
 "nbformat_minor": 2
}
