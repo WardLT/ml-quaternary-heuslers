{
 "cells": [
  {
   "cell_type": "markdown",
   "metadata": {},
   "source": [
    "# Plot Results of Comparison\n",
    "The purpose of the plot is to compare the performance of different methods, and show how their accuracy changes as a function of training set size."
   ]
  },
  {
   "cell_type": "code",
   "execution_count": 1,
   "metadata": {
    "collapsed": true
   },
   "outputs": [],
   "source": [
    "%matplotlib inline\n",
    "from matplotlib import pyplot as plt\n",
    "from scipy.stats import sem\n",
    "import pandas as pd\n",
    "import numpy as np\n",
    "import json"
   ]
  },
  {
   "cell_type": "code",
   "execution_count": 2,
   "metadata": {
    "collapsed": true
   },
   "outputs": [],
   "source": [
    "plot_width = 89 / 25.4\n",
    "plot_height = plot_width * 3 / 4\n",
    "font_size = 12"
   ]
  },
  {
   "cell_type": "markdown",
   "metadata": {},
   "source": [
    "## Load in the Results\n",
    "This JSON file contains the number of QH that were found to be stable for many different methods as a function of training set size."
   ]
  },
  {
   "cell_type": "code",
   "execution_count": 3,
   "metadata": {
    "collapsed": true
   },
   "outputs": [],
   "source": [
    "raw_data = json.load(open('test-results.json'))"
   ]
  },
  {
   "cell_type": "markdown",
   "metadata": {},
   "source": [
    "## Compute Averages\n",
    "Get the average performance over all of the tests"
   ]
  },
  {
   "cell_type": "code",
   "execution_count": 4,
   "metadata": {
    "collapsed": true
   },
   "outputs": [],
   "source": [
    "results = []\n",
    "for method, tests in raw_data.items():\n",
    "    for size, scores in tests.items():\n",
    "        results.append({\n",
    "            'method': method,\n",
    "            'size': int(size),\n",
    "            'mean': np.mean(scores),\n",
    "            'sem': sem(scores) \n",
    "        })\n",
    "results = pd.DataFrame(results)"
   ]
  },
  {
   "cell_type": "markdown",
   "metadata": {},
   "source": [
    "Print out performance at 1 QH and 1000 QHs (used in discussion in text)"
   ]
  },
  {
   "cell_type": "code",
   "execution_count": 5,
   "metadata": {},
   "outputs": [
    {
     "data": {
      "text/html": [
       "<div>\n",
       "<style>\n",
       "    .dataframe thead tr:only-child th {\n",
       "        text-align: right;\n",
       "    }\n",
       "\n",
       "    .dataframe thead th {\n",
       "        text-align: left;\n",
       "    }\n",
       "\n",
       "    .dataframe tbody tr th {\n",
       "        vertical-align: top;\n",
       "    }\n",
       "</style>\n",
       "<table border=\"1\" class=\"dataframe\">\n",
       "  <thead>\n",
       "    <tr style=\"text-align: right;\">\n",
       "      <th></th>\n",
       "      <th>mean</th>\n",
       "      <th>method</th>\n",
       "      <th>sem</th>\n",
       "      <th>size</th>\n",
       "    </tr>\n",
       "  </thead>\n",
       "  <tbody>\n",
       "    <tr>\n",
       "      <th>20</th>\n",
       "      <td>0.00</td>\n",
       "      <td>Faber\\nMethod</td>\n",
       "      <td>0.000000</td>\n",
       "      <td>1</td>\n",
       "    </tr>\n",
       "    <tr>\n",
       "      <th>24</th>\n",
       "      <td>0.00</td>\n",
       "      <td>DMSP</td>\n",
       "      <td>0.000000</td>\n",
       "      <td>1</td>\n",
       "    </tr>\n",
       "    <tr>\n",
       "      <th>10</th>\n",
       "      <td>0.12</td>\n",
       "      <td>Ward,\\nonly QH</td>\n",
       "      <td>0.066332</td>\n",
       "      <td>1</td>\n",
       "    </tr>\n",
       "    <tr>\n",
       "      <th>0</th>\n",
       "      <td>0.24</td>\n",
       "      <td>Random\\nSearch</td>\n",
       "      <td>0.087178</td>\n",
       "      <td>1</td>\n",
       "    </tr>\n",
       "    <tr>\n",
       "      <th>5</th>\n",
       "      <td>0.80</td>\n",
       "      <td>Electron\\nCounting</td>\n",
       "      <td>0.200000</td>\n",
       "      <td>1</td>\n",
       "    </tr>\n",
       "    <tr>\n",
       "      <th>15</th>\n",
       "      <td>8.16</td>\n",
       "      <td>Ward,\\nall OQMD</td>\n",
       "      <td>0.438482</td>\n",
       "      <td>1</td>\n",
       "    </tr>\n",
       "  </tbody>\n",
       "</table>\n",
       "</div>"
      ],
      "text/plain": [
       "    mean              method       sem  size\n",
       "20  0.00       Faber\\nMethod  0.000000     1\n",
       "24  0.00                DMSP  0.000000     1\n",
       "10  0.12      Ward,\\nonly QH  0.066332     1\n",
       "0   0.24      Random\\nSearch  0.087178     1\n",
       "5   0.80  Electron\\nCounting  0.200000     1\n",
       "15  8.16     Ward,\\nall OQMD  0.438482     1"
      ]
     },
     "execution_count": 5,
     "metadata": {},
     "output_type": "execute_result"
    }
   ],
   "source": [
    "results.query('size == 1').sort_values('mean')"
   ]
  },
  {
   "cell_type": "code",
   "execution_count": 6,
   "metadata": {},
   "outputs": [
    {
     "data": {
      "text/html": [
       "<div>\n",
       "<style>\n",
       "    .dataframe thead tr:only-child th {\n",
       "        text-align: right;\n",
       "    }\n",
       "\n",
       "    .dataframe thead th {\n",
       "        text-align: left;\n",
       "    }\n",
       "\n",
       "    .dataframe tbody tr th {\n",
       "        vertical-align: top;\n",
       "    }\n",
       "</style>\n",
       "<table border=\"1\" class=\"dataframe\">\n",
       "  <thead>\n",
       "    <tr style=\"text-align: right;\">\n",
       "      <th></th>\n",
       "      <th>mean</th>\n",
       "      <th>method</th>\n",
       "      <th>sem</th>\n",
       "      <th>size</th>\n",
       "    </tr>\n",
       "  </thead>\n",
       "  <tbody>\n",
       "    <tr>\n",
       "      <th>3</th>\n",
       "      <td>0.20</td>\n",
       "      <td>Random\\nSearch</td>\n",
       "      <td>0.081650</td>\n",
       "      <td>1000</td>\n",
       "    </tr>\n",
       "    <tr>\n",
       "      <th>8</th>\n",
       "      <td>0.60</td>\n",
       "      <td>Electron\\nCounting</td>\n",
       "      <td>0.182574</td>\n",
       "      <td>1000</td>\n",
       "    </tr>\n",
       "    <tr>\n",
       "      <th>13</th>\n",
       "      <td>3.72</td>\n",
       "      <td>Ward,\\nonly QH</td>\n",
       "      <td>0.348903</td>\n",
       "      <td>1000</td>\n",
       "    </tr>\n",
       "    <tr>\n",
       "      <th>27</th>\n",
       "      <td>3.88</td>\n",
       "      <td>DMSP</td>\n",
       "      <td>0.466619</td>\n",
       "      <td>1000</td>\n",
       "    </tr>\n",
       "    <tr>\n",
       "      <th>18</th>\n",
       "      <td>8.00</td>\n",
       "      <td>Ward,\\nall OQMD</td>\n",
       "      <td>0.326599</td>\n",
       "      <td>1000</td>\n",
       "    </tr>\n",
       "    <tr>\n",
       "      <th>23</th>\n",
       "      <td>11.16</td>\n",
       "      <td>Faber\\nMethod</td>\n",
       "      <td>0.857671</td>\n",
       "      <td>1000</td>\n",
       "    </tr>\n",
       "  </tbody>\n",
       "</table>\n",
       "</div>"
      ],
      "text/plain": [
       "     mean              method       sem  size\n",
       "3    0.20      Random\\nSearch  0.081650  1000\n",
       "8    0.60  Electron\\nCounting  0.182574  1000\n",
       "13   3.72      Ward,\\nonly QH  0.348903  1000\n",
       "27   3.88                DMSP  0.466619  1000\n",
       "18   8.00     Ward,\\nall OQMD  0.326599  1000\n",
       "23  11.16       Faber\\nMethod  0.857671  1000"
      ]
     },
     "execution_count": 6,
     "metadata": {},
     "output_type": "execute_result"
    }
   ],
   "source": [
    "results.query('size == 1000').sort_values('mean')"
   ]
  },
  {
   "cell_type": "markdown",
   "metadata": {},
   "source": [
    "## Plot the Results\n",
    "Make a plot with error bars"
   ]
  },
  {
   "cell_type": "markdown",
   "metadata": {},
   "source": [
    "Define the plot styles"
   ]
  },
  {
   "cell_type": "code",
   "execution_count": 7,
   "metadata": {
    "collapsed": true
   },
   "outputs": [],
   "source": [
    "plot_style = dict([(method, {'linestyle': '--', 'marker': 'o', 'color': 'b',}) for method in raw_data.keys()])"
   ]
  },
  {
   "cell_type": "code",
   "execution_count": 8,
   "metadata": {},
   "outputs": [],
   "source": [
    "plot_style['Random\\nSearch']['color'] = 'k'\n",
    "plot_style['Electron\\nCounting']['color'] = 'grey'\n",
    "\n",
    "plot_style['Ward,\\nonly QH']['marker'] = 's'\n",
    "plot_style['Ward,\\nall OQMD']['marker'] = 's'\n",
    "plot_style['Ward,\\nall OQMD']['linestyle'] = '-'\n",
    "\n",
    "plot_style['Faber\\nMethod']['color'] = 'r'\n",
    "plot_style['Faber\\nMethod']['marker'] = 'v'\n",
    "plot_style['Faber\\nMethod']['linestyle'] = '-'\n",
    "\n",
    "plot_style['DMSP']['linestyle'] = ':'\n",
    "plot_style['DMSP']['marker'] = '^'\n",
    "plot_style['DMSP']['color'] = 'green'"
   ]
  },
  {
   "cell_type": "markdown",
   "metadata": {},
   "source": [
    "Make a lookup table for shorter names"
   ]
  },
  {
   "cell_type": "code",
   "execution_count": 9,
   "metadata": {
    "collapsed": true
   },
   "outputs": [],
   "source": [
    "method_name = dict([(m,m.replace('\\n', ' ')) for m in raw_data.keys()])"
   ]
  },
  {
   "cell_type": "code",
   "execution_count": 10,
   "metadata": {
    "collapsed": true
   },
   "outputs": [],
   "source": [
    "method_name['Random\\nSearch'] = 'Random'\n",
    "method_name['Electron\\nCounting'] = 'Heuristic'\n",
    "method_name['Ward,\\nonly QH'] = 'Ward, QH'\n",
    "method_name['Ward,\\nall OQMD'] = 'Ward'\n",
    "method_name['Faber\\nMethod'] = 'Faber'"
   ]
  },
  {
   "cell_type": "markdown",
   "metadata": {},
   "source": [
    "Make the plot"
   ]
  },
  {
   "cell_type": "code",
   "execution_count": 11,
   "metadata": {},
   "outputs": [
    {
     "data": {
      "image/png": "[encoded data removed]",
      "text/plain": [
       "<matplotlib.figure.Figure at 0x1b25c050278>"
      ]
     },
     "metadata": {},
     "output_type": "display_data"
    }
   ],
   "source": [
    "fig, ax = plt.subplots()\n",
    "\n",
    "for method in raw_data.keys():\n",
    "    my_results = results[results['method'] == method]\n",
    "    ax.errorbar(my_results['size'], my_results['mean'], yerr=my_results['sem'],\n",
    "                label=method_name[method], **plot_style[method])\n",
    "\n",
    "ax.set_xscale('log')\n",
    "ax.set_ylim(min(ax.get_ylim()), 16)\n",
    "\n",
    "ax.legend(ncol=3, fontsize=font_size*0.75, loc=(-0.05, 0.85),\n",
    "          labelspacing=0.1, columnspacing=0.2,\n",
    "          facecolor='w', framealpha=1)\n",
    "\n",
    "ax.set_ylabel('Stable QHs Found', fontsize=font_size)\n",
    "ax.set_xlabel('Training Set Size', fontsize=font_size)\n",
    "\n",
    "fig.set_size_inches(plot_width, plot_height)\n",
    "fig.tight_layout()\n",
    "fig.savefig('search-method-comparison.png', dpi=320)\n",
    "fig.savefig('search-method-comparison.pdf')"
   ]
  },
  {
   "cell_type": "code",
   "execution_count": null,
   "metadata": {
    "collapsed": true
   },
   "outputs": [],
   "source": []
  }
 ],
 "metadata": {
  "kernelspec": {
   "display_name": "Python 3",
   "language": "python",
   "name": "python3"
  },
  "language_info": {
   "codemirror_mode": {
    "name": "ipython",
    "version": 3
   },
   "file_extension": ".py",
   "mimetype": "text/x-python",
   "name": "python",
   "nbconvert_exporter": "python",
   "pygments_lexer": "ipython3",
   "version": "3.6.0"
  }
 },
 "nbformat": 4,
 "nbformat_minor": 2
}
