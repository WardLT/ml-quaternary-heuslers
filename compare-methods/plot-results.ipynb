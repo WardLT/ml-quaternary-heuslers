{
 "cells": [
  {
   "cell_type": "markdown",
   "metadata": {},
   "source": [
    "# Plot Results of Comparison\n",
    "The purpose of the plot is to compare the performance of different methods, and show how their accuracy changes as a function of training set size."
   ]
  },
  {
   "cell_type": "code",
   "execution_count": 1,
   "metadata": {},
   "outputs": [],
   "source": [
    "%matplotlib inline\n",
    "from matplotlib import pyplot as plt\n",
    "from scipy.stats import sem\n",
    "import pandas as pd\n",
    "import numpy as np\n",
    "import json"
   ]
  },
  {
   "cell_type": "code",
   "execution_count": 2,
   "metadata": {},
   "outputs": [],
   "source": [
    "plot_width = 89 / 25.4\n",
    "plot_height = plot_width * 3 / 4\n",
    "font_size = 12"
   ]
  },
  {
   "cell_type": "markdown",
   "metadata": {},
   "source": [
    "## Load in the Results\n",
    "This JSON file contains the number of QH that were found to be stable for many different methods as a function of training set size."
   ]
  },
  {
   "cell_type": "code",
   "execution_count": 21,
   "metadata": {},
   "outputs": [],
   "source": [
    "raw_data = json.load(open('test-results.json'))"
   ]
  },
  {
   "cell_type": "code",
   "execution_count": 22,
   "metadata": {},
   "outputs": [],
   "source": [
    "with open('faber-result.json', 'r') as fp:\n",
    "    raw_data['Faber\\nMethod'] = json.load(fp)"
   ]
  },
  {
   "cell_type": "code",
   "execution_count": 23,
   "metadata": {},
   "outputs": [],
   "source": [
    "with open('dmsp.json', 'r') as fp:\n",
    "    raw_data['DMSP'] = json.load(fp)"
   ]
  },
  {
   "cell_type": "markdown",
   "metadata": {},
   "source": [
    "## Compute Averages\n",
    "Get the average performance over all of the tests"
   ]
  },
  {
   "cell_type": "code",
   "execution_count": 24,
   "metadata": {},
   "outputs": [],
   "source": [
    "results = []\n",
    "for method, tests in raw_data.items():\n",
    "    for size, scores in tests.items():\n",
    "        results.append({\n",
    "            'method': method,\n",
    "            'size': int(size),\n",
    "            'mean': np.mean(scores),\n",
    "            'sem': sem(scores) \n",
    "        })\n",
    "results = pd.DataFrame(results)"
   ]
  },
  {
   "cell_type": "markdown",
   "metadata": {},
   "source": [
    "Print out performance at 1 QH and 1000 QHs (used in discussion in text)"
   ]
  },
  {
   "cell_type": "code",
   "execution_count": 25,
   "metadata": {},
   "outputs": [
    {
     "data": {
      "text/html": [
       "<div>\n",
       "<style scoped>\n",
       "    .dataframe tbody tr th:only-of-type {\n",
       "        vertical-align: middle;\n",
       "    }\n",
       "\n",
       "    .dataframe tbody tr th {\n",
       "        vertical-align: top;\n",
       "    }\n",
       "\n",
       "    .dataframe thead th {\n",
       "        text-align: right;\n",
       "    }\n",
       "</style>\n",
       "<table border=\"1\" class=\"dataframe\">\n",
       "  <thead>\n",
       "    <tr style=\"text-align: right;\">\n",
       "      <th></th>\n",
       "      <th>mean</th>\n",
       "      <th>method</th>\n",
       "      <th>sem</th>\n",
       "      <th>size</th>\n",
       "    </tr>\n",
       "  </thead>\n",
       "  <tbody>\n",
       "    <tr>\n",
       "      <th>24</th>\n",
       "      <td>0.00</td>\n",
       "      <td>Faber\\nMethod</td>\n",
       "      <td>0.000000</td>\n",
       "      <td>1</td>\n",
       "    </tr>\n",
       "    <tr>\n",
       "      <th>29</th>\n",
       "      <td>0.00</td>\n",
       "      <td>DMSP</td>\n",
       "      <td>0.000000</td>\n",
       "      <td>1</td>\n",
       "    </tr>\n",
       "    <tr>\n",
       "      <th>12</th>\n",
       "      <td>0.12</td>\n",
       "      <td>Ward,\\nonly QH</td>\n",
       "      <td>0.066332</td>\n",
       "      <td>1</td>\n",
       "    </tr>\n",
       "    <tr>\n",
       "      <th>0</th>\n",
       "      <td>0.24</td>\n",
       "      <td>Random\\nSearch</td>\n",
       "      <td>0.104563</td>\n",
       "      <td>1</td>\n",
       "    </tr>\n",
       "    <tr>\n",
       "      <th>6</th>\n",
       "      <td>0.88</td>\n",
       "      <td>Electron\\nCounting</td>\n",
       "      <td>0.185472</td>\n",
       "      <td>1</td>\n",
       "    </tr>\n",
       "    <tr>\n",
       "      <th>18</th>\n",
       "      <td>7.64</td>\n",
       "      <td>Ward,\\nall OQMD</td>\n",
       "      <td>0.446766</td>\n",
       "      <td>1</td>\n",
       "    </tr>\n",
       "  </tbody>\n",
       "</table>\n",
       "</div>"
      ],
      "text/plain": [
       "    mean              method       sem  size\n",
       "24  0.00       Faber\\nMethod  0.000000     1\n",
       "29  0.00                DMSP  0.000000     1\n",
       "12  0.12      Ward,\\nonly QH  0.066332     1\n",
       "0   0.24      Random\\nSearch  0.104563     1\n",
       "6   0.88  Electron\\nCounting  0.185472     1\n",
       "18  7.64     Ward,\\nall OQMD  0.446766     1"
      ]
     },
     "execution_count": 25,
     "metadata": {},
     "output_type": "execute_result"
    }
   ],
   "source": [
    "results.query('size == 1').sort_values('mean')"
   ]
  },
  {
   "cell_type": "code",
   "execution_count": 26,
   "metadata": {},
   "outputs": [
    {
     "data": {
      "text/html": [
       "<div>\n",
       "<style scoped>\n",
       "    .dataframe tbody tr th:only-of-type {\n",
       "        vertical-align: middle;\n",
       "    }\n",
       "\n",
       "    .dataframe tbody tr th {\n",
       "        vertical-align: top;\n",
       "    }\n",
       "\n",
       "    .dataframe thead th {\n",
       "        text-align: right;\n",
       "    }\n",
       "</style>\n",
       "<table border=\"1\" class=\"dataframe\">\n",
       "  <thead>\n",
       "    <tr style=\"text-align: right;\">\n",
       "      <th></th>\n",
       "      <th>mean</th>\n",
       "      <th>method</th>\n",
       "      <th>sem</th>\n",
       "      <th>size</th>\n",
       "    </tr>\n",
       "  </thead>\n",
       "  <tbody>\n",
       "    <tr>\n",
       "      <th>3</th>\n",
       "      <td>0.16</td>\n",
       "      <td>Random\\nSearch</td>\n",
       "      <td>0.074833</td>\n",
       "      <td>1000</td>\n",
       "    </tr>\n",
       "    <tr>\n",
       "      <th>9</th>\n",
       "      <td>0.96</td>\n",
       "      <td>Electron\\nCounting</td>\n",
       "      <td>0.177764</td>\n",
       "      <td>1000</td>\n",
       "    </tr>\n",
       "    <tr>\n",
       "      <th>32</th>\n",
       "      <td>2.84</td>\n",
       "      <td>DMSP</td>\n",
       "      <td>0.531288</td>\n",
       "      <td>1000</td>\n",
       "    </tr>\n",
       "    <tr>\n",
       "      <th>15</th>\n",
       "      <td>3.64</td>\n",
       "      <td>Ward,\\nonly QH</td>\n",
       "      <td>0.355340</td>\n",
       "      <td>1000</td>\n",
       "    </tr>\n",
       "    <tr>\n",
       "      <th>21</th>\n",
       "      <td>7.64</td>\n",
       "      <td>Ward,\\nall OQMD</td>\n",
       "      <td>0.450481</td>\n",
       "      <td>1000</td>\n",
       "    </tr>\n",
       "    <tr>\n",
       "      <th>27</th>\n",
       "      <td>11.08</td>\n",
       "      <td>Faber\\nMethod</td>\n",
       "      <td>0.856193</td>\n",
       "      <td>1000</td>\n",
       "    </tr>\n",
       "  </tbody>\n",
       "</table>\n",
       "</div>"
      ],
      "text/plain": [
       "     mean              method       sem  size\n",
       "3    0.16      Random\\nSearch  0.074833  1000\n",
       "9    0.96  Electron\\nCounting  0.177764  1000\n",
       "32   2.84                DMSP  0.531288  1000\n",
       "15   3.64      Ward,\\nonly QH  0.355340  1000\n",
       "21   7.64     Ward,\\nall OQMD  0.450481  1000\n",
       "27  11.08       Faber\\nMethod  0.856193  1000"
      ]
     },
     "execution_count": 26,
     "metadata": {},
     "output_type": "execute_result"
    }
   ],
   "source": [
    "results.query('size == 1000').sort_values('mean')"
   ]
  },
  {
   "cell_type": "code",
   "execution_count": 27,
   "metadata": {},
   "outputs": [
    {
     "data": {
      "text/html": [
       "<div>\n",
       "<style scoped>\n",
       "    .dataframe tbody tr th:only-of-type {\n",
       "        vertical-align: middle;\n",
       "    }\n",
       "\n",
       "    .dataframe tbody tr th {\n",
       "        vertical-align: top;\n",
       "    }\n",
       "\n",
       "    .dataframe thead th {\n",
       "        text-align: right;\n",
       "    }\n",
       "</style>\n",
       "<table border=\"1\" class=\"dataframe\">\n",
       "  <thead>\n",
       "    <tr style=\"text-align: right;\">\n",
       "      <th></th>\n",
       "      <th>mean</th>\n",
       "      <th>method</th>\n",
       "      <th>sem</th>\n",
       "      <th>size</th>\n",
       "    </tr>\n",
       "  </thead>\n",
       "  <tbody>\n",
       "    <tr>\n",
       "      <th>4</th>\n",
       "      <td>0.08</td>\n",
       "      <td>Random\\nSearch</td>\n",
       "      <td>0.055377</td>\n",
       "      <td>10000</td>\n",
       "    </tr>\n",
       "    <tr>\n",
       "      <th>10</th>\n",
       "      <td>0.64</td>\n",
       "      <td>Electron\\nCounting</td>\n",
       "      <td>0.127541</td>\n",
       "      <td>10000</td>\n",
       "    </tr>\n",
       "    <tr>\n",
       "      <th>16</th>\n",
       "      <td>11.28</td>\n",
       "      <td>Ward,\\nonly QH</td>\n",
       "      <td>0.581722</td>\n",
       "      <td>10000</td>\n",
       "    </tr>\n",
       "    <tr>\n",
       "      <th>22</th>\n",
       "      <td>11.68</td>\n",
       "      <td>Ward,\\nall OQMD</td>\n",
       "      <td>0.599222</td>\n",
       "      <td>10000</td>\n",
       "    </tr>\n",
       "    <tr>\n",
       "      <th>33</th>\n",
       "      <td>12.48</td>\n",
       "      <td>DMSP</td>\n",
       "      <td>0.630132</td>\n",
       "      <td>10000</td>\n",
       "    </tr>\n",
       "    <tr>\n",
       "      <th>28</th>\n",
       "      <td>14.04</td>\n",
       "      <td>Faber\\nMethod</td>\n",
       "      <td>0.777775</td>\n",
       "      <td>10000</td>\n",
       "    </tr>\n",
       "  </tbody>\n",
       "</table>\n",
       "</div>"
      ],
      "text/plain": [
       "     mean              method       sem   size\n",
       "4    0.08      Random\\nSearch  0.055377  10000\n",
       "10   0.64  Electron\\nCounting  0.127541  10000\n",
       "16  11.28      Ward,\\nonly QH  0.581722  10000\n",
       "22  11.68     Ward,\\nall OQMD  0.599222  10000\n",
       "33  12.48                DMSP  0.630132  10000\n",
       "28  14.04       Faber\\nMethod  0.777775  10000"
      ]
     },
     "execution_count": 27,
     "metadata": {},
     "output_type": "execute_result"
    }
   ],
   "source": [
    "results.query('size == 10000').sort_values('mean')"
   ]
  },
  {
   "cell_type": "code",
   "execution_count": 28,
   "metadata": {},
   "outputs": [
    {
     "data": {
      "text/html": [
       "<div>\n",
       "<style scoped>\n",
       "    .dataframe tbody tr th:only-of-type {\n",
       "        vertical-align: middle;\n",
       "    }\n",
       "\n",
       "    .dataframe tbody tr th {\n",
       "        vertical-align: top;\n",
       "    }\n",
       "\n",
       "    .dataframe thead th {\n",
       "        text-align: right;\n",
       "    }\n",
       "</style>\n",
       "<table border=\"1\" class=\"dataframe\">\n",
       "  <thead>\n",
       "    <tr style=\"text-align: right;\">\n",
       "      <th></th>\n",
       "      <th>mean</th>\n",
       "      <th>method</th>\n",
       "      <th>sem</th>\n",
       "      <th>size</th>\n",
       "    </tr>\n",
       "  </thead>\n",
       "  <tbody>\n",
       "    <tr>\n",
       "      <th>5</th>\n",
       "      <td>0.12</td>\n",
       "      <td>Random\\nSearch</td>\n",
       "      <td>0.066332</td>\n",
       "      <td>75000</td>\n",
       "    </tr>\n",
       "    <tr>\n",
       "      <th>11</th>\n",
       "      <td>0.72</td>\n",
       "      <td>Electron\\nCounting</td>\n",
       "      <td>0.187261</td>\n",
       "      <td>75000</td>\n",
       "    </tr>\n",
       "    <tr>\n",
       "      <th>34</th>\n",
       "      <td>18.44</td>\n",
       "      <td>DMSP</td>\n",
       "      <td>0.580460</td>\n",
       "      <td>75000</td>\n",
       "    </tr>\n",
       "    <tr>\n",
       "      <th>23</th>\n",
       "      <td>31.68</td>\n",
       "      <td>Ward,\\nall OQMD</td>\n",
       "      <td>0.828090</td>\n",
       "      <td>75000</td>\n",
       "    </tr>\n",
       "    <tr>\n",
       "      <th>17</th>\n",
       "      <td>31.96</td>\n",
       "      <td>Ward,\\nonly QH</td>\n",
       "      <td>0.769155</td>\n",
       "      <td>75000</td>\n",
       "    </tr>\n",
       "  </tbody>\n",
       "</table>\n",
       "</div>"
      ],
      "text/plain": [
       "     mean              method       sem   size\n",
       "5    0.12      Random\\nSearch  0.066332  75000\n",
       "11   0.72  Electron\\nCounting  0.187261  75000\n",
       "34  18.44                DMSP  0.580460  75000\n",
       "23  31.68     Ward,\\nall OQMD  0.828090  75000\n",
       "17  31.96      Ward,\\nonly QH  0.769155  75000"
      ]
     },
     "execution_count": 28,
     "metadata": {},
     "output_type": "execute_result"
    }
   ],
   "source": [
    "results.query('size == 75000').sort_values('mean')"
   ]
  },
  {
   "cell_type": "markdown",
   "metadata": {},
   "source": [
    "## Plot the Results\n",
    "Make a plot with error bars"
   ]
  },
  {
   "cell_type": "markdown",
   "metadata": {},
   "source": [
    "Define the plot styles"
   ]
  },
  {
   "cell_type": "code",
   "execution_count": 29,
   "metadata": {},
   "outputs": [],
   "source": [
    "plot_style = dict([(method, {'linestyle': '--', 'marker': 'o', 'color': 'b',}) for method in raw_data.keys()])"
   ]
  },
  {
   "cell_type": "code",
   "execution_count": 30,
   "metadata": {},
   "outputs": [],
   "source": [
    "plot_style['Random\\nSearch']['color'] = 'k'\n",
    "plot_style['Electron\\nCounting']['color'] = 'grey'\n",
    "\n",
    "plot_style['Ward,\\nonly QH']['marker'] = 's'\n",
    "plot_style['Ward,\\nall OQMD']['marker'] = 's'\n",
    "plot_style['Ward,\\nall OQMD']['linestyle'] = '-'\n",
    "\n",
    "plot_style['Faber\\nMethod']['color'] = 'r'\n",
    "plot_style['Faber\\nMethod']['marker'] = 'v'\n",
    "plot_style['Faber\\nMethod']['linestyle'] = '-'\n",
    "\n",
    "plot_style['DMSP']['linestyle'] = ':'\n",
    "plot_style['DMSP']['marker'] = '^'\n",
    "plot_style['DMSP']['color'] = 'green'"
   ]
  },
  {
   "cell_type": "markdown",
   "metadata": {},
   "source": [
    "Make a lookup table for shorter names"
   ]
  },
  {
   "cell_type": "code",
   "execution_count": 31,
   "metadata": {},
   "outputs": [],
   "source": [
    "method_name = dict([(m,m.replace('\\n', ' ')) for m in raw_data.keys()])"
   ]
  },
  {
   "cell_type": "code",
   "execution_count": 32,
   "metadata": {},
   "outputs": [],
   "source": [
    "method_name['Random\\nSearch'] = 'Random'\n",
    "method_name['Electron\\nCounting'] = 'Heuristic'\n",
    "method_name['Ward,\\nonly QH'] = 'Ward, QH'\n",
    "method_name['Ward,\\nall OQMD'] = 'Ward'\n",
    "method_name['Faber\\nMethod'] = 'Faber'"
   ]
  },
  {
   "cell_type": "markdown",
   "metadata": {},
   "source": [
    "Make the plot"
   ]
  },
  {
   "cell_type": "code",
   "execution_count": 37,
   "metadata": {},
   "outputs": [
    {
     "data": {
      "image/png": "[encoded data removed]",
      "text/plain": [
       "<matplotlib.figure.Figure at 0x7ff973341fd0>"
      ]
     },
     "metadata": {},
     "output_type": "display_data"
    }
   ],
   "source": [
    "fig, ax = plt.subplots()\n",
    "\n",
    "for method in raw_data.keys():\n",
    "    my_results = results[results['method'] == method]\n",
    "    ax.errorbar(my_results['size'], my_results['mean'], yerr=my_results['sem'],\n",
    "                label=method_name[method], **plot_style[method])\n",
    "\n",
    "ax.set_xscale('log')\n",
    "ax.set_ylim(min(ax.get_ylim()), 35)\n",
    "\n",
    "ax.legend(ncol=2, fontsize=font_size*0.75, loc='upper left',\n",
    "          labelspacing=0.1, columnspacing=0.2,\n",
    "          facecolor='w', framealpha=1)\n",
    "\n",
    "ax.set_ylabel('Stable QHs Found', fontsize=font_size)\n",
    "ax.set_xlabel('Training Set Size', fontsize=font_size)\n",
    "\n",
    "fig.set_size_inches(plot_width, plot_height)\n",
    "fig.tight_layout()\n",
    "fig.savefig('search-method-comparison.png', dpi=320)\n",
    "fig.savefig('search-method-comparison.pdf')"
   ]
  },
  {
   "cell_type": "code",
   "execution_count": null,
   "metadata": {
    "collapsed": true
   },
   "outputs": [],
   "source": []
  }
 ],
 "metadata": {
  "kernelspec": {
   "display_name": "Python 3",
   "language": "python",
   "name": "python3"
  },
  "language_info": {
   "codemirror_mode": {
    "name": "ipython",
    "version": 3
   },
   "file_extension": ".py",
   "mimetype": "text/x-python",
   "name": "python",
   "nbconvert_exporter": "python",
   "pygments_lexer": "ipython3",
   "version": "3.6.3"
  }
 },
 "nbformat": 4,
 "nbformat_minor": 2
}
