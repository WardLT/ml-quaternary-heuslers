{
 "cells": [
  {
   "cell_type": "markdown",
   "metadata": {},
   "source": [
    "# Ward Representation, Faber Algorithm\n",
    "Use Ward _et al_ representation and Faber's machine learning algorithm"
   ]
  },
  {
   "cell_type": "code",
   "execution_count": 1,
   "metadata": {
    "collapsed": true
   },
   "outputs": [],
   "source": [
    "%matplotlib inline\n",
    "from matplotlib import pyplot as plt\n",
    "from multiprocessing import Pool\n",
    "from pymatgen import Element, Composition\n",
    "from pymatgen.io.vasp.outputs import Poscar\n",
    "from scipy import stats\n",
    "from sklearn.base import RegressorMixin\n",
    "from sklearn.model_selection import train_test_split\n",
    "from sklearn.preprocessing import StandardScaler\n",
    "from sklearn.feature_selection import RFE\n",
    "from sklearn.ensemble import RandomForestRegressor\n",
    "from tqdm import tqdm_notebook as tqdm\n",
    "import pandas as pd\n",
    "import numpy as np\n",
    "import itertools\n",
    "import gzip\n",
    "import json\n",
    "import os"
   ]
  },
  {
   "cell_type": "code",
   "execution_count": 2,
   "metadata": {
    "collapsed": true
   },
   "outputs": [],
   "source": [
    "train_size = 1000\n",
    "test_size = 20000\n",
    "n_repeats = 25\n",
    "pick_size = 50"
   ]
  },
  {
   "cell_type": "markdown",
   "metadata": {},
   "source": [
    "## The Data\n",
    "Load in a JSON file, compute the elements"
   ]
  },
  {
   "cell_type": "code",
   "execution_count": 3,
   "metadata": {
    "collapsed": true
   },
   "outputs": [],
   "source": [
    "qh_data = json.load(open(os.path.join('..','datasets','quat-heuslers.json')))"
   ]
  },
  {
   "cell_type": "code",
   "execution_count": 4,
   "metadata": {
    "collapsed": true
   },
   "outputs": [],
   "source": [
    "qh_data = pd.DataFrame(qh_data['entries'])"
   ]
  },
  {
   "cell_type": "markdown",
   "metadata": {},
   "source": [
    "Get the elements"
   ]
  },
  {
   "cell_type": "code",
   "execution_count": 5,
   "metadata": {
    "collapsed": true
   },
   "outputs": [],
   "source": [
    "qh_data['elems'] = [list(Composition(x).keys()) for x in qh_data['composition']]"
   ]
  },
  {
   "cell_type": "code",
   "execution_count": 6,
   "metadata": {},
   "outputs": [
    {
     "name": "stdout",
     "output_type": "stream",
     "text": [
      "54 elements in space\n"
     ]
    }
   ],
   "source": [
    "qh_elements = list(set(sum([x for x in qh_data['elems'] if x is not None], [])))\n",
    "print('%d elements in space'%len(qh_elements))"
   ]
  },
  {
   "cell_type": "markdown",
   "metadata": {},
   "source": [
    "Get the stability"
   ]
  },
  {
   "cell_type": "code",
   "execution_count": 7,
   "metadata": {
    "collapsed": true
   },
   "outputs": [],
   "source": [
    "qh_data['stability'] = [x['measured'] for x in qh_data['class']]"
   ]
  },
  {
   "cell_type": "markdown",
   "metadata": {},
   "source": [
    "## The Algorithm\n",
    "This is just the algorithm from `faber-method.ipynb`, but modified to use the Ward *et al* Voronoi features. It also includes the ability to use Random-Forest-based feature selection."
   ]
  },
  {
   "cell_type": "code",
   "execution_count": 8,
   "metadata": {
    "collapsed": true
   },
   "outputs": [],
   "source": [
    "class FaberFitter(RegressorMixin):\n",
    "    \n",
    "    def __init__(self, sigma=1, reg_elems=1e-6, reg_dist=1e-6, feature_selection=False):\n",
    "        self.sigma = sigma\n",
    "        self.reg_elems = reg_elems\n",
    "        self.reg_dist = reg_dist\n",
    "        self.fs = feature_selection\n",
    "    \n",
    "    def _compute_elem_inputs(self, X):\n",
    "        output = np.zeros((len(X), len(qh_elements)))\n",
    "        for i,x in enumerate(X):\n",
    "            for e in x:\n",
    "                output[i,qh_elements.index(e)] = 1\n",
    "        return output\n",
    "   \n",
    "    def _compute_row(self, x):\n",
    "        return [np.linalg.norm(np.subtract(y,x)) for y in self.train_set]\n",
    "        \n",
    "    def _compute_dist_matrix(self, X, fit_scale=False, y=None):\n",
    "        # Convert data to array\n",
    "        X = np.array(X.tolist())\n",
    "        if fit_scale:\n",
    "            # Fit scale and features\n",
    "            self.scaler = StandardScaler().fit(self.train_set)\n",
    "            self.train_set = list(self.scaler.transform(self.train_set))\n",
    "            \n",
    "            # Fit features\n",
    "            if self.fs:\n",
    "                self.rfe = RFE(RandomForestRegressor(), 32, 0.3).fit(self.train_set, y)\n",
    "                self.train_set = list(self.rfe.transform(self.train_set))\n",
    "            \n",
    "        # Scale data\n",
    "        X = self.scaler.transform(X)\n",
    "        \n",
    "        # Feature seelction\n",
    "        if self.fs:\n",
    "            X = self.rfe.transform(X)\n",
    "        \n",
    "        # Compute the distance matrix in parallel\n",
    "        with Pool(None) as p:\n",
    "            dists = p.map(self._compute_row, X)\n",
    "        return np.array(dists)\n",
    "    \n",
    "    def fit(self, X, y):\n",
    "        self.train_set = X['attributes'].tolist()\n",
    "        elems = self._compute_elem_inputs(X['elems'])\n",
    "        dist = self._compute_dist_matrix(X['attributes'], y=y, fit_scale=True)\n",
    "        \n",
    "        return self._fit(elems, dist, y)\n",
    "    \n",
    "    def tune_and_fit(self, X, y, X_test, y_test, sigmas=np.logspace(0, 8, 8), \n",
    "                    reg_elems=np.logspace(-6,2,8), reg_dist=np.logspace(-6,2,8)):\n",
    "        # Precompute distance matrices\n",
    "        self.train_set = X['attributes'].tolist()\n",
    "        elems = self._compute_elem_inputs(X['elems'])\n",
    "        dist = self._compute_dist_matrix(X['attributes'], y=y, fit_scale=True)\n",
    "        \n",
    "        elems_test = self._compute_elem_inputs(X_test['elems'])\n",
    "        dists_test = self._compute_dist_matrix(X_test['attributes'])\n",
    "        \n",
    "        # Optimize the parameters\n",
    "        best_params = []\n",
    "        best_score = np.inf\n",
    "        for s,e,d in tqdm(list(itertools.product(sigmas, reg_elems, reg_dist)), leave=False):\n",
    "            # Fit the model\n",
    "            self.sigma = s\n",
    "            self.reg_elems = e\n",
    "            self.reg_dist = d\n",
    "            self._fit(elems, dist, y)\n",
    "            \n",
    "            # Test the model\n",
    "            y_pred = self._predict(elems_test, dists_test)\n",
    "            score = np.mean(np.power(y_pred - y_test, 2))\n",
    "            if score < best_score:\n",
    "                best_params = (s,e,d)\n",
    "                best_score = score\n",
    "                \n",
    "        # Set the best parameters\n",
    "        self.sigma = best_params[0]\n",
    "        self.reg_elems = best_params[1]\n",
    "        self.reg_dist = best_params[2]\n",
    "        self._fit(elems, dist, y)\n",
    "    \n",
    "    def _fit(self, elem_matrix, dist_matrix, y):\n",
    "        # Remove the element contributions\n",
    "        self.elem_coeff = np.linalg.solve(\n",
    "            np.dot(elem_matrix.T, elem_matrix) + np.eye(len(qh_elements)) * self.reg_elems, np.dot(elem_matrix.T, y)\n",
    "        )\n",
    "        y_p = y - np.dot(elem_matrix, self.elem_coeff)\n",
    "        \n",
    "        # Solve the kernel matrix\n",
    "        kernl = np.exp(-1 * dist_matrix / self.sigma)\n",
    "        self.coeff = np.linalg.solve(kernl + np.eye(*kernl.shape) * self.reg_dist, y_p)\n",
    "        return self\n",
    "    \n",
    "    def predict(self, X):\n",
    "        elems = self._compute_elem_inputs(X['elems'])\n",
    "        dists = self._compute_dist_matrix(X['attributes'])\n",
    "        return self._predict(elems, dists)\n",
    "        \n",
    "    def _predict(self, elems, dists):\n",
    "        kernl = np.exp(-1 * dists / self.sigma)\n",
    "        return np.dot(elems, self.elem_coeff) + np.dot(kernl, self.coeff)"
   ]
  },
  {
   "cell_type": "markdown",
   "metadata": {},
   "source": [
    "## Make sure the models works\n",
    "We want to see a reasonable $R^2$"
   ]
  },
  {
   "cell_type": "code",
   "execution_count": 9,
   "metadata": {
    "collapsed": true
   },
   "outputs": [],
   "source": [
    "train_data, test_data = train_test_split(qh_data, train_size=train_size, test_size=train_size)"
   ]
  },
  {
   "cell_type": "code",
   "execution_count": 10,
   "metadata": {},
   "outputs": [
    {
     "data": {
      "application/vnd.jupyter.widget-view+json": {
       "model_id": "67ae98b3cbab4e3a8d07f452bb7d5d31",
       "version_major": 2,
       "version_minor": 0
      },
      "text/html": [
       "<p>Failed to display Jupyter Widget of type <code>HBox</code>.</p>\n",
       "<p>\n",
       "  If you're reading this message in the Jupyter Notebook or JupyterLab Notebook, it may mean\n",
       "  that the widgets JavaScript is still loading. If this message persists, it\n",
       "  likely means that the widgets JavaScript library is either not installed or\n",
       "  not enabled. See the <a href=\"https://ipywidgets.readthedocs.io/en/stable/user_install.html\">Jupyter\n",
       "  Widgets Documentation</a> for setup instructions.\n",
       "</p>\n",
       "<p>\n",
       "  If you're reading this message in another frontend (for example, a static\n",
       "  rendering on GitHub or <a href=\"https://nbviewer.jupyter.org/\">NBViewer</a>),\n",
       "  it may mean that your frontend doesn't currently support widgets.\n",
       "</p>\n"
      ],
      "text/plain": [
       "HBox(children=(IntProgress(value=0, max=512), HTML(value='')))"
      ]
     },
     "metadata": {},
     "output_type": "display_data"
    },
    {
     "name": "stdout",
     "output_type": "stream",
     "text": [
      "\r"
     ]
    }
   ],
   "source": [
    "model = FaberFitter(feature_selection=True)\n",
    "model.tune_and_fit(train_data, train_data['stability'], test_data, test_data['stability'])"
   ]
  },
  {
   "cell_type": "code",
   "execution_count": 11,
   "metadata": {},
   "outputs": [
    {
     "name": "stdout",
     "output_type": "stream",
     "text": [
      "Best sigma: 2682.69579528\n"
     ]
    }
   ],
   "source": [
    "print('Best sigma:', model.sigma)"
   ]
  },
  {
   "cell_type": "code",
   "execution_count": 12,
   "metadata": {
    "collapsed": true
   },
   "outputs": [],
   "source": [
    "predictions = model.predict(test_data)"
   ]
  },
  {
   "cell_type": "code",
   "execution_count": 13,
   "metadata": {},
   "outputs": [
    {
     "name": "stdout",
     "output_type": "stream",
     "text": [
      "R: 0.863017708632\n"
     ]
    },
    {
     "data": {
      "text/plain": [
       "Text(0,0.5,'Stability, ML (eV/atom)')"
      ]
     },
     "execution_count": 13,
     "metadata": {},
     "output_type": "execute_result"
    },
    {
     "data": {
      "image/png": "[encoded data removed]",
      "text/plain": [
       "<matplotlib.figure.Figure at 0x7f5e00540c18>"
      ]
     },
     "metadata": {},
     "output_type": "display_data"
    }
   ],
   "source": [
    "fig, ax = plt.subplots()\n",
    "\n",
    "ax.scatter(test_data['stability'], predictions)\n",
    "print('R:', np.corrcoef(predictions, test_data['stability'])[0][1])\n",
    "\n",
    "ax.set_xlim(ax.get_ylim())\n",
    "ax.set_ylim(ax.get_ylim())\n",
    "\n",
    "ax.plot(ax.get_xlim(), ax.get_ylim(), 'k--')\n",
    "\n",
    "ax.set_xlabel('Stability, DFT (eV/atom)')\n",
    "ax.set_ylabel('Stability, ML (eV/atom)')"
   ]
  },
  {
   "cell_type": "markdown",
   "metadata": {},
   "source": [
    "## Do the CV Test"
   ]
  },
  {
   "cell_type": "code",
   "execution_count": 14,
   "metadata": {
    "collapsed": true
   },
   "outputs": [],
   "source": [
    "def run_test(i):\n",
    "    train_data, test_data = train_test_split(qh_data, train_size=train_size, test_size=test_size, random_state=i)\n",
    "    \n",
    "    model.fit(train_data, train_data['stability'])\n",
    "    test_data = test_data.copy()\n",
    "    test_data['prediction'] = model.predict(test_data)\n",
    "    test_data.sort_values('prediction', ascending=True, inplace=True)\n",
    "    return sum(test_data['stability'].iloc[:pick_size] <= 0)"
   ]
  },
  {
   "cell_type": "code",
   "execution_count": 15,
   "metadata": {},
   "outputs": [
    {
     "data": {
      "application/vnd.jupyter.widget-view+json": {
       "model_id": "ee55f9fb466c4095b0280274b658d652",
       "version_major": 2,
       "version_minor": 0
      },
      "text/html": [
       "<p>Failed to display Jupyter Widget of type <code>HBox</code>.</p>\n",
       "<p>\n",
       "  If you're reading this message in the Jupyter Notebook or JupyterLab Notebook, it may mean\n",
       "  that the widgets JavaScript is still loading. If this message persists, it\n",
       "  likely means that the widgets JavaScript library is either not installed or\n",
       "  not enabled. See the <a href=\"https://ipywidgets.readthedocs.io/en/stable/user_install.html\">Jupyter\n",
       "  Widgets Documentation</a> for setup instructions.\n",
       "</p>\n",
       "<p>\n",
       "  If you're reading this message in another frontend (for example, a static\n",
       "  rendering on GitHub or <a href=\"https://nbviewer.jupyter.org/\">NBViewer</a>),\n",
       "  it may mean that your frontend doesn't currently support widgets.\n",
       "</p>\n"
      ],
      "text/plain": [
       "HBox(children=(IntProgress(value=0, max=25), HTML(value='')))"
      ]
     },
     "metadata": {},
     "output_type": "display_data"
    },
    {
     "name": "stdout",
     "output_type": "stream",
     "text": [
      "\n"
     ]
    }
   ],
   "source": [
    "scores = [run_test(i) for i in tqdm(range(n_repeats))]"
   ]
  },
  {
   "cell_type": "code",
   "execution_count": 16,
   "metadata": {},
   "outputs": [
    {
     "name": "stdout",
     "output_type": "stream",
     "text": [
      "6.12 +/- 0.437111732474\n"
     ]
    }
   ],
   "source": [
    "print(np.mean(scores), '+/-', stats.sem(scores))"
   ]
  },
  {
   "cell_type": "markdown",
   "metadata": {},
   "source": [
    "## CV Test without Feature Selection"
   ]
  },
  {
   "cell_type": "code",
   "execution_count": 17,
   "metadata": {},
   "outputs": [
    {
     "data": {
      "application/vnd.jupyter.widget-view+json": {
       "model_id": "d7da5e72e8d844f2aef8d414bd98d97e",
       "version_major": 2,
       "version_minor": 0
      },
      "text/html": [
       "<p>Failed to display Jupyter Widget of type <code>HBox</code>.</p>\n",
       "<p>\n",
       "  If you're reading this message in the Jupyter Notebook or JupyterLab Notebook, it may mean\n",
       "  that the widgets JavaScript is still loading. If this message persists, it\n",
       "  likely means that the widgets JavaScript library is either not installed or\n",
       "  not enabled. See the <a href=\"https://ipywidgets.readthedocs.io/en/stable/user_install.html\">Jupyter\n",
       "  Widgets Documentation</a> for setup instructions.\n",
       "</p>\n",
       "<p>\n",
       "  If you're reading this message in another frontend (for example, a static\n",
       "  rendering on GitHub or <a href=\"https://nbviewer.jupyter.org/\">NBViewer</a>),\n",
       "  it may mean that your frontend doesn't currently support widgets.\n",
       "</p>\n"
      ],
      "text/plain": [
       "HBox(children=(IntProgress(value=0, max=512), HTML(value='')))"
      ]
     },
     "metadata": {},
     "output_type": "display_data"
    },
    {
     "name": "stdout",
     "output_type": "stream",
     "text": [
      "\r"
     ]
    }
   ],
   "source": [
    "model = FaberFitter()\n",
    "model.tune_and_fit(train_data, train_data['stability'], test_data, test_data['stability'])"
   ]
  },
  {
   "cell_type": "code",
   "execution_count": 18,
   "metadata": {},
   "outputs": [
    {
     "name": "stdout",
     "output_type": "stream",
     "text": [
      "Best sigma: 193.069772888\n"
     ]
    }
   ],
   "source": [
    "print('Best sigma:', model.sigma)"
   ]
  },
  {
   "cell_type": "code",
   "execution_count": 19,
   "metadata": {
    "collapsed": true
   },
   "outputs": [],
   "source": [
    "def run_test(i):\n",
    "    train_data, test_data = train_test_split(qh_data, train_size=train_size, test_size=test_size, random_state=i)\n",
    "    \n",
    "    model.fit(train_data, train_data['stability'])\n",
    "    test_data = test_data.copy()\n",
    "    test_data['prediction'] = model.predict(test_data)\n",
    "    test_data.sort_values('prediction', ascending=True, inplace=True)\n",
    "    return sum(test_data['stability'].iloc[:pick_size] <= 0)"
   ]
  },
  {
   "cell_type": "code",
   "execution_count": 20,
   "metadata": {},
   "outputs": [
    {
     "data": {
      "application/vnd.jupyter.widget-view+json": {
       "model_id": "d34e37826804490fb1564db5c34dacc1",
       "version_major": 2,
       "version_minor": 0
      },
      "text/html": [
       "<p>Failed to display Jupyter Widget of type <code>HBox</code>.</p>\n",
       "<p>\n",
       "  If you're reading this message in the Jupyter Notebook or JupyterLab Notebook, it may mean\n",
       "  that the widgets JavaScript is still loading. If this message persists, it\n",
       "  likely means that the widgets JavaScript library is either not installed or\n",
       "  not enabled. See the <a href=\"https://ipywidgets.readthedocs.io/en/stable/user_install.html\">Jupyter\n",
       "  Widgets Documentation</a> for setup instructions.\n",
       "</p>\n",
       "<p>\n",
       "  If you're reading this message in another frontend (for example, a static\n",
       "  rendering on GitHub or <a href=\"https://nbviewer.jupyter.org/\">NBViewer</a>),\n",
       "  it may mean that your frontend doesn't currently support widgets.\n",
       "</p>\n"
      ],
      "text/plain": [
       "HBox(children=(IntProgress(value=0, max=25), HTML(value='')))"
      ]
     },
     "metadata": {},
     "output_type": "display_data"
    },
    {
     "name": "stdout",
     "output_type": "stream",
     "text": [
      "\n",
      "5.12 +/- 0.452106182218\n"
     ]
    }
   ],
   "source": [
    "scores = [run_test(i) for i in tqdm(range(n_repeats))]\n",
    "print(np.mean(scores), '+/-', stats.sem(scores))"
   ]
  },
  {
   "cell_type": "code",
   "execution_count": 21,
   "metadata": {},
   "outputs": [
    {
     "name": "stdout",
     "output_type": "stream",
     "text": [
      "5.12 +/- 0.452106182218\n"
     ]
    }
   ],
   "source": [
    "print(np.mean(scores), '+/-', stats.sem(scores))"
   ]
  },
  {
   "cell_type": "code",
   "execution_count": 22,
   "metadata": {
    "collapsed": true
   },
   "outputs": [],
   "source": []
  }
 ],
 "metadata": {
  "kernelspec": {
   "display_name": "Python 3",
   "language": "python",
   "name": "python3"
  },
  "language_info": {
   "codemirror_mode": {
    "name": "ipython",
    "version": 3
   },
   "file_extension": ".py",
   "mimetype": "text/x-python",
   "name": "python",
   "nbconvert_exporter": "python",
   "pygments_lexer": "ipython3",
   "version": "3.6.0"
  }
 },
 "nbformat": 4,
 "nbformat_minor": 2
}
