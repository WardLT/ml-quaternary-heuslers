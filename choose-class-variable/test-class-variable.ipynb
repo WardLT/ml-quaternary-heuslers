{
 "cells": [
  {
   "cell_type": "markdown",
   "metadata": {},
   "source": [
    "# Choosing a Class Variable\n",
    "When predicting the stability of a compound, there are a few properties that can be used interchangably to assess stability. One option is to first is to predict the formation enthalpy of the material, and then compute the stabilty by measuring the difference between that value and the formation enthalpies of all other known compounds. Or, you could predict the stability directly. In this notebook, we compare the two approaches"
   ]
  },
  {
   "cell_type": "code",
   "execution_count": 1,
   "metadata": {},
   "outputs": [
    {
     "name": "stderr",
     "output_type": "stream",
     "text": [
      "/home/wardlt/software/scikit-learn/sklearn/ensemble/weight_boosting.py:29: DeprecationWarning: numpy.core.umath_tests is an internal NumPy module and should not be imported. It will be removed in a future NumPy release.\n",
      "  from numpy.core.umath_tests import inner1d\n"
     ]
    }
   ],
   "source": [
    "%matplotlib inline\n",
    "from matplotlib import pyplot as plt\n",
    "from tqdm import tqdm_notebook as tqdm\n",
    "from sklearn.pipeline import Pipeline\n",
    "from sklearn.preprocessing import Imputer\n",
    "from sklearn.ensemble import RandomForestRegressor\n",
    "from sklearn.model_selection import train_test_split\n",
    "from sklearn import metrics\n",
    "from scipy.stats import kendalltau, bayes_mvs\n",
    "import numpy as np\n",
    "import pandas as pd\n",
    "import json\n",
    "import os"
   ]
  },
  {
   "cell_type": "markdown",
   "metadata": {},
   "source": [
    "Key variables"
   ]
  },
  {
   "cell_type": "code",
   "execution_count": 2,
   "metadata": {
    "collapsed": true
   },
   "outputs": [],
   "source": [
    "n_repeats = 25 # Number of times you repeat the CV test\n",
    "n_steps = 8 # Number of sizes of QH dataset to use for training set\n",
    "test_fraction = 0.1 # Fraction of QH dataset to withhold as test set"
   ]
  },
  {
   "cell_type": "markdown",
   "metadata": {},
   "source": [
    "## Load in the Data\n",
    "Read in the data from JSON to get the training and test sets"
   ]
  },
  {
   "cell_type": "code",
   "execution_count": 3,
   "metadata": {
    "collapsed": true
   },
   "outputs": [],
   "source": [
    "def load_data(path):\n",
    "    \"\"\"Read in a JSON file from disk, and return the inputs and outputs\"\"\"\n",
    "    \n",
    "    temp = json.load(open(path))\n",
    "    de_id = [x['name'] for x in temp['properties']].index('delta_e')\n",
    "    X = np.array([x['attributes'] for x in temp['entries']], dtype=np.float32)\n",
    "    stability = np.array([x['class']['measured'] for x in temp['entries']], dtype=np.float32)\n",
    "    delta_e = np.array([x['properties'][de_id]['measured'] for x in temp['entries']], dtype=np.float32)\n",
    "    return X, {'stability': stability, 'delta_e': delta_e}"
   ]
  },
  {
   "cell_type": "markdown",
   "metadata": {},
   "source": [
    "Load in the Quaternary Heusler dataset"
   ]
  },
  {
   "cell_type": "code",
   "execution_count": 4,
   "metadata": {},
   "outputs": [
    {
     "name": "stdout",
     "output_type": "stream",
     "text": [
      "Read in 96188 QH entries\n"
     ]
    }
   ],
   "source": [
    "qh_X, qh_y = load_data(os.path.join('..', 'datasets', 'quat-heuslers.json'))\n",
    "print('Read in %d QH entries'%len(qh_X))"
   ]
  },
  {
   "cell_type": "markdown",
   "metadata": {},
   "source": [
    "Load in the ternary Heusler dataset"
   ]
  },
  {
   "cell_type": "code",
   "execution_count": 5,
   "metadata": {},
   "outputs": [
    {
     "name": "stdout",
     "output_type": "stream",
     "text": [
      "Read in 184094 ternary Heusler entries\n"
     ]
    }
   ],
   "source": [
    "th_X, th_y = load_data(os.path.join('..', 'datasets', 'heuslers.json'))\n",
    "print('Read in %d ternary Heusler entries'%len(th_X))"
   ]
  },
  {
   "cell_type": "markdown",
   "metadata": {},
   "source": [
    "Load in everything else from the OQMD"
   ]
  },
  {
   "cell_type": "code",
   "execution_count": 6,
   "metadata": {},
   "outputs": [
    {
     "name": "stdout",
     "output_type": "stream",
     "text": [
      "Read in 145866 entries from the rest of the OQMD\n"
     ]
    }
   ],
   "source": [
    "oqmd_X, oqmd_y= load_data(os.path.join('..', 'datasets', 'oqmd-no-heusler.json'))\n",
    "print('Read in %d entries from the rest of the OQMD'%len(oqmd_X))"
   ]
  },
  {
   "cell_type": "markdown",
   "metadata": {},
   "source": [
    "## Run the Test\n",
    "Our test is basically a random split cross-validation test. We first split off a chunk of the QH dataset to use as a test set. Then, we train a model on the remaining QH data and the rest of the OQMD. We then test the performance when using formation enthalpy and stability as the output variable. We repeat this test multiple times with different QH hold-out sets."
   ]
  },
  {
   "cell_type": "code",
   "execution_count": 7,
   "metadata": {
    "collapsed": true
   },
   "outputs": [],
   "source": [
    "model = Pipeline([\n",
    "    ('imputer', Imputer()),\n",
    "    ('rf', RandomForestRegressor(n_estimators=100, n_jobs=-1)),\n",
    "])"
   ]
  },
  {
   "cell_type": "code",
   "execution_count": 8,
   "metadata": {
    "collapsed": true
   },
   "outputs": [],
   "source": [
    "test_size = int(test_fraction * len(qh_X))"
   ]
  },
  {
   "cell_type": "code",
   "execution_count": 9,
   "metadata": {
    "collapsed": true
   },
   "outputs": [],
   "source": [
    "def run_test(train_X, train_Y, test_X, test_Y, label):\n",
    "    model.fit(train_X, train_Y)\n",
    "    pred_Y = model.predict(test_X)\n",
    "    R = metrics.r2_score(test_Y, pred_Y)\n",
    "    MAE = metrics.mean_absolute_error(test_Y, pred_Y)\n",
    "    MSE = metrics.mean_squared_error(test_Y, pred_Y)\n",
    "    tau = kendalltau(test_Y, pred_Y)\n",
    "    return {'label': label, 'R2': R, \n",
    "            'MAE': MAE, 'MSE': MSE, 'tau': tau.correlation}"
   ]
  },
  {
   "cell_type": "code",
   "execution_count": 10,
   "metadata": {
    "collapsed": true
   },
   "outputs": [],
   "source": [
    "results = [] # Holds dictionaries with each result"
   ]
  },
  {
   "cell_type": "code",
   "execution_count": 11,
   "metadata": {},
   "outputs": [
    {
     "name": "stderr",
     "output_type": "stream",
     "text": [
      "Widget Javascript not detected.  It may not be installed or enabled properly.\n"
     ]
    },
    {
     "data": {
      "application/vnd.jupyter.widget-view+json": {
       "model_id": "918eb877074d491b92ef36a35c0a90c9"
      }
     },
     "metadata": {},
     "output_type": "display_data"
    },
    {
     "name": "stdout",
     "output_type": "stream",
     "text": [
      "\n"
     ]
    }
   ],
   "source": [
    "for rep in tqdm(range(n_repeats), desc='Repeat'):\n",
    "    for l in ['delta_e', 'stability']:\n",
    "        # Get the hold out set for the QHs\n",
    "        train_X, test_X, train_y, test_y = train_test_split(qh_X, qh_y[l], test_size=test_size, random_state=rep)\n",
    "\n",
    "        # Append the OQMD and TH training data\n",
    "        train_X = np.vstack([train_X, oqmd_X])\n",
    "        train_X = np.vstack([train_X, th_X])\n",
    "\n",
    "        train_y = np.hstack([train_y, oqmd_y[l]])\n",
    "        train_y = np.hstack([train_y, th_y[l]])\n",
    "\n",
    "        # Run the test\n",
    "        results.append(run_test(train_X, train_y, test_X, test_y, l))"
   ]
  },
  {
   "cell_type": "code",
   "execution_count": 12,
   "metadata": {
    "collapsed": true
   },
   "outputs": [],
   "source": [
    "test_results = pd.DataFrame(results)"
   ]
  },
  {
   "cell_type": "code",
   "execution_count": 13,
   "metadata": {
    "collapsed": true
   },
   "outputs": [],
   "source": [
    "test_results.to_csv('test_results.csv', index=False)"
   ]
  }
 ],
 "metadata": {
  "kernelspec": {
   "display_name": "Python 3",
   "language": "python",
   "name": "python3"
  },
  "language_info": {
   "codemirror_mode": {
    "name": "ipython",
    "version": 3
   },
   "file_extension": ".py",
   "mimetype": "text/x-python",
   "name": "python",
   "nbconvert_exporter": "python",
   "pygments_lexer": "ipython3",
   "version": "3.6.0"
  }
 },
 "nbformat": 4,
 "nbformat_minor": 2
}
