{
 "cells": [
  {
   "cell_type": "markdown",
   "metadata": {},
   "source": [
    "# Choosing a Training Set\n",
    "\n",
    "We have a few possible options for what data to use to train our machine learning model. Given that we have already evaluated ~90k different quaternary Heusler (QH) compounds, we could certainly train a machine learning model on just QH data. \n",
    "Using only QH data means that our taining set is focused on the kinds of predictions we want to make (stability of QHs), but we could also supplement the dataset with data regarding other types of compounds.\n",
    "While adding in data from the rest of the OQMD increases our training set size, it might also introduce a lot of data that is irrelevent to predicting the properties of Heuslers.\n",
    "Or, there is a third option: training the model on both QHs and similar, ternary Heusler compounds.\n",
    "In this notebook, we attempt to determine which training set is the best choice."
   ]
  },
  {
   "cell_type": "code",
   "execution_count": 1,
   "metadata": {
    "collapsed": true
   },
   "outputs": [],
   "source": [
    "%matplotlib inline\n",
    "from matplotlib import pyplot as plt\n",
    "from tqdm import tqdm_notebook as tqdm\n",
    "from sklearn.pipeline import Pipeline\n",
    "from sklearn.preprocessing import Imputer\n",
    "from sklearn.ensemble import RandomForestRegressor\n",
    "from sklearn.model_selection import train_test_split\n",
    "from sklearn import metrics\n",
    "from scipy.stats import kendalltau, bayes_mvs\n",
    "import numpy as np\n",
    "import pandas as pd\n",
    "import json\n",
    "import os"
   ]
  },
  {
   "cell_type": "markdown",
   "metadata": {},
   "source": [
    "Key variables"
   ]
  },
  {
   "cell_type": "code",
   "execution_count": 2,
   "metadata": {
    "collapsed": true
   },
   "outputs": [],
   "source": [
    "n_repeats = 5 # Number of times you repeat the CV test\n",
    "n_steps = 8 # Number of sizes of QH dataset to use for training set\n",
    "test_fraction = 0.1 # Fraction of QH dataset to withhold as test set"
   ]
  },
  {
   "cell_type": "markdown",
   "metadata": {},
   "source": [
    "## Load in the Data\n",
    "Read in the data from JSON to get the training and test sets"
   ]
  },
  {
   "cell_type": "code",
   "execution_count": 3,
   "metadata": {
    "collapsed": true
   },
   "outputs": [],
   "source": [
    "def load_data(path):\n",
    "    \"\"\"Read in a JSON file from disk, and return the inputs and outputs\"\"\"\n",
    "    \n",
    "    temp = json.load(open(path))\n",
    "    X = np.array([x['attributes'] for x in temp['entries']], dtype=np.float32)\n",
    "    y = np.array([x['class']['measured'] for x in temp['entries']], dtype=np.float32)\n",
    "    return X, y"
   ]
  },
  {
   "cell_type": "markdown",
   "metadata": {},
   "source": [
    "Load in the Quaternary Heusler dataset"
   ]
  },
  {
   "cell_type": "code",
   "execution_count": 4,
   "metadata": {},
   "outputs": [
    {
     "name": "stdout",
     "output_type": "stream",
     "text": [
      "Read in 96188 QH entries\n"
     ]
    }
   ],
   "source": [
    "qh_X, qh_y = load_data(os.path.join('..', 'datasets', 'quat-heuslers.json'))\n",
    "print('Read in %d QH entries'%len(qh_X))"
   ]
  },
  {
   "cell_type": "markdown",
   "metadata": {},
   "source": [
    "Load in the ternary Heusler dataset"
   ]
  },
  {
   "cell_type": "code",
   "execution_count": 5,
   "metadata": {},
   "outputs": [
    {
     "name": "stdout",
     "output_type": "stream",
     "text": [
      "Read in 184094 ternary Heusler entries\n"
     ]
    }
   ],
   "source": [
    "th_X, th_y = load_data(os.path.join('..', 'datasets', 'heuslers.json'))\n",
    "print('Read in %d ternary Heusler entries'%len(th_X))"
   ]
  },
  {
   "cell_type": "markdown",
   "metadata": {},
   "source": [
    "Load in everything else from the OQMD"
   ]
  },
  {
   "cell_type": "code",
   "execution_count": 6,
   "metadata": {},
   "outputs": [
    {
     "name": "stdout",
     "output_type": "stream",
     "text": [
      "Read in 145866 entries from the rest of the OQMD\n"
     ]
    }
   ],
   "source": [
    "oqmd_X, oqmd_y = load_data(os.path.join('..', 'datasets', 'oqmd-no-heusler.json'))\n",
    "print('Read in %d entries from the rest of the OQMD'%len(oqmd_X))"
   ]
  },
  {
   "cell_type": "markdown",
   "metadata": {},
   "source": [
    "## Run the Test\n",
    "Our test is basically a random split cross-validation test. We first split off a chunk of the QH dataset to use as a test set. Then, we train a model on progressively larger amounts of the remainding data and measure the model performance. The unique part of this test is we measure the effect of adding different datasets (e.g., the TH and OQMD datasets) "
   ]
  },
  {
   "cell_type": "code",
   "execution_count": 7,
   "metadata": {
    "collapsed": true
   },
   "outputs": [],
   "source": [
    "model = Pipeline([\n",
    "    ('imputer', Imputer()),\n",
    "    ('rf', RandomForestRegressor(n_estimators=100, n_jobs=-1)),\n",
    "])"
   ]
  },
  {
   "cell_type": "code",
   "execution_count": 8,
   "metadata": {
    "collapsed": true
   },
   "outputs": [],
   "source": [
    "test_size = int(test_fraction * len(qh_X))"
   ]
  },
  {
   "cell_type": "code",
   "execution_count": null,
   "metadata": {
    "collapsed": true
   },
   "outputs": [],
   "source": [
    "def run_test(train_X, train_Y, test_X, test_Y, label, qh_size):\n",
    "    model.fit(train_X, train_Y)\n",
    "    pred_Y = model.predict(test_X)\n",
    "    R = metrics.r2_score(test_Y, pred_Y)\n",
    "    MAE = metrics.mean_absolute_error(test_Y, pred_Y)\n",
    "    MSE = metrics.mean_squared_error(test_Y, pred_Y)\n",
    "    tau = kendalltau(test_Y, pred_Y)\n",
    "    return {'label': label, 'qh_size': qh_size, 'R2': R, \n",
    "            'MAE': MAE, 'MSE': MSE, 'tau': tau.correlation}"
   ]
  },
  {
   "cell_type": "code",
   "execution_count": null,
   "metadata": {
    "collapsed": true
   },
   "outputs": [],
   "source": [
    "results = [] # Holds dictionaries with each result"
   ]
  },
  {
   "cell_type": "code",
   "execution_count": null,
   "metadata": {},
   "outputs": [
    {
     "name": "stderr",
     "output_type": "stream",
     "text": [
      "Widget Javascript not detected.  It may not be installed or enabled properly.\n"
     ]
    },
    {
     "data": {
      "application/vnd.jupyter.widget-view+json": {
       "model_id": "1eabee9cbc1542f7aa4a1b424c671c1a"
      }
     },
     "metadata": {},
     "output_type": "display_data"
    },
    {
     "name": "stderr",
     "output_type": "stream",
     "text": [
      "Widget Javascript not detected.  It may not be installed or enabled properly.\n"
     ]
    },
    {
     "data": {
      "application/vnd.jupyter.widget-view+json": {
       "model_id": "6230f42bdf7c49f6b7dd26b91212d611"
      }
     },
     "metadata": {},
     "output_type": "display_data"
    },
    {
     "name": "stderr",
     "output_type": "stream",
     "text": [
      "/home/wardlt/software/scikit-learn/sklearn/model_selection/_split.py:2026: FutureWarning: From version 0.21, test_size will always complement train_size unless both are specified.\n",
      "  FutureWarning)\n",
      "/home/wardlt/software/scikit-learn/sklearn/model_selection/_split.py:2026: FutureWarning: From version 0.21, test_size will always complement train_size unless both are specified.\n",
      "  FutureWarning)\n",
      "/home/wardlt/software/scikit-learn/sklearn/model_selection/_split.py:2026: FutureWarning: From version 0.21, test_size will always complement train_size unless both are specified.\n",
      "  FutureWarning)\n",
      "/home/wardlt/software/scikit-learn/sklearn/model_selection/_split.py:2026: FutureWarning: From version 0.21, test_size will always complement train_size unless both are specified.\n",
      "  FutureWarning)\n",
      "/home/wardlt/software/scikit-learn/sklearn/model_selection/_split.py:2026: FutureWarning: From version 0.21, test_size will always complement train_size unless both are specified.\n",
      "  FutureWarning)\n",
      "/home/wardlt/software/scikit-learn/sklearn/model_selection/_split.py:2026: FutureWarning: From version 0.21, test_size will always complement train_size unless both are specified.\n",
      "  FutureWarning)\n"
     ]
    }
   ],
   "source": [
    "for rep in tqdm(range(n_repeats), desc='Repeat'):\n",
    "    # Get a new test set from the QH compounds, store remainder as train\n",
    "    pool_X, test_X, pool_Y, test_Y = train_test_split(qh_X, qh_y, test_size=test_size)\n",
    "\n",
    "    # Gradually increase size of training set\n",
    "    for qh_size in tqdm(np.logspace(0, np.log10(len(pool_X)), n_steps, dtype=np.int), desc='Size', leave=False):\n",
    "        # Randomly draw entries from the pool of data to serve as a training set\n",
    "        train_X, _, train_Y, _ = train_test_split(pool_X, pool_Y, train_size=qh_size)\n",
    "        \n",
    "        # Train a model using only the QH data\n",
    "        results.append(run_test(train_X, train_Y, test_X, test_Y, 'QH', qh_size))\n",
    "        \n",
    "        # Train a model using the QH+TH data\n",
    "        train_X = np.vstack([train_X, th_X])\n",
    "        train_Y = np.concatenate([train_Y, th_y])\n",
    "        results.append(run_test(train_X, train_Y, test_X, test_Y, 'QH+TH', qh_size))\n",
    "        \n",
    "        # Run and score it\n",
    "        train_X = np.vstack([train_X, oqmd_X])\n",
    "        train_Y = np.concatenate([train_Y, oqmd_y])\n",
    "        results.append(run_test(train_X, train_Y, test_X, test_Y, 'All OQMD', qh_size))"
   ]
  },
  {
   "cell_type": "code",
   "execution_count": 14,
   "metadata": {
    "collapsed": true
   },
   "outputs": [],
   "source": [
    "test_results = pd.DataFrame(results)"
   ]
  },
  {
   "cell_type": "code",
   "execution_count": 50,
   "metadata": {
    "collapsed": true
   },
   "outputs": [],
   "source": [
    "test_results.to_csv('test_results.csv', index=False)"
   ]
  },
  {
   "cell_type": "code",
   "execution_count": 21,
   "metadata": {},
   "outputs": [
    {
     "data": {
      "text/plain": [
       "nan"
      ]
     },
     "execution_count": 21,
     "metadata": {},
     "output_type": "execute_result"
    }
   ],
   "source": [
    "test_results['tau'][0].correlation"
   ]
  },
  {
   "cell_type": "markdown",
   "metadata": {},
   "source": [
    "## Analyze the Results\n",
    "First determine confidence intervals, and then plot the accuracy as a function of training set size"
   ]
  },
  {
   "cell_type": "code",
   "execution_count": 30,
   "metadata": {
    "collapsed": true
   },
   "outputs": [],
   "source": [
    "test_results['tau'] = test_results['tau'].apply(lambda x: x.correlation)"
   ]
  },
  {
   "cell_type": "code",
   "execution_count": 33,
   "metadata": {
    "collapsed": true
   },
   "outputs": [],
   "source": [
    "results_with_ci = []\n",
    "for (label, qh_size), group in test_results.groupby(['label', 'qh_size']):\n",
    "    row = {'label': label, 'qh_size': qh_size}\n",
    "    for stat in ['MAE', 'MSE', 'R2', 'tau']:\n",
    "        mean, _, _ = bayes_mvs(group[stat], alpha=0.95)\n",
    "        row[stat] = mean[0]\n",
    "        row['%s_ci'%stat] = np.mean(np.abs(mean[1] - mean[0]))\n",
    "    results_with_ci.append(row)\n",
    "results_with_ci = pd.DataFrame(results_with_ci)"
   ]
  },
  {
   "cell_type": "code",
   "execution_count": 51,
   "metadata": {
    "collapsed": true
   },
   "outputs": [],
   "source": [
    "results_with_ci.to_csv('test_results_with_ci.csv', index=False)"
   ]
  },
  {
   "cell_type": "code",
   "execution_count": 44,
   "metadata": {},
   "outputs": [
    {
     "data": {
      "image/png": "[encoded data removed]",
      "text/plain": [
       "<matplotlib.figure.Figure at 0x7fd013c7ff98>"
      ]
     },
     "metadata": {},
     "output_type": "display_data"
    }
   ],
   "source": [
    "fig, ax = plt.subplots()\n",
    "\n",
    "for g in ['QH', 'QH+TH', 'All OQMD']:\n",
    "    group = results_with_ci.query('label == \"%s\"'%g)\n",
    "    ax.errorbar(group['qh_size'], group['MAE'], label=g, yerr=group['MAE_ci'], marker='o', ms=3)\n",
    "    \n",
    "ax.set_xscale('log')\n",
    "\n",
    "ax.legend()\n",
    "\n",
    "ax.set_xlabel('Training Set Size')\n",
    "ax.set_ylabel('MAE (eV/atom)')\n",
    "\n",
    "fig.tight_layout()\n",
    "fig.savefig('mae_plot.png', dpi=320)\n",
    "fig.savefig('mae_plot.pdf')"
   ]
  },
  {
   "cell_type": "code",
   "execution_count": 47,
   "metadata": {},
   "outputs": [
    {
     "data": {
      "image/png": "[encoded data removed]",
      "text/plain": [
       "<matplotlib.figure.Figure at 0x7fd0237d8898>"
      ]
     },
     "metadata": {},
     "output_type": "display_data"
    }
   ],
   "source": [
    "fig, ax = plt.subplots()\n",
    "\n",
    "for g in ['QH', 'QH+TH', 'All OQMD']:\n",
    "    group = results_with_ci.query('label == \"%s\"'%g)\n",
    "    ax.errorbar(group['qh_size'], group['tau'], label=g, yerr=group['tau_ci'], marker='o', ms=3)\n",
    "    \n",
    "ax.set_xscale('log')\n",
    "\n",
    "ax.legend()\n",
    "\n",
    "ax.set_xlabel('Training Set Size')\n",
    "ax.set_ylabel('Kendall Tau')\n",
    "ax.set_ylim(min(ax.get_ylim()), 1)\n",
    "\n",
    "fig.tight_layout()\n",
    "fig.savefig('tau_plot.png', dpi=320)\n",
    "fig.savefig('tau_plot.pdf')"
   ]
  },
  {
   "cell_type": "markdown",
   "metadata": {},
   "source": [
    "*Finding*: Training on the entire OQMD yields the best results for most training set sizes. At the largest training set size (show below), the QH-only model does perform slightly better"
   ]
  },
  {
   "cell_type": "code",
   "execution_count": 49,
   "metadata": {},
   "outputs": [
    {
     "data": {
      "text/html": [
       "<div>\n",
       "<style>\n",
       "    .dataframe thead tr:only-child th {\n",
       "        text-align: right;\n",
       "    }\n",
       "\n",
       "    .dataframe thead th {\n",
       "        text-align: left;\n",
       "    }\n",
       "\n",
       "    .dataframe tbody tr th {\n",
       "        vertical-align: top;\n",
       "    }\n",
       "</style>\n",
       "<table border=\"1\" class=\"dataframe\">\n",
       "  <thead>\n",
       "    <tr style=\"text-align: right;\">\n",
       "      <th></th>\n",
       "      <th>MAE</th>\n",
       "      <th>MAE_ci</th>\n",
       "      <th>MSE</th>\n",
       "      <th>MSE_ci</th>\n",
       "      <th>R2</th>\n",
       "      <th>R2_ci</th>\n",
       "      <th>label</th>\n",
       "      <th>qh_size</th>\n",
       "      <th>tau</th>\n",
       "      <th>tau_ci</th>\n",
       "    </tr>\n",
       "  </thead>\n",
       "  <tbody>\n",
       "    <tr>\n",
       "      <th>15</th>\n",
       "      <td>0.037145</td>\n",
       "      <td>0.000494</td>\n",
       "      <td>0.003930</td>\n",
       "      <td>0.000267</td>\n",
       "      <td>0.959599</td>\n",
       "      <td>0.003533</td>\n",
       "      <td>QH</td>\n",
       "      <td>86569</td>\n",
       "      <td>0.894889</td>\n",
       "      <td>0.001031</td>\n",
       "    </tr>\n",
       "    <tr>\n",
       "      <th>7</th>\n",
       "      <td>0.039512</td>\n",
       "      <td>0.000251</td>\n",
       "      <td>0.004270</td>\n",
       "      <td>0.000300</td>\n",
       "      <td>0.956100</td>\n",
       "      <td>0.003926</td>\n",
       "      <td>All OQMD</td>\n",
       "      <td>86569</td>\n",
       "      <td>0.887759</td>\n",
       "      <td>0.001253</td>\n",
       "    </tr>\n",
       "    <tr>\n",
       "      <th>23</th>\n",
       "      <td>0.040283</td>\n",
       "      <td>0.000346</td>\n",
       "      <td>0.004547</td>\n",
       "      <td>0.000261</td>\n",
       "      <td>0.953269</td>\n",
       "      <td>0.003534</td>\n",
       "      <td>QH+TH</td>\n",
       "      <td>86569</td>\n",
       "      <td>0.886850</td>\n",
       "      <td>0.000834</td>\n",
       "    </tr>\n",
       "  </tbody>\n",
       "</table>\n",
       "</div>"
      ],
      "text/plain": [
       "         MAE    MAE_ci       MSE    MSE_ci        R2     R2_ci     label  \\\n",
       "15  0.037145  0.000494  0.003930  0.000267  0.959599  0.003533        QH   \n",
       "7   0.039512  0.000251  0.004270  0.000300  0.956100  0.003926  All OQMD   \n",
       "23  0.040283  0.000346  0.004547  0.000261  0.953269  0.003534     QH+TH   \n",
       "\n",
       "    qh_size       tau    tau_ci  \n",
       "15    86569  0.894889  0.001031  \n",
       "7     86569  0.887759  0.001253  \n",
       "23    86569  0.886850  0.000834  "
      ]
     },
     "execution_count": 49,
     "metadata": {},
     "output_type": "execute_result"
    }
   ],
   "source": [
    "results_with_ci.query('qh_size == %d'%max(results_with_ci['qh_size'])).sort_values('MAE')"
   ]
  },
  {
   "cell_type": "code",
   "execution_count": null,
   "metadata": {
    "collapsed": true
   },
   "outputs": [],
   "source": []
  }
 ],
 "metadata": {
  "kernelspec": {
   "display_name": "Python 3",
   "language": "python",
   "name": "python3"
  },
  "language_info": {
   "codemirror_mode": {
    "name": "ipython",
    "version": 3
   },
   "file_extension": ".py",
   "mimetype": "text/x-python",
   "name": "python",
   "nbconvert_exporter": "python",
   "pygments_lexer": "ipython3",
   "version": "3.6.0"
  }
 },
 "nbformat": 4,
 "nbformat_minor": 2
}
